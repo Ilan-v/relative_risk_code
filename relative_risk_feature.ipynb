{
 "cells": [
  {
   "cell_type": "code",
   "execution_count": 1,
   "metadata": {
    "collapsed": false,
    "pycharm": {
     "name": "#%%\n"
    }
   },
   "outputs": [],
   "source": [
    "import pandas as pd\n",
    "import numpy as np\n",
    "import pickle as pkl\n",
    "import matplotlib.pyplot as plt\n",
    "import plotly.express as px\n",
    "from scipy import stats\n",
    "%matplotlib inline"
   ]
  },
  {
   "cell_type": "markdown",
   "metadata": {
    "collapsed": false,
    "pycharm": {
     "name": "#%% md\n"
    }
   },
   "source": [
    "# Loading Data"
   ]
  },
  {
   "cell_type": "code",
   "execution_count": 2,
   "metadata": {
    "collapsed": false,
    "pycharm": {
     "name": "#%%\n"
    }
   },
   "outputs": [],
   "source": [
    "label_df = pd.read_csv('')\n",
    "q_df = pd.read_csv('')"
   ]
  },
  {
   "cell_type": "code",
   "execution_count": 3,
   "metadata": {
    "collapsed": false,
    "pycharm": {
     "name": "#%%\n"
    }
   },
   "outputs": [],
   "source": [
    "symptom_cols = ['abdominal_pain', 'back_or_neck_pain', 'chest_pain',\n",
    "                'chills', 'cold', 'confusion', 'cough', 'diarrhea', 'dizziness',\n",
    "                'dyspnea', 'ear_pain', 'fast_heartbeat', 'feel_heat',\n",
    "                'hand_muscles_pain', 'headache', 'healthy',\n",
    "                'heat_over_37_5', 'hypertension', 'leg_pain', 'muscles_pain', 'other',\n",
    "                'sore_throat', 'taste_smell', 'vomiting', 'weakness']\n",
    "symp_cols_without_healthy = [x for x in symptom_cols if x not in ['healthy']]"
   ]
  },
  {
   "cell_type": "code",
   "execution_count": 4,
   "metadata": {
    "collapsed": false,
    "pycharm": {
     "name": "#%%\n"
    }
   },
   "outputs": [
    {
     "data": {
      "text/plain": [
       "Index(['participant_num', 'result', 'check_datehour'], dtype='object')"
      ]
     },
     "execution_count": 4,
     "metadata": {},
     "output_type": "execute_result"
    }
   ],
   "source": [
    "label_df.columns"
   ]
  },
  {
   "cell_type": "markdown",
   "metadata": {
    "collapsed": false,
    "pycharm": {
     "name": "#%% md\n"
    }
   },
   "source": [
    "# Creating dataframes for each period"
   ]
  },
  {
   "cell_type": "code",
   "execution_count": 5,
   "metadata": {
    "collapsed": false,
    "pycharm": {
     "name": "#%%\n"
    }
   },
   "outputs": [],
   "source": [
    "# Difference between q date and check date\n",
    "def combine_q_and_label(input_q,input_label):\n",
    "    quest_df = input_q.copy()\n",
    "    label_df_copy = input_label.copy()\n",
    "    q_and_label_df = quest_df.merge(label_df_copy,how='inner',on='participant_num')\n",
    "    q_and_label_df['quest_creation_timestamp'] = pd.to_datetime(q_and_label_df['quest_creation_timestamp'])\n",
    "    q_and_label_df['check_datehour'] = pd.to_datetime(q_and_label_df['check_datehour'])\n",
    "    q_and_label_df['days_delta'] = (q_and_label_df['quest_creation_timestamp']-q_and_label_df['check_datehour']).dt.days\n",
    "    return q_and_label_df\n",
    "    "
   ]
  },
  {
   "cell_type": "code",
   "execution_count": 6,
   "metadata": {
    "collapsed": false,
    "pycharm": {
     "name": "#%%\n"
    }
   },
   "outputs": [],
   "source": [
    "def get_splitted_df(input_df,baseline_days_to_include,sick_period_days,sick=True):\n",
    "    df = input_df.copy()\n",
    "    df = df[df['days_delta'].between(-baseline_days_to_include-sick_period_days,sick_period_days)]\n",
    "    if sick:\n",
    "        sick_df = df[df['result']==1]\n",
    "        label_period_df = sick_df[sick_df['days_delta'].between(-sick_period_days,sick_period_days)]\n",
    "        baseline_df = sick_df[sick_df['days_delta'].between(-baseline_days_to_include,-sick_period_days-1)]\n",
    "    else:\n",
    "        healthy_df = df[df['result']==0]\n",
    "        label_period_df = healthy_df[healthy_df['days_delta'].between(-sick_period_days,sick_period_days)]\n",
    "        baseline_df = healthy_df[healthy_df['days_delta'].between(-baseline_days_to_include,-sick_period_days-1)]\n",
    "\n",
    "    return {'label_period':label_period_df, 'baseline':baseline_df}"
   ]
  },
  {
   "cell_type": "markdown",
   "metadata": {
    "collapsed": false,
    "pycharm": {
     "name": "#%% md\n"
    }
   },
   "source": [
    "# Participant-wise relative risk"
   ]
  },
  {
   "cell_type": "code",
   "execution_count": 7,
   "metadata": {
    "collapsed": false,
    "pycharm": {
     "name": "#%%\n"
    }
   },
   "outputs": [],
   "source": [
    "agg_dic = {'total_q':('participant_num','count')}\n",
    "for col in symptom_cols:\n",
    "    agg_dic[col] = (col,np.sum)"
   ]
  },
  {
   "cell_type": "code",
   "execution_count": 8,
   "metadata": {
    "collapsed": false,
    "pycharm": {
     "name": "#%%\n"
    }
   },
   "outputs": [],
   "source": [
    "def get_symp_names(row,cols,ignore_index):\n",
    "    \"\"\"\n",
    "    For each participant, create list of symptoms that appeared in desired period \n",
    "    row: row in dataframe\n",
    "    cols: list of symptom names\n",
    "    ignore_index: index of healthy column\n",
    "    \"\"\"\n",
    "    i = 0\n",
    "    symptoms = []\n",
    "    for val in row:\n",
    "        if val>0 and i!= ignore_index:\n",
    "            symptoms.append(cols[i])\n",
    "        i+=1\n",
    "    return symptoms"
   ]
  },
  {
   "cell_type": "code",
   "execution_count": 9,
   "metadata": {
    "collapsed": false,
    "pycharm": {
     "name": "#%%\n"
    }
   },
   "outputs": [],
   "source": [
    "def get_symp_occurance(input_df,include_symp_lst=False) -> pd.DataFrame:\n",
    "    \"\"\"\n",
    "    Return Dataframe with symptoms occurrence count and list of symptoms that appeared at least once\n",
    "    input_df: raw Dataframe of questionnaires\n",
    "    include_symp_lst: boolean flag to include symptom lst in dataframe\n",
    "    \"\"\"\n",
    "    # Perform aggregation per participant\n",
    "    df = input_df.copy()\n",
    "    grouped_df = df.groupby('participant_num').agg(**agg_dic).reset_index()\n",
    "    # Dataframe with columns of symptoms only\n",
    "    temp_symp_df = grouped_df[symptom_cols].copy()\n",
    "    healthy_index = symptom_cols.index('healthy')\n",
    "    # Get list of symptoms that appeared at least once\n",
    "    if include_symp_lst:\n",
    "        grouped_df['symptoms']= temp_symp_df.apply(lambda x: get_symp_names(x,symptom_cols,ignore_index=healthy_index),axis=1)\n",
    "        grouped_df['num_symptoms'] = grouped_df['symptoms'].apply(lambda x: len(x))\n",
    "    \n",
    "    return grouped_df"
   ]
  },
  {
   "cell_type": "code",
   "execution_count": 10,
   "metadata": {
    "collapsed": false,
    "pycharm": {
     "name": "#%%\n"
    }
   },
   "outputs": [],
   "source": [
    "def exclusive_func(row):\n",
    "    \"\"\"\n",
    "    Return 1 only if no symptom was shown\n",
    "    row: binary vector representing symptoms\n",
    "    return: 1 if sum is 0, 0 otherwise.\n",
    "    \"\"\"\n",
    "    if row.sum() ==0:\n",
    "        return 1\n",
    "    else:\n",
    "        return 0"
   ]
  },
  {
   "cell_type": "code",
   "execution_count": 11,
   "metadata": {
    "collapsed": false,
    "pycharm": {
     "name": "#%%\n"
    }
   },
   "outputs": [],
   "source": [
    "def get_percentile_score(x,col):\n",
    "    return stats.percentileofscore(col,x)/100"
   ]
  },
  {
   "cell_type": "code",
   "execution_count": 12,
   "metadata": {
    "collapsed": false,
    "pycharm": {
     "name": "#%%\n"
    }
   },
   "outputs": [],
   "source": [
    "def get_relative_risk_per_symp(label_period_df,baseline_df,method,full_output = False):\n",
    "    lp_df = label_period_df.copy()\n",
    "    base_df = baseline_df.copy()\n",
    "    # get symptom occurence (num of symptoms appeared per participant)\n",
    "    lp_grouped = get_symp_occurance(lp_df)\n",
    "    base_grouped = get_symp_occurance(base_df)\n",
    "\n",
    "    # count healthy only if it was exclusive in label period\n",
    "    lp_grouped['exclusive_healthy'] = lp_grouped[symp_cols_without_healthy].apply(lambda x:exclusive_func(x),axis=1)\n",
    "    lp_grouped.drop(columns=['healthy'],inplace=True)\n",
    "    lp_grouped.rename(columns={'exclusive_healthy':'healthy'},inplace=True)\n",
    "    \n",
    "    #flatten baseline per participant\n",
    "    if method == 'prop':\n",
    "        for s in symptom_cols:\n",
    "            if s == 'healthy':\n",
    "                base_grouped[s] = base_grouped[s]/base_grouped['total_q']\n",
    "            else:\n",
    "                base_grouped[s] = base_grouped[s]/(base_grouped['total_q'] - base_grouped['healthy'])\n",
    "    elif method == 'quantile':\n",
    "        for s in symptom_cols:\n",
    "            temp_col = base_grouped[s]\n",
    "            base_grouped[s] = base_grouped[s].apply(lambda x: get_percentile_score(x,temp_col))\n",
    "    #reset index to participant num - makes furhter analysis easier\n",
    "    lp_grouped = lp_grouped.set_index('participant_num')[symptom_cols]\n",
    "    base_grouped = base_grouped.set_index('participant_num')[symptom_cols]\n",
    "\n",
    "    # binary occurence for label period\n",
    "    lp_grouped.where(lp_grouped==0,1,inplace=True)\n",
    "    \n",
    "    #calculate relative risk\n",
    "    rr_df  = lp_grouped.sub(base_grouped)\n",
    "    symp_rr = rr_df.mean().sort_values()\n",
    "    if full_output:\n",
    "        return {'relative_risk':symp_rr,\n",
    "                'label_period':lp_grouped,\n",
    "                'baseline':base_grouped}\n",
    "    else:\n",
    "        return symp_rr"
   ]
  },
  {
   "cell_type": "markdown",
   "metadata": {
    "collapsed": false,
    "pycharm": {
     "name": "#%% md\n"
    }
   },
   "source": [
    "# Comparing healthy and sick relative risk per symptom"
   ]
  },
  {
   "cell_type": "code",
   "execution_count": 13,
   "metadata": {
    "collapsed": false,
    "pycharm": {
     "name": "#%%\n"
    }
   },
   "outputs": [],
   "source": [
    "combined_df = combine_q_and_label(q_df,label_df)"
   ]
  },
  {
   "cell_type": "code",
   "execution_count": 14,
   "metadata": {
    "collapsed": false,
    "pycharm": {
     "name": "#%%\n"
    }
   },
   "outputs": [],
   "source": [
    "def get_symp_rr_diff(input_df,baseline_days_to_include,sick_period_days,method) -> pd.Series:\n",
    "    \"\"\"\n",
    "\n",
    "    input_df: raw pd.DataFrame of questionnaires data\n",
    "    baseline_days_to_include: how many days should be included in baseline defenition\n",
    "    sick_period_days: sick period window length\n",
    "    method: 'prop' for proportion of q's with any symptoms or quantile for percentile score\n",
    "    return: pd.Series of relative risk score for each symptom\n",
    "    \"\"\"\n",
    "    df = input_df.copy()\n",
    "    # get dataframes for label and baseline periods, splitted by positive or negative label\n",
    "    sick_dic = get_splitted_df(df,baseline_days_to_include,sick_period_days,True)\n",
    "    healthy_dic = get_splitted_df(df,baseline_days_to_include,sick_period_days,False)\n",
    "\n",
    "\n",
    "    # get symptom relative risk for sick and healthy participants\n",
    "    sick_symp_rr = get_relative_risk_per_symp(sick_dic['label_period'],sick_dic['baseline'],method)\n",
    "    healthy_symp_rr = get_relative_risk_per_symp(healthy_dic['label_period'],healthy_dic['baseline'], method)\n",
    "    \n",
    "    diff = sick_symp_rr/healthy_symp_rr\n",
    "    return diff.sort_values()"
   ]
  },
  {
   "cell_type": "markdown",
   "metadata": {
    "collapsed": false,
    "pycharm": {
     "name": "#%% md\n"
    }
   },
   "source": [
    "# Find most common symptoms"
   ]
  },
  {
   "cell_type": "code",
   "execution_count": 15,
   "metadata": {
    "collapsed": false,
    "pycharm": {
     "name": "#%%\n"
    }
   },
   "outputs": [],
   "source": [
    "def get_most_common_symptoms(input_df,baseline_days_to_include,sick_period_days,n_symptoms):\n",
    "    res = get_splitted_df(combined_df,baseline_days_to_include,sick_period_days)\n",
    "    label_p_df = res['label_period']\n",
    "    base_df = res['baseline']\n",
    "    label_symp_count = label_p_df[symptom_cols].sum()\n",
    "    base_symp_count = base_df[symptom_cols].sum()\n",
    "    symp_count = label_symp_count + base_symp_count\n",
    "    symp_count = symp_count.sort_values(ascending=False)\n",
    "    top_symps = symp_count[:n_symptoms].index\n",
    "    return top_symps"
   ]
  },
  {
   "cell_type": "markdown",
   "metadata": {
    "collapsed": false,
    "pycharm": {
     "name": "#%% md\n"
    }
   },
   "source": [
    "# Creating Feature\n",
    "calculating relative risk score for each questionnaire"
   ]
  },
  {
   "cell_type": "code",
   "execution_count": 16,
   "metadata": {
    "collapsed": false,
    "pycharm": {
     "name": "#%%\n"
    }
   },
   "outputs": [],
   "source": [
    "def calc_rr_score_sum(row,rr):\n",
    "    score = 0\n",
    "    for symp in rr.index:\n",
    "        score += rr[symp] * row[symp]\n",
    "    return score"
   ]
  },
  {
   "cell_type": "code",
   "execution_count": 17,
   "metadata": {
    "collapsed": false,
    "pycharm": {
     "name": "#%%\n"
    }
   },
   "outputs": [],
   "source": [
    "sick_period_days = 4\n",
    "baseline_days_to_include = 60"
   ]
  },
  {
   "cell_type": "code",
   "execution_count": 20,
   "metadata": {
    "collapsed": false,
    "pycharm": {
     "name": "#%%\n"
    }
   },
   "outputs": [],
   "source": [
    "from tqdm import tqdm"
   ]
  },
  {
   "cell_type": "code",
   "execution_count": 21,
   "metadata": {
    "collapsed": false,
    "pycharm": {
     "name": "#%%\n"
    }
   },
   "outputs": [
    {
     "name": "stderr",
     "output_type": "stream",
     "text": [
      "100%|██████████| 256275/256275 [00:42<00:00, 5984.54it/s]\n"
     ]
    }
   ],
   "source": [
    "top_symps = get_most_common_symptoms(combined_df,baseline_days_to_include,sick_period_days,10)\n",
    "rr_all = get_symp_rr_diff(combined_df,baseline_days_to_include,sick_period_days,'prop')\n",
    "rr = rr_all[top_symps]\n",
    "output_q_df = q_df.copy()\n",
    "tqdm.pandas()\n",
    "output_q_df['relative_risk_score'] = output_q_df.progress_apply(lambda x: calc_rr_score_sum(x,rr),axis=1)"
   ]
  },
  {
   "cell_type": "code",
   "execution_count": null,
   "metadata": {
    "collapsed": false,
    "pycharm": {
     "name": "#%%\n"
    }
   },
   "outputs": [],
   "source": [
    "# TODO: save output to relevant path\n",
    "# output_q_df.to_csv()"
   ]
  }
 ],
 "metadata": {
  "kernelspec": {
   "display_name": "Python 3.8.8 ('base')",
   "language": "python",
   "name": "python3"
  },
  "language_info": {
   "codemirror_mode": {
    "name": "ipython",
    "version": 3
   },
   "file_extension": ".py",
   "mimetype": "text/x-python",
   "name": "python",
   "nbconvert_exporter": "python",
   "pygments_lexer": "ipython3",
   "version": "3.8.8"
  },
  "orig_nbformat": 4,
  "vscode": {
   "interpreter": {
    "hash": "d0d24260c26781aab6a6247b3ae992ece4f26fd75ea3713b7a84756a27d5e272"
   }
  }
 },
 "nbformat": 4,
 "nbformat_minor": 2
}
