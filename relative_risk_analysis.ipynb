{
 "cells": [
  {
   "cell_type": "code",
   "execution_count": 1,
   "metadata": {
    "collapsed": false,
    "pycharm": {
     "name": "#%%\n"
    }
   },
   "outputs": [],
   "source": [
    "import pandas as pd\n",
    "import numpy as np\n",
    "import pickle as pkl\n",
    "import matplotlib.pyplot as plt\n",
    "import plotly.express as px\n",
    "from scipy import stats\n",
    "%matplotlib inline"
   ]
  },
  {
   "cell_type": "markdown",
   "metadata": {
    "collapsed": false,
    "pycharm": {
     "name": "#%% md\n"
    }
   },
   "source": [
    "# Loading Data"
   ]
  },
  {
   "cell_type": "code",
   "execution_count": 2,
   "metadata": {
    "collapsed": false,
    "pycharm": {
     "name": "#%%\n"
    }
   },
   "outputs": [],
   "source": [
    "label_df = pd.read_csv('')\n",
    "q_df = pd.read_csv('')"
   ]
  },
  {
   "cell_type": "code",
   "execution_count": 3,
   "metadata": {
    "collapsed": false,
    "pycharm": {
     "name": "#%%\n"
    }
   },
   "outputs": [],
   "source": [
    "symptom_cols = ['abdominal_pain', 'back_or_neck_pain', 'chest_pain',\n",
    "                'chills', 'cold', 'confusion', 'cough', 'diarrhea', 'dizziness',\n",
    "                'dyspnea', 'ear_pain', 'fast_heartbeat', 'feel_heat',\n",
    "                'hand_muscles_pain', 'headache', 'healthy',\n",
    "                'heat_over_37_5', 'hypertension', 'leg_pain', 'muscles_pain', 'other',\n",
    "                'sore_throat', 'taste_smell', 'vomiting', 'weakness']\n",
    "symp_cols_without_healthy = [x for x in symptom_cols if x not in ['healthy']]"
   ]
  },
  {
   "cell_type": "code",
   "execution_count": 4,
   "metadata": {
    "collapsed": false,
    "pycharm": {
     "name": "#%%\n"
    }
   },
   "outputs": [
    {
     "data": {
      "text/plain": [
       "Index(['participant_num', 'result', 'check_datehour'], dtype='object')"
      ]
     },
     "execution_count": 4,
     "metadata": {},
     "output_type": "execute_result"
    }
   ],
   "source": [
    "label_df.columns"
   ]
  },
  {
   "cell_type": "markdown",
   "metadata": {
    "collapsed": false,
    "pycharm": {
     "name": "#%% md\n"
    }
   },
   "source": [
    "# Creating dataframes for each period"
   ]
  },
  {
   "cell_type": "code",
   "execution_count": 5,
   "metadata": {
    "collapsed": false,
    "pycharm": {
     "name": "#%%\n"
    }
   },
   "outputs": [],
   "source": [
    "# Difference between q date and check date\n",
    "def combine_q_and_label(input_q,input_label):\n",
    "    quest_df = input_q.copy()\n",
    "    label_df_copy = input_label.copy()\n",
    "    q_and_label_df = quest_df.merge(label_df_copy,how='inner',on='participant_num')\n",
    "    q_and_label_df['quest_creation_timestamp'] = pd.to_datetime(q_and_label_df['quest_creation_timestamp'])\n",
    "    q_and_label_df['check_datehour'] = pd.to_datetime(q_and_label_df['check_datehour'])\n",
    "    q_and_label_df['days_delta'] = (q_and_label_df['quest_creation_timestamp']-q_and_label_df['check_datehour']).dt.days\n",
    "    return q_and_label_df\n",
    "    "
   ]
  },
  {
   "cell_type": "code",
   "execution_count": 6,
   "metadata": {
    "collapsed": false,
    "pycharm": {
     "name": "#%%\n"
    }
   },
   "outputs": [],
   "source": [
    "def get_splitted_df(input_df,baseline_days_to_include,sick_period_days,sick=True):\n",
    "    df = input_df.copy()\n",
    "    df = df[df['days_delta'].between(-baseline_days_to_include-sick_period_days,sick_period_days)]\n",
    "    if sick:\n",
    "        sick_df = df[df['result']==1]\n",
    "        label_period_df = sick_df[sick_df['days_delta'].between(-sick_period_days,sick_period_days)]\n",
    "        baseline_df = sick_df[sick_df['days_delta'].between(-baseline_days_to_include,-sick_period_days-1)]\n",
    "    else:\n",
    "        healthy_df = df[df['result']==0]\n",
    "        label_period_df = healthy_df[healthy_df['days_delta'].between(-sick_period_days,sick_period_days)]\n",
    "        baseline_df = healthy_df[healthy_df['days_delta'].between(-baseline_days_to_include,-sick_period_days-1)]\n",
    "\n",
    "    return {'label_period':label_period_df, 'baseline':baseline_df}"
   ]
  },
  {
   "cell_type": "markdown",
   "metadata": {
    "collapsed": false,
    "pycharm": {
     "name": "#%% md\n"
    }
   },
   "source": [
    "# Participant-wise relative risk"
   ]
  },
  {
   "cell_type": "code",
   "execution_count": 7,
   "metadata": {
    "collapsed": false,
    "pycharm": {
     "name": "#%%\n"
    }
   },
   "outputs": [],
   "source": [
    "agg_dic = {'total_q':('participant_num','count')}\n",
    "for col in symptom_cols:\n",
    "    agg_dic[col] = (col,np.sum)"
   ]
  },
  {
   "cell_type": "code",
   "execution_count": 8,
   "metadata": {
    "collapsed": false,
    "pycharm": {
     "name": "#%%\n"
    }
   },
   "outputs": [],
   "source": [
    "def get_symp_names(row,cols,ignore_index):\n",
    "    \"\"\"\n",
    "    For each participant, create list of symptoms that appeared in desired period \n",
    "    row: row in dataframe\n",
    "    cols: list of symptom names\n",
    "    ignore_index: index of healthy column\n",
    "    \"\"\"\n",
    "    i = 0\n",
    "    symptoms = []\n",
    "    for val in row:\n",
    "        if val>0 and i!= ignore_index:\n",
    "            symptoms.append(cols[i])\n",
    "        i+=1\n",
    "    return symptoms"
   ]
  },
  {
   "cell_type": "code",
   "execution_count": 9,
   "metadata": {
    "collapsed": false,
    "pycharm": {
     "name": "#%%\n"
    }
   },
   "outputs": [],
   "source": [
    "def get_symp_occurance(input_df,include_symp_lst=False) -> pd.DataFrame:\n",
    "    \"\"\"\n",
    "    Return Dataframe with symptoms occurrence count and list of symptoms that appeared at least once\n",
    "    input_df: raw Dataframe of questionnaires\n",
    "    include_symp_lst: boolean flag to include symptom lst in dataframe\n",
    "    \"\"\"\n",
    "    # Perform aggregation per participant\n",
    "    df = input_df.copy()\n",
    "    grouped_df = df.groupby('participant_num').agg(**agg_dic).reset_index()\n",
    "    # Dataframe with columns of symptoms only\n",
    "    temp_symp_df = grouped_df[symptom_cols].copy()\n",
    "    healthy_index = symptom_cols.index('healthy')\n",
    "    # Get list of symptoms that appeared at least once\n",
    "    if include_symp_lst:\n",
    "        grouped_df['symptoms']= temp_symp_df.apply(lambda x: get_symp_names(x,symptom_cols,ignore_index=healthy_index),axis=1)\n",
    "        grouped_df['num_symptoms'] = grouped_df['symptoms'].apply(lambda x: len(x))\n",
    "    \n",
    "    return grouped_df"
   ]
  },
  {
   "cell_type": "code",
   "execution_count": 10,
   "metadata": {
    "collapsed": false,
    "pycharm": {
     "name": "#%%\n"
    }
   },
   "outputs": [],
   "source": [
    "def exclusive_func(row):\n",
    "    \"\"\"\n",
    "    Return 1 only if no symptom was shown\n",
    "    row: binary vector representing symptoms\n",
    "    return: 1 if sum is 0, 0 otherwise.\n",
    "    \"\"\"\n",
    "    if row.sum() ==0:\n",
    "        return 1\n",
    "    else:\n",
    "        return 0"
   ]
  },
  {
   "cell_type": "code",
   "execution_count": 11,
   "metadata": {
    "collapsed": false,
    "pycharm": {
     "name": "#%%\n"
    }
   },
   "outputs": [],
   "source": [
    "def get_percentile_score(x,col):\n",
    "    return stats.percentileofscore(col,x)/100"
   ]
  },
  {
   "cell_type": "code",
   "execution_count": 12,
   "metadata": {
    "collapsed": false,
    "pycharm": {
     "name": "#%%\n"
    }
   },
   "outputs": [],
   "source": [
    "def get_relative_risk_per_symp(label_period_df,baseline_df,method,full_output = False):\n",
    "    lp_df = label_period_df.copy()\n",
    "    base_df = baseline_df.copy()\n",
    "    # get symptom occurence (num of symptoms appeared per participant)\n",
    "    lp_grouped = get_symp_occurance(lp_df)\n",
    "    base_grouped = get_symp_occurance(base_df)\n",
    "\n",
    "    # count healthy only if it was exclusive in label period\n",
    "    lp_grouped['exclusive_healthy'] = lp_grouped[symp_cols_without_healthy].apply(lambda x:exclusive_func(x),axis=1)\n",
    "    lp_grouped.drop(columns=['healthy'],inplace=True)\n",
    "    lp_grouped.rename(columns={'exclusive_healthy':'healthy'},inplace=True)\n",
    "    \n",
    "    #flatten baseline per participant\n",
    "    if method == 'prop':\n",
    "        for s in symptom_cols:\n",
    "            if s == 'healthy':\n",
    "                base_grouped[s] = base_grouped[s]/base_grouped['total_q']\n",
    "            else:\n",
    "                base_grouped[s] = base_grouped[s]/(base_grouped['total_q'] - base_grouped['healthy'])\n",
    "    elif method == 'quantile':\n",
    "        for s in symptom_cols:\n",
    "            temp_col = base_grouped[s]\n",
    "            base_grouped[s] = base_grouped[s].apply(lambda x: get_percentile_score(x,temp_col))\n",
    "    #reset index to participant num - makes furhter analysis easier\n",
    "    lp_grouped = lp_grouped.set_index('participant_num')[symptom_cols]\n",
    "    base_grouped = base_grouped.set_index('participant_num')[symptom_cols]\n",
    "\n",
    "    # binary occurence for label period\n",
    "    lp_grouped.where(lp_grouped==0,1,inplace=True)\n",
    "    \n",
    "    #calculate relative risk\n",
    "    rr_df  = lp_grouped.sub(base_grouped)\n",
    "    symp_rr = rr_df.mean().sort_values()\n",
    "    if full_output:\n",
    "        return {'relative_risk':symp_rr,\n",
    "                'label_period':lp_grouped,\n",
    "                'baseline':base_grouped}\n",
    "    else:\n",
    "        return symp_rr"
   ]
  },
  {
   "cell_type": "markdown",
   "metadata": {
    "collapsed": false,
    "pycharm": {
     "name": "#%% md\n"
    }
   },
   "source": [
    "# Comparing healthy and sick relative risk per symptom"
   ]
  },
  {
   "cell_type": "code",
   "execution_count": 13,
   "metadata": {
    "collapsed": false,
    "pycharm": {
     "name": "#%%\n"
    }
   },
   "outputs": [],
   "source": [
    "combined_df = combine_q_and_label(q_df,label_df)"
   ]
  },
  {
   "cell_type": "code",
   "execution_count": 14,
   "metadata": {
    "collapsed": false,
    "pycharm": {
     "name": "#%%\n"
    }
   },
   "outputs": [],
   "source": [
    "def get_symp_rr_diff(input_df,baseline_days_to_include,sick_period_days,method):\n",
    "    \"\"\"\n",
    "\n",
    "    input_df: raw pd.DataFrame of questionnaires data\n",
    "    baseline_days_to_include: how many days should be included in baseline defenition\n",
    "    sick_period_days: sick period window length\n",
    "    method: 'prop' for proportion of q's with any symptoms or quantile for percentile score\n",
    "    return: pd.Series of relative risk score for each symptom\n",
    "    \"\"\"\n",
    "    df = input_df.copy()\n",
    "    # get dataframes for label and baseline periods, splitted by positive or negative label\n",
    "    sick_dic = get_splitted_df(df,baseline_days_to_include,sick_period_days,True)\n",
    "    healthy_dic = get_splitted_df(df,baseline_days_to_include,sick_period_days,False)\n",
    "\n",
    "\n",
    "    # get symptom relative risk for sick and healthy participants\n",
    "    sick_symp_rr = get_relative_risk_per_symp(sick_dic['label_period'],sick_dic['baseline'],method)\n",
    "    healthy_symp_rr = get_relative_risk_per_symp(healthy_dic['label_period'],healthy_dic['baseline'], method)\n",
    "    \n",
    "    diff = sick_symp_rr/healthy_symp_rr\n",
    "    return diff.sort_values()"
   ]
  },
  {
   "cell_type": "markdown",
   "metadata": {
    "collapsed": false,
    "pycharm": {
     "name": "#%% md\n"
    }
   },
   "source": [
    "# Find most common symptoms"
   ]
  },
  {
   "cell_type": "code",
   "execution_count": 15,
   "metadata": {
    "collapsed": false,
    "pycharm": {
     "name": "#%%\n"
    }
   },
   "outputs": [],
   "source": [
    "def get_most_common_symptoms(input_df,baseline_days_to_include,sick_period_days,n_symptoms):\n",
    "    res = get_splitted_df(combined_df,baseline_days_to_include,sick_period_days)\n",
    "    label_p_df = res['label_period']\n",
    "    base_df = res['baseline']\n",
    "    label_symp_count = label_p_df[symptom_cols].sum()\n",
    "    base_symp_count = base_df[symptom_cols].sum()\n",
    "    symp_count = label_symp_count + base_symp_count\n",
    "    symp_count = symp_count.sort_values(ascending=False)\n",
    "    top_symps = symp_count[:n_symptoms].index\n",
    "    return top_symps"
   ]
  },
  {
   "cell_type": "markdown",
   "metadata": {
    "collapsed": false,
    "pycharm": {
     "name": "#%% md\n"
    }
   },
   "source": [
    "# Tests"
   ]
  },
  {
   "cell_type": "code",
   "execution_count": 16,
   "metadata": {
    "collapsed": false,
    "pycharm": {
     "name": "#%%\n"
    }
   },
   "outputs": [],
   "source": [
    "sick_period_days = 4\n",
    "baseline_days_to_include = 60"
   ]
  },
  {
   "cell_type": "code",
   "execution_count": 17,
   "metadata": {
    "collapsed": false,
    "pycharm": {
     "name": "#%%\n"
    }
   },
   "outputs": [],
   "source": [
    "top_symps = get_most_common_symptoms(combined_df,baseline_days_to_include,sick_period_days,10)"
   ]
  },
  {
   "cell_type": "code",
   "execution_count": 18,
   "metadata": {
    "collapsed": false,
    "pycharm": {
     "name": "#%%\n"
    }
   },
   "outputs": [
    {
     "data": {
      "image/png": "[encoded data removed]",
      "text/plain": [
       "<Figure size 360x504 with 1 Axes>"
      ]
     },
     "metadata": {
      "needs_background": "light"
     },
     "output_type": "display_data"
    }
   ],
   "source": [
    "a = get_symp_rr_diff(combined_df,baseline_days_to_include,sick_period_days,'prop')\n",
    "ax = a.plot(kind='bar',figsize=(5,7))\n",
    "# a.to_csv('data/prop.csv')"
   ]
  },
  {
   "cell_type": "code",
   "execution_count": 19,
   "metadata": {
    "collapsed": false,
    "pycharm": {
     "name": "#%%\n"
    }
   },
   "outputs": [],
   "source": [
    "def calc_rr_score_sum(row,rr):\n",
    "    score = 0\n",
    "    for symp in rr.index:\n",
    "        score += rr[symp] * row[symp]\n",
    "    return score"
   ]
  },
  {
   "cell_type": "code",
   "execution_count": 20,
   "metadata": {
    "collapsed": false,
    "pycharm": {
     "name": "#%%\n"
    }
   },
   "outputs": [],
   "source": [
    "def calc_rr_score_max(row,rr):\n",
    "    max_score = 0\n",
    "    for symp in rr.index:\n",
    "        new_score = rr[symp] * row[symp]\n",
    "        if new_score>max_score:\n",
    "            max_score = new_score\n",
    "    return max_score"
   ]
  },
  {
   "cell_type": "code",
   "execution_count": 40,
   "metadata": {
    "collapsed": false,
    "pycharm": {
     "name": "#%%\n"
    }
   },
   "outputs": [],
   "source": [
    "rr = a[top_symps]\n",
    "q_test = combine_q_and_label(q_df,label_df)\n",
    "q_test = q_test.merge(label_df[['participant_num','result']])\n",
    "q_test['rr_score_sum'] = q_test.apply(lambda x: calc_rr_score_sum(x,rr),axis=1)\n",
    "q_test['rr_score_max'] = q_test.apply(lambda x: calc_rr_score_max(x,rr),axis=1)"
   ]
  },
  {
   "cell_type": "code",
   "execution_count": 42,
   "metadata": {
    "collapsed": false,
    "pycharm": {
     "name": "#%%\n"
    }
   },
   "outputs": [],
   "source": [
    "def get_window(day_delta, window_size):\n",
    "    if day_delta < 0:\n",
    "        day_delta -= window_size\n",
    "\n",
    "    window = int(day_delta / (window_size + 1))\n",
    "    return window\n",
    "\n",
    "\n",
    "def get_symptom_proportions_and_windows(input_df, window_size):\n",
    "    df = input_df.copy()\n",
    "    # Split to windows according to set period of days - window size\n",
    "    df['window'] = df['days_delta'].apply(lambda x: get_window(x, window_size))\n",
    "    # aggregate_over_window\n",
    "    grouped_df = df.groupby('window').agg(**agg_dic).reset_index()\n",
    "    norm_grouped_df = grouped_df.copy()\n",
    "    #Normalize by dividing sum of symptoms declared by sum of total questionnaires\n",
    "    for col in symptom_cols:\n",
    "        norm_grouped_df[col] = norm_grouped_df[col] / norm_grouped_df['total_q']\n",
    "\n",
    "    return norm_grouped_df, grouped_df"
   ]
  },
  {
   "cell_type": "code",
   "execution_count": 68,
   "metadata": {
    "collapsed": false,
    "pycharm": {
     "name": "#%%\n"
    }
   },
   "outputs": [],
   "source": [
    "df = q_test.copy()\n",
    "df['window'] = df['days_delta'].apply(lambda x: get_window(x, 1))\n",
    "g_df = df[['rr_score_sum','rr_score_max','window','result']].groupby(['window','result']).agg(np.mean).reset_index()"
   ]
  },
  {
   "cell_type": "code",
   "execution_count": 70,
   "metadata": {
    "collapsed": false,
    "pycharm": {
     "name": "#%%\n"
    }
   },
   "outputs": [],
   "source": [
    "pos = g_df[g_df.result==1].set_index('window')\n",
    "neg = g_df[g_df.result==0].set_index('window')\n",
    "pos_vs_neg = pos/neg\n",
    "pos_vs_neg = pos_vs_neg[['rr_score_sum','rr_score_max']]"
   ]
  },
  {
   "cell_type": "code",
   "execution_count": 71,
   "metadata": {
    "collapsed": false,
    "pycharm": {
     "name": "#%%\n"
    }
   },
   "outputs": [
    {
     "data": {
      "application/vnd.plotly.v1+json": {
       "config": {
        "plotlyServerURL": "https://plot.ly"
       },
       "data": [
        {
         "hovertemplate": "variable=rr_score_sum<br>window=%{x}<br>value=%{y}<extra></extra>",
         "legendgroup": "rr_score_sum",
         "line": {
          "color": "#636efa",
          "dash": "solid"
         },
         "marker": {
          "symbol": "circle"
         },
         "mode": "lines",
         "name": "rr_score_sum",
         "orientation": "v",
         "showlegend": true,
         "type": "scatter",
         "x": [
          -218,
          -217,
          -216,
          -215,
          -214,
          -213,
          -212,
          -211,
          -210,
          -209,
          -208,
          -207,
          -206,
          -205,
          -204,
          -203,
          -202,
          -201,
          -200,
          -199,
          -198,
          -197,
          -196,
          -195,
          -194,
          -193,
          -192,
          -191,
          -190,
          -189,
          -188,
          -187,
          -186,
          -185,
          -184,
          -183,
          -182,
          -181,
          -180,
          -179,
          -178,
          -177,
          -176,
          -175,
          -174,
          -173,
          -172,
          -171,
          -170,
          -169,
          -168,
          -167,
          -166,
          -165,
          -164,
          -163,
          -162,
          -161,
          -160,
          -159,
          -158,
          -157,
          -156,
          -155,
          -154,
          -153,
          -152,
          -151,
          -150,
          -149,
          -148,
          -147,
          -146,
          -145,
          -144,
          -143,
          -142,
          -141,
          -140,
          -139,
          -138,
          -137,
          -136,
          -135,
          -134,
          -133,
          -132,
          -131,
          -130,
          -129,
          -128,
          -127,
          -126,
          -125,
          -124,
          -123,
          -122,
          -121,
          -120,
          -119,
          -118,
          -117,
          -116,
          -115,
          -114,
          -113,
          -112,
          -111,
          -110,
          -109,
          -108,
          -107,
          -106,
          -105,
          -104,
          -103,
          -102,
          -101,
          -100,
          -99,
          -98,
          -97,
          -96,
          -95,
          -94,
          -93,
          -92,
          -91,
          -90,
          -89,
          -88,
          -87,
          -86,
          -85,
          -84,
          -83,
          -82,
          -81,
          -80,
          -79,
          -78,
          -77,
          -76,
          -75,
          -74,
          -73,
          -72,
          -71,
          -70,
          -69,
          -68,
          -67,
          -66,
          -65,
          -64,
          -63,
          -62,
          -61,
          -60,
          -59,
          -58,
          -57,
          -56,
          -55,
          -54,
          -53,
          -52,
          -51,
          -50,
          -49,
          -48,
          -47,
          -46,
          -45,
          -44,
          -43,
          -42,
          -41,
          -40,
          -39,
          -38,
          -37,
          -36,
          -35,
          -34,
          -33,
          -32,
          -31,
          -30,
          -29,
          -28,
          -27,
          -26,
          -25,
          -24,
          -23,
          -22,
          -21,
          -20,
          -19,
          -18,
          -17,
          -16,
          -15,
          -14,
          -13,
          -12,
          -11,
          -10,
          -9,
          -8,
          -7,
          -6,
          -5,
          -4,
          -3,
          -2,
          -1,
          0,
          1,
          2,
          3,
          4,
          5,
          6,
          7,
          8,
          9,
          10,
          11,
          12,
          13,
          14,
          15,
          16,
          17,
          18,
          19,
          20,
          21,
          22
         ],
         "xaxis": "x",
         "y": [
          null,
          null,
          null,
          null,
          null,
          null,
          null,
          null,
          null,
          null,
          null,
          null,
          null,
          1,
          1,
          1,
          0.846331435809662,
          0.8130154576646288,
          0.8270745629954406,
          0.7815460412228779,
          0.936133741339809,
          0.8353288259826149,
          0.9302356862712667,
          0.9243358506129974,
          0.8294775083050843,
          0.9502217800806927,
          0.8621137975517764,
          0.9498119386867274,
          0.8076903729707284,
          0.7985768033272309,
          0.9597424066300939,
          0.896553056689763,
          0.9404699158475861,
          0.9466937242265528,
          1.461846522919225,
          1.05,
          0.5914811278637367,
          0.9935324716005415,
          0.7293173438968332,
          0.6241271931093594,
          0.7538752650164698,
          0.8802742525235508,
          1.0325888910410292,
          0.8160245241938614,
          0.782038944170438,
          0.9010363245832369,
          1.2547498726827366,
          0.706679469022275,
          1.9398620537561744,
          1.116383252878993,
          1.000067519052693,
          0.8524401453207493,
          1.0255263183165337,
          0.8692584610983756,
          0.7174958346247221,
          0.9521820534077693,
          0.7969567243774615,
          0.5381788919733045,
          0.5692857895363164,
          0.5962004908306446,
          0.7321392122168717,
          0.7154561420119212,
          0.6084392079180885,
          0.6767684372671073,
          0.6323686074231454,
          0.81104141044852,
          0.7136448075440524,
          0.6800225016907602,
          0.8533598506107858,
          0.7351992977681057,
          0.7728047701718447,
          0.7173992767439183,
          0.8417002034491254,
          1.3576111626522966,
          1.3481223442293016,
          1.3078588251969703,
          1.4198102608855676,
          1.1915773218737242,
          0.7758175429960817,
          0.7685675720951695,
          0.7269418330381131,
          1.0289517459368802,
          0.8746668890237738,
          0.8051340939273237,
          0.8811916010857975,
          0.8406176257105095,
          0.7995459134304495,
          0.8358922519339704,
          0.9880563829285969,
          1.027461359618435,
          1.0680289058081933,
          1.1611285485790286,
          1.1596972834270975,
          0.957332247917374,
          1.1182576939849782,
          0.9890128656103531,
          0.9619078914694499,
          0.8812506386189747,
          0.8957945310295792,
          0.9228716462738369,
          0.924271856464646,
          0.8152213850315104,
          0.8216459353147587,
          0.876831138570205,
          0.9855348469374282,
          1.2907743169264838,
          1.0175666381883526,
          1.1345250156169073,
          0.8822341971375223,
          1.1302419091510565,
          1.0833732535065421,
          0.8982993695266714,
          1.1051552152028403,
          0.9330803138548089,
          1.135696190380529,
          1.0213857138796203,
          1.1263622437647463,
          0.9489979765339709,
          0.8201121323450415,
          0.9271355000188385,
          0.8360372121442048,
          0.9418403048216637,
          0.9357745534293701,
          0.9808143302745306,
          1.0294067622569123,
          0.8460574298034391,
          0.9195785941208376,
          0.9445617961733881,
          0.8594792138787786,
          1.0812182161248935,
          1.025561502679721,
          0.8973734267929029,
          1.138635792270926,
          1.0151783652561135,
          0.9830697423073967,
          0.8650443652568326,
          0.7885437965050712,
          0.7553874172910003,
          0.8180064263084388,
          0.8690876206762913,
          0.861655585194175,
          0.9463156944934559,
          0.9609898975353525,
          0.954539769875626,
          0.880044311094284,
          0.9074803625802427,
          0.866027977436431,
          0.8817395640912513,
          1.1301815619262943,
          0.9653215942054828,
          0.9664881342972624,
          0.9290675105256684,
          1.0032477242057831,
          0.9727199102702405,
          1.009594008214329,
          0.9378769279163128,
          0.874715506120112,
          0.8607317390149491,
          0.8333750036636783,
          0.9621058172385059,
          0.9799311223842121,
          1.058461171474524,
          0.976231149773769,
          0.9221244819464904,
          0.9804865700426159,
          0.8245103488316616,
          0.9440741814012695,
          0.8872663323867467,
          0.8648344468991314,
          1.0085432851603942,
          0.9726302080986249,
          0.9387620801954106,
          0.9845339298465384,
          0.9960292468375461,
          0.9831938887362547,
          0.918072905779917,
          0.9852968728061737,
          1.1393334184505555,
          0.9912340256665597,
          1.0574557739015493,
          1.1445271264108252,
          1.1165266047122204,
          1.0224324794108555,
          0.9325855019919453,
          1.041879823154766,
          0.9301985560824899,
          0.9921423842558665,
          0.8565563452414607,
          0.9850842163315273,
          0.9209675234194283,
          1.0616129116266229,
          0.9531825055182529,
          1.0780077339391936,
          1.0118227920043574,
          1.0194992962690952,
          0.9204174872880221,
          1.1175911333132107,
          1.0714808029717438,
          1.0080809830725472,
          0.998621961173416,
          0.9953974642188693,
          1.0509596235259857,
          0.9623850243272258,
          1.0102364896326177,
          0.962391357115894,
          0.879500997171497,
          0.8634270785349702,
          0.868121309621982,
          0.8958387824135007,
          0.8928943222444045,
          0.937378741373712,
          0.8569759336012528,
          0.9590375444910918,
          0.8486587220093268,
          0.994467295760472,
          1.0737243585580596,
          1.361773576899741,
          1.743097394066777,
          2.4470964812077,
          1.9107263938331542,
          1.4509534802366204,
          1.3217937024704718,
          1.2591086497367483,
          1.1165112913901987,
          1.064530810989367,
          0.8860226883854059,
          0.8533508262982478,
          0.9182800459825584,
          0.8743988151262904,
          0.9440041543204921,
          1.0263758177412103,
          0.46305923513271285,
          0.5092539671781355,
          1.2455616845155475,
          1.3572891050272784,
          0.6874077494795582,
          0.4514751518385991,
          null,
          1.581438983162768,
          1.5814389831627678,
          1
         ],
         "yaxis": "y"
        },
        {
         "hovertemplate": "variable=rr_score_max<br>window=%{x}<br>value=%{y}<extra></extra>",
         "legendgroup": "rr_score_max",
         "line": {
          "color": "#EF553B",
          "dash": "solid"
         },
         "marker": {
          "symbol": "circle"
         },
         "mode": "lines",
         "name": "rr_score_max",
         "orientation": "v",
         "showlegend": true,
         "type": "scatter",
         "x": [
          -218,
          -217,
          -216,
          -215,
          -214,
          -213,
          -212,
          -211,
          -210,
          -209,
          -208,
          -207,
          -206,
          -205,
          -204,
          -203,
          -202,
          -201,
          -200,
          -199,
          -198,
          -197,
          -196,
          -195,
          -194,
          -193,
          -192,
          -191,
          -190,
          -189,
          -188,
          -187,
          -186,
          -185,
          -184,
          -183,
          -182,
          -181,
          -180,
          -179,
          -178,
          -177,
          -176,
          -175,
          -174,
          -173,
          -172,
          -171,
          -170,
          -169,
          -168,
          -167,
          -166,
          -165,
          -164,
          -163,
          -162,
          -161,
          -160,
          -159,
          -158,
          -157,
          -156,
          -155,
          -154,
          -153,
          -152,
          -151,
          -150,
          -149,
          -148,
          -147,
          -146,
          -145,
          -144,
          -143,
          -142,
          -141,
          -140,
          -139,
          -138,
          -137,
          -136,
          -135,
          -134,
          -133,
          -132,
          -131,
          -130,
          -129,
          -128,
          -127,
          -126,
          -125,
          -124,
          -123,
          -122,
          -121,
          -120,
          -119,
          -118,
          -117,
          -116,
          -115,
          -114,
          -113,
          -112,
          -111,
          -110,
          -109,
          -108,
          -107,
          -106,
          -105,
          -104,
          -103,
          -102,
          -101,
          -100,
          -99,
          -98,
          -97,
          -96,
          -95,
          -94,
          -93,
          -92,
          -91,
          -90,
          -89,
          -88,
          -87,
          -86,
          -85,
          -84,
          -83,
          -82,
          -81,
          -80,
          -79,
          -78,
          -77,
          -76,
          -75,
          -74,
          -73,
          -72,
          -71,
          -70,
          -69,
          -68,
          -67,
          -66,
          -65,
          -64,
          -63,
          -62,
          -61,
          -60,
          -59,
          -58,
          -57,
          -56,
          -55,
          -54,
          -53,
          -52,
          -51,
          -50,
          -49,
          -48,
          -47,
          -46,
          -45,
          -44,
          -43,
          -42,
          -41,
          -40,
          -39,
          -38,
          -37,
          -36,
          -35,
          -34,
          -33,
          -32,
          -31,
          -30,
          -29,
          -28,
          -27,
          -26,
          -25,
          -24,
          -23,
          -22,
          -21,
          -20,
          -19,
          -18,
          -17,
          -16,
          -15,
          -14,
          -13,
          -12,
          -11,
          -10,
          -9,
          -8,
          -7,
          -6,
          -5,
          -4,
          -3,
          -2,
          -1,
          0,
          1,
          2,
          3,
          4,
          5,
          6,
          7,
          8,
          9,
          10,
          11,
          12,
          13,
          14,
          15,
          16,
          17,
          18,
          19,
          20,
          21,
          22
         ],
         "xaxis": "x",
         "y": [
          null,
          null,
          null,
          null,
          null,
          null,
          null,
          null,
          null,
          null,
          null,
          null,
          null,
          1,
          1,
          1,
          0.846331435809662,
          0.8130154576646288,
          0.8270745629954406,
          0.8391673446448291,
          0.936133741339809,
          0.8353288259826149,
          0.9302356862712667,
          0.9243358506129974,
          0.8702476166687119,
          0.9763562959041024,
          0.9482073767441175,
          0.9498119386867274,
          0.8371614686181719,
          0.7985768033272309,
          0.9597424066300939,
          0.9478503574738835,
          0.9713411776362127,
          0.9755060473325741,
          1.461846522919225,
          1.05,
          0.7690040369967005,
          1.0712310453398257,
          0.952180383771767,
          0.9873432772138686,
          0.8982583035810255,
          0.9480171162488585,
          1.0749582731358547,
          0.921568214592338,
          0.8348388784791428,
          0.9728525590885908,
          1.0770274164871039,
          0.7939869432738429,
          1.3510791761195176,
          1.2124833384041536,
          1.0329776296389828,
          1.0133756935270095,
          1.2037869805186783,
          1.027904429016329,
          0.87683664603197,
          1.116136661318483,
          1.0046432391954798,
          0.7362374273600772,
          0.7668038475845775,
          0.7716573407845954,
          0.8144801290182647,
          0.9260274935502096,
          0.7818606126031975,
          0.8470211183409627,
          0.8040383528719623,
          0.8678479517827947,
          0.8552385192318263,
          0.8468478908875334,
          1.036440769863722,
          0.8795346537107918,
          0.8871215683328945,
          0.8695230665266951,
          0.9187013366567384,
          1.066324121293901,
          1.2582235760180003,
          1.1060840460525352,
          1.1970344528195285,
          1.089544816062887,
          0.8923894613660254,
          0.8996372982139315,
          0.9064862991615034,
          0.9938274794272733,
          0.9041755230655999,
          0.9082292332357008,
          1.0595301869660396,
          0.8980085362473024,
          0.9003411380777308,
          0.9035591769807229,
          0.9316873139985393,
          1.027963162070404,
          1.148530821852718,
          1.0842409881285202,
          1.1069684929015193,
          0.988392023022021,
          1.0977907563218479,
          1.0337817177768138,
          1.032523821213571,
          1.0011818811461866,
          0.9799428349361529,
          0.9730309746590686,
          0.9868483513013124,
          0.9126562060430086,
          0.9299736701607664,
          0.9617290113062019,
          1.0382065008053853,
          1.102515379949362,
          1.0312009965175821,
          0.9814191712886936,
          0.9333677564210293,
          1.1341427362648928,
          1.0312867076867913,
          0.9628499032530644,
          1.0426090763546414,
          0.9674677375487301,
          1.066776315313855,
          1.0399624254196491,
          1.0785745255162562,
          0.9685621711312019,
          0.9225297390925618,
          0.9849846977116002,
          0.9339483243233538,
          1.0178774666944905,
          0.9296760535638665,
          0.9465086802862968,
          0.9646981160972675,
          0.9060554881336065,
          0.9413234988051976,
          0.9589186306113476,
          0.9200145560373647,
          0.957051811953533,
          0.9879780332707608,
          0.8999008062692023,
          1.0782998549853737,
          0.9697798521174953,
          0.9694032898324697,
          0.9148377738163699,
          0.8674611726443447,
          0.859205702161707,
          0.8853746451897497,
          0.9327618642918142,
          0.9156672032079471,
          0.9619992511654332,
          0.9967966773230038,
          0.9974895781552889,
          0.9439474040041367,
          0.9414518144814457,
          0.9502521521464,
          0.9497288476154624,
          1.0469004766707317,
          0.9897198633626474,
          0.9927917799983097,
          0.9931821652766027,
          1.0290953099083262,
          0.9999775746182082,
          1.0095619225893775,
          0.9704791881183717,
          0.942320349645445,
          0.8831078530231635,
          0.879883433439487,
          0.9606263787923311,
          0.9498516248760414,
          1.0337411968735999,
          0.95372993534099,
          0.9623182817062708,
          0.9794312895444014,
          0.9430386318751007,
          0.9903021210817713,
          0.9887753185934961,
          0.9608557215357783,
          0.9768169543593619,
          0.9768958571384638,
          0.9896446217484348,
          1.0112031301517015,
          0.9741547868489414,
          1.0082398757950348,
          0.9826738608043842,
          1.0038136939296889,
          1.0514961841153325,
          0.9956369479016584,
          1.0492604928547038,
          1.0589746446901558,
          1.0362841627507797,
          1.0438575790232598,
          1.004029430416266,
          1.0300960513885546,
          1.0049325409646916,
          1.0318841664866227,
          0.9420789111961153,
          1.0186111574472765,
          0.9890010554482194,
          1.0416231710911266,
          0.987047709112224,
          1.0374313240105406,
          0.9673799701863404,
          1.014662181155963,
          0.9755311973022871,
          1.097616172870713,
          1.0425941793635025,
          0.9923617383279397,
          0.9983196284351299,
          0.9671828815741456,
          0.9831209108671469,
          0.9226472630632471,
          1.006917054323788,
          0.9762504052421702,
          0.9086541094712037,
          0.9095325149114525,
          0.9138617434326686,
          0.9305083912178385,
          0.9272100452060971,
          0.9597398261245947,
          0.9406480452107217,
          0.9696040222664416,
          0.9284232240319021,
          0.9806029773326971,
          0.981184486587996,
          1.1069855968190256,
          1.2435539685648374,
          1.5108831002572558,
          1.4016003065448936,
          1.3189526432970693,
          1.2113115709896707,
          1.1546502856801704,
          1.1129254571698923,
          1.1041356660078825,
          0.9776774282754805,
          0.9772971003988414,
          0.9822994507131577,
          0.968687488405268,
          0.998102986727796,
          0.9915794230449545,
          0.7285885617093544,
          0.7803196216055127,
          0.9796596558253486,
          1.1614653065674465,
          0.8028457678405726,
          0.6492304079412242,
          null,
          1.581438983162768,
          1.5814389831627678,
          1
         ],
         "yaxis": "y"
        }
       ],
       "layout": {
        "height": 500,
        "legend": {
         "title": {
          "text": "variable"
         },
         "tracegroupgap": 0
        },
        "margin": {
         "t": 60
        },
        "template": {
         "data": {
          "bar": [
           {
            "error_x": {
             "color": "#f2f5fa"
            },
            "error_y": {
             "color": "#f2f5fa"
            },
            "marker": {
             "line": {
              "color": "rgb(17,17,17)",
              "width": 0.5
             },
             "pattern": {
              "fillmode": "overlay",
              "size": 10,
              "solidity": 0.2
             }
            },
            "type": "bar"
           }
          ],
          "barpolar": [
           {
            "marker": {
             "line": {
              "color": "rgb(17,17,17)",
              "width": 0.5
             },
             "pattern": {
              "fillmode": "overlay",
              "size": 10,
              "solidity": 0.2
             }
            },
            "type": "barpolar"
           }
          ],
          "carpet": [
           {
            "aaxis": {
             "endlinecolor": "#A2B1C6",
             "gridcolor": "#506784",
             "linecolor": "#506784",
             "minorgridcolor": "#506784",
             "startlinecolor": "#A2B1C6"
            },
            "baxis": {
             "endlinecolor": "#A2B1C6",
             "gridcolor": "#506784",
             "linecolor": "#506784",
             "minorgridcolor": "#506784",
             "startlinecolor": "#A2B1C6"
            },
            "type": "carpet"
           }
          ],
          "choropleth": [
           {
            "colorbar": {
             "outlinewidth": 0,
             "ticks": ""
            },
            "type": "choropleth"
           }
          ],
          "contour": [
           {
            "colorbar": {
             "outlinewidth": 0,
             "ticks": ""
            },
            "colorscale": [
             [
              0,
              "#0d0887"
             ],
             [
              0.1111111111111111,
              "#46039f"
             ],
             [
              0.2222222222222222,
              "#7201a8"
             ],
             [
              0.3333333333333333,
              "#9c179e"
             ],
             [
              0.4444444444444444,
              "#bd3786"
             ],
             [
              0.5555555555555556,
              "#d8576b"
             ],
             [
              0.6666666666666666,
              "#ed7953"
             ],
             [
              0.7777777777777778,
              "#fb9f3a"
             ],
             [
              0.8888888888888888,
              "#fdca26"
             ],
             [
              1,
              "#f0f921"
             ]
            ],
            "type": "contour"
           }
          ],
          "contourcarpet": [
           {
            "colorbar": {
             "outlinewidth": 0,
             "ticks": ""
            },
            "type": "contourcarpet"
           }
          ],
          "heatmap": [
           {
            "colorbar": {
             "outlinewidth": 0,
             "ticks": ""
            },
            "colorscale": [
             [
              0,
              "#0d0887"
             ],
             [
              0.1111111111111111,
              "#46039f"
             ],
             [
              0.2222222222222222,
              "#7201a8"
             ],
             [
              0.3333333333333333,
              "#9c179e"
             ],
             [
              0.4444444444444444,
              "#bd3786"
             ],
             [
              0.5555555555555556,
              "#d8576b"
             ],
             [
              0.6666666666666666,
              "#ed7953"
             ],
             [
              0.7777777777777778,
              "#fb9f3a"
             ],
             [
              0.8888888888888888,
              "#fdca26"
             ],
             [
              1,
              "#f0f921"
             ]
            ],
            "type": "heatmap"
           }
          ],
          "heatmapgl": [
           {
            "colorbar": {
             "outlinewidth": 0,
             "ticks": ""
            },
            "colorscale": [
             [
              0,
              "#0d0887"
             ],
             [
              0.1111111111111111,
              "#46039f"
             ],
             [
              0.2222222222222222,
              "#7201a8"
             ],
             [
              0.3333333333333333,
              "#9c179e"
             ],
             [
              0.4444444444444444,
              "#bd3786"
             ],
             [
              0.5555555555555556,
              "#d8576b"
             ],
             [
              0.6666666666666666,
              "#ed7953"
             ],
             [
              0.7777777777777778,
              "#fb9f3a"
             ],
             [
              0.8888888888888888,
              "#fdca26"
             ],
             [
              1,
              "#f0f921"
             ]
            ],
            "type": "heatmapgl"
           }
          ],
          "histogram": [
           {
            "marker": {
             "pattern": {
              "fillmode": "overlay",
              "size": 10,
              "solidity": 0.2
             }
            },
            "type": "histogram"
           }
          ],
          "histogram2d": [
           {
            "colorbar": {
             "outlinewidth": 0,
             "ticks": ""
            },
            "colorscale": [
             [
              0,
              "#0d0887"
             ],
             [
              0.1111111111111111,
              "#46039f"
             ],
             [
              0.2222222222222222,
              "#7201a8"
             ],
             [
              0.3333333333333333,
              "#9c179e"
             ],
             [
              0.4444444444444444,
              "#bd3786"
             ],
             [
              0.5555555555555556,
              "#d8576b"
             ],
             [
              0.6666666666666666,
              "#ed7953"
             ],
             [
              0.7777777777777778,
              "#fb9f3a"
             ],
             [
              0.8888888888888888,
              "#fdca26"
             ],
             [
              1,
              "#f0f921"
             ]
            ],
            "type": "histogram2d"
           }
          ],
          "histogram2dcontour": [
           {
            "colorbar": {
             "outlinewidth": 0,
             "ticks": ""
            },
            "colorscale": [
             [
              0,
              "#0d0887"
             ],
             [
              0.1111111111111111,
              "#46039f"
             ],
             [
              0.2222222222222222,
              "#7201a8"
             ],
             [
              0.3333333333333333,
              "#9c179e"
             ],
             [
              0.4444444444444444,
              "#bd3786"
             ],
             [
              0.5555555555555556,
              "#d8576b"
             ],
             [
              0.6666666666666666,
              "#ed7953"
             ],
             [
              0.7777777777777778,
              "#fb9f3a"
             ],
             [
              0.8888888888888888,
              "#fdca26"
             ],
             [
              1,
              "#f0f921"
             ]
            ],
            "type": "histogram2dcontour"
           }
          ],
          "mesh3d": [
           {
            "colorbar": {
             "outlinewidth": 0,
             "ticks": ""
            },
            "type": "mesh3d"
           }
          ],
          "parcoords": [
           {
            "line": {
             "colorbar": {
              "outlinewidth": 0,
              "ticks": ""
             }
            },
            "type": "parcoords"
           }
          ],
          "pie": [
           {
            "automargin": true,
            "type": "pie"
           }
          ],
          "scatter": [
           {
            "marker": {
             "line": {
              "color": "#283442"
             }
            },
            "type": "scatter"
           }
          ],
          "scatter3d": [
           {
            "line": {
             "colorbar": {
              "outlinewidth": 0,
              "ticks": ""
             }
            },
            "marker": {
             "colorbar": {
              "outlinewidth": 0,
              "ticks": ""
             }
            },
            "type": "scatter3d"
           }
          ],
          "scattercarpet": [
           {
            "marker": {
             "colorbar": {
              "outlinewidth": 0,
              "ticks": ""
             }
            },
            "type": "scattercarpet"
           }
          ],
          "scattergeo": [
           {
            "marker": {
             "colorbar": {
              "outlinewidth": 0,
              "ticks": ""
             }
            },
            "type": "scattergeo"
           }
          ],
          "scattergl": [
           {
            "marker": {
             "line": {
              "color": "#283442"
             }
            },
            "type": "scattergl"
           }
          ],
          "scattermapbox": [
           {
            "marker": {
             "colorbar": {
              "outlinewidth": 0,
              "ticks": ""
             }
            },
            "type": "scattermapbox"
           }
          ],
          "scatterpolar": [
           {
            "marker": {
             "colorbar": {
              "outlinewidth": 0,
              "ticks": ""
             }
            },
            "type": "scatterpolar"
           }
          ],
          "scatterpolargl": [
           {
            "marker": {
             "colorbar": {
              "outlinewidth": 0,
              "ticks": ""
             }
            },
            "type": "scatterpolargl"
           }
          ],
          "scatterternary": [
           {
            "marker": {
             "colorbar": {
              "outlinewidth": 0,
              "ticks": ""
             }
            },
            "type": "scatterternary"
           }
          ],
          "surface": [
           {
            "colorbar": {
             "outlinewidth": 0,
             "ticks": ""
            },
            "colorscale": [
             [
              0,
              "#0d0887"
             ],
             [
              0.1111111111111111,
              "#46039f"
             ],
             [
              0.2222222222222222,
              "#7201a8"
             ],
             [
              0.3333333333333333,
              "#9c179e"
             ],
             [
              0.4444444444444444,
              "#bd3786"
             ],
             [
              0.5555555555555556,
              "#d8576b"
             ],
             [
              0.6666666666666666,
              "#ed7953"
             ],
             [
              0.7777777777777778,
              "#fb9f3a"
             ],
             [
              0.8888888888888888,
              "#fdca26"
             ],
             [
              1,
              "#f0f921"
             ]
            ],
            "type": "surface"
           }
          ],
          "table": [
           {
            "cells": {
             "fill": {
              "color": "#506784"
             },
             "line": {
              "color": "rgb(17,17,17)"
             }
            },
            "header": {
             "fill": {
              "color": "#2a3f5f"
             },
             "line": {
              "color": "rgb(17,17,17)"
             }
            },
            "type": "table"
           }
          ]
         },
         "layout": {
          "annotationdefaults": {
           "arrowcolor": "#f2f5fa",
           "arrowhead": 0,
           "arrowwidth": 1
          },
          "autotypenumbers": "strict",
          "coloraxis": {
           "colorbar": {
            "outlinewidth": 0,
            "ticks": ""
           }
          },
          "colorscale": {
           "diverging": [
            [
             0,
             "#8e0152"
            ],
            [
             0.1,
             "#c51b7d"
            ],
            [
             0.2,
             "#de77ae"
            ],
            [
             0.3,
             "#f1b6da"
            ],
            [
             0.4,
             "#fde0ef"
            ],
            [
             0.5,
             "#f7f7f7"
            ],
            [
             0.6,
             "#e6f5d0"
            ],
            [
             0.7,
             "#b8e186"
            ],
            [
             0.8,
             "#7fbc41"
            ],
            [
             0.9,
             "#4d9221"
            ],
            [
             1,
             "#276419"
            ]
           ],
           "sequential": [
            [
             0,
             "#0d0887"
            ],
            [
             0.1111111111111111,
             "#46039f"
            ],
            [
             0.2222222222222222,
             "#7201a8"
            ],
            [
             0.3333333333333333,
             "#9c179e"
            ],
            [
             0.4444444444444444,
             "#bd3786"
            ],
            [
             0.5555555555555556,
             "#d8576b"
            ],
            [
             0.6666666666666666,
             "#ed7953"
            ],
            [
             0.7777777777777778,
             "#fb9f3a"
            ],
            [
             0.8888888888888888,
             "#fdca26"
            ],
            [
             1,
             "#f0f921"
            ]
           ],
           "sequentialminus": [
            [
             0,
             "#0d0887"
            ],
            [
             0.1111111111111111,
             "#46039f"
            ],
            [
             0.2222222222222222,
             "#7201a8"
            ],
            [
             0.3333333333333333,
             "#9c179e"
            ],
            [
             0.4444444444444444,
             "#bd3786"
            ],
            [
             0.5555555555555556,
             "#d8576b"
            ],
            [
             0.6666666666666666,
             "#ed7953"
            ],
            [
             0.7777777777777778,
             "#fb9f3a"
            ],
            [
             0.8888888888888888,
             "#fdca26"
            ],
            [
             1,
             "#f0f921"
            ]
           ]
          },
          "colorway": [
           "#636efa",
           "#EF553B",
           "#00cc96",
           "#ab63fa",
           "#FFA15A",
           "#19d3f3",
           "#FF6692",
           "#B6E880",
           "#FF97FF",
           "#FECB52"
          ],
          "font": {
           "color": "#f2f5fa"
          },
          "geo": {
           "bgcolor": "rgb(17,17,17)",
           "lakecolor": "rgb(17,17,17)",
           "landcolor": "rgb(17,17,17)",
           "showlakes": true,
           "showland": true,
           "subunitcolor": "#506784"
          },
          "hoverlabel": {
           "align": "left"
          },
          "hovermode": "closest",
          "mapbox": {
           "style": "dark"
          },
          "paper_bgcolor": "rgb(17,17,17)",
          "plot_bgcolor": "rgb(17,17,17)",
          "polar": {
           "angularaxis": {
            "gridcolor": "#506784",
            "linecolor": "#506784",
            "ticks": ""
           },
           "bgcolor": "rgb(17,17,17)",
           "radialaxis": {
            "gridcolor": "#506784",
            "linecolor": "#506784",
            "ticks": ""
           }
          },
          "scene": {
           "xaxis": {
            "backgroundcolor": "rgb(17,17,17)",
            "gridcolor": "#506784",
            "gridwidth": 2,
            "linecolor": "#506784",
            "showbackground": true,
            "ticks": "",
            "zerolinecolor": "#C8D4E3"
           },
           "yaxis": {
            "backgroundcolor": "rgb(17,17,17)",
            "gridcolor": "#506784",
            "gridwidth": 2,
            "linecolor": "#506784",
            "showbackground": true,
            "ticks": "",
            "zerolinecolor": "#C8D4E3"
           },
           "zaxis": {
            "backgroundcolor": "rgb(17,17,17)",
            "gridcolor": "#506784",
            "gridwidth": 2,
            "linecolor": "#506784",
            "showbackground": true,
            "ticks": "",
            "zerolinecolor": "#C8D4E3"
           }
          },
          "shapedefaults": {
           "line": {
            "color": "#f2f5fa"
           }
          },
          "sliderdefaults": {
           "bgcolor": "#C8D4E3",
           "bordercolor": "rgb(17,17,17)",
           "borderwidth": 1,
           "tickwidth": 0
          },
          "ternary": {
           "aaxis": {
            "gridcolor": "#506784",
            "linecolor": "#506784",
            "ticks": ""
           },
           "baxis": {
            "gridcolor": "#506784",
            "linecolor": "#506784",
            "ticks": ""
           },
           "bgcolor": "rgb(17,17,17)",
           "caxis": {
            "gridcolor": "#506784",
            "linecolor": "#506784",
            "ticks": ""
           }
          },
          "title": {
           "x": 0.05
          },
          "updatemenudefaults": {
           "bgcolor": "#506784",
           "borderwidth": 0
          },
          "xaxis": {
           "automargin": true,
           "gridcolor": "#283442",
           "linecolor": "#506784",
           "ticks": "",
           "title": {
            "standoff": 15
           },
           "zerolinecolor": "#283442",
           "zerolinewidth": 2
          },
          "yaxis": {
           "automargin": true,
           "gridcolor": "#283442",
           "linecolor": "#506784",
           "ticks": "",
           "title": {
            "standoff": 15
           },
           "zerolinecolor": "#283442",
           "zerolinewidth": 2
          }
         }
        },
        "width": 1000,
        "xaxis": {
         "anchor": "y",
         "domain": [
          0,
          1
         ],
         "title": {
          "text": "window"
         }
        },
        "yaxis": {
         "anchor": "x",
         "domain": [
          0,
          1
         ],
         "title": {
          "text": "value"
         }
        }
       }
      },
      "text/html": [
       "<div>                            <div id=\"14e25842-604b-4e6f-9c48-05b8da7f40fb\" class=\"plotly-graph-div\" style=\"height:500px; width:1000px;\"></div>            <script type=\"text/javascript\">                require([\"plotly\"], function(Plotly) {                    window.PLOTLYENV=window.PLOTLYENV || {};                                    if (document.getElementById(\"14e25842-604b-4e6f-9c48-05b8da7f40fb\")) {                    Plotly.newPlot(                        \"14e25842-604b-4e6f-9c48-05b8da7f40fb\",                        [{\"hovertemplate\":\"variable=rr_score_sum<br>window=%{x}<br>value=%{y}<extra></extra>\",\"legendgroup\":\"rr_score_sum\",\"line\":{\"color\":\"#636efa\",\"dash\":\"solid\"},\"marker\":{\"symbol\":\"circle\"},\"mode\":\"lines\",\"name\":\"rr_score_sum\",\"orientation\":\"v\",\"showlegend\":true,\"type\":\"scatter\",\"x\":[-218,-217,-216,-215,-214,-213,-212,-211,-210,-209,-208,-207,-206,-205,-204,-203,-202,-201,-200,-199,-198,-197,-196,-195,-194,-193,-192,-191,-190,-189,-188,-187,-186,-185,-184,-183,-182,-181,-180,-179,-178,-177,-176,-175,-174,-173,-172,-171,-170,-169,-168,-167,-166,-165,-164,-163,-162,-161,-160,-159,-158,-157,-156,-155,-154,-153,-152,-151,-150,-149,-148,-147,-146,-145,-144,-143,-142,-141,-140,-139,-138,-137,-136,-135,-134,-133,-132,-131,-130,-129,-128,-127,-126,-125,-124,-123,-122,-121,-120,-119,-118,-117,-116,-115,-114,-113,-112,-111,-110,-109,-108,-107,-106,-105,-104,-103,-102,-101,-100,-99,-98,-97,-96,-95,-94,-93,-92,-91,-90,-89,-88,-87,-86,-85,-84,-83,-82,-81,-80,-79,-78,-77,-76,-75,-74,-73,-72,-71,-70,-69,-68,-67,-66,-65,-64,-63,-62,-61,-60,-59,-58,-57,-56,-55,-54,-53,-52,-51,-50,-49,-48,-47,-46,-45,-44,-43,-42,-41,-40,-39,-38,-37,-36,-35,-34,-33,-32,-31,-30,-29,-28,-27,-26,-25,-24,-23,-22,-21,-20,-19,-18,-17,-16,-15,-14,-13,-12,-11,-10,-9,-8,-7,-6,-5,-4,-3,-2,-1,0,1,2,3,4,5,6,7,8,9,10,11,12,13,14,15,16,17,18,19,20,21,22],\"xaxis\":\"x\",\"y\":[null,null,null,null,null,null,null,null,null,null,null,null,null,1.0,1.0,1.0,0.846331435809662,0.8130154576646288,0.8270745629954406,0.7815460412228779,0.936133741339809,0.8353288259826149,0.9302356862712667,0.9243358506129974,0.8294775083050843,0.9502217800806927,0.8621137975517764,0.9498119386867274,0.8076903729707284,0.7985768033272309,0.9597424066300939,0.896553056689763,0.9404699158475861,0.9466937242265528,1.461846522919225,1.05,0.5914811278637367,0.9935324716005415,0.7293173438968332,0.6241271931093594,0.7538752650164698,0.8802742525235508,1.0325888910410292,0.8160245241938614,0.782038944170438,0.9010363245832369,1.2547498726827366,0.706679469022275,1.9398620537561744,1.116383252878993,1.000067519052693,0.8524401453207493,1.0255263183165337,0.8692584610983756,0.7174958346247221,0.9521820534077693,0.7969567243774615,0.5381788919733045,0.5692857895363164,0.5962004908306446,0.7321392122168717,0.7154561420119212,0.6084392079180885,0.6767684372671073,0.6323686074231454,0.81104141044852,0.7136448075440524,0.6800225016907602,0.8533598506107858,0.7351992977681057,0.7728047701718447,0.7173992767439183,0.8417002034491254,1.3576111626522966,1.3481223442293016,1.3078588251969703,1.4198102608855676,1.1915773218737242,0.7758175429960817,0.7685675720951695,0.7269418330381131,1.0289517459368802,0.8746668890237738,0.8051340939273237,0.8811916010857975,0.8406176257105095,0.7995459134304495,0.8358922519339704,0.9880563829285969,1.027461359618435,1.0680289058081933,1.1611285485790286,1.1596972834270975,0.957332247917374,1.1182576939849782,0.9890128656103531,0.9619078914694499,0.8812506386189747,0.8957945310295792,0.9228716462738369,0.924271856464646,0.8152213850315104,0.8216459353147587,0.876831138570205,0.9855348469374282,1.2907743169264838,1.0175666381883526,1.1345250156169073,0.8822341971375223,1.1302419091510565,1.0833732535065421,0.8982993695266714,1.1051552152028403,0.9330803138548089,1.135696190380529,1.0213857138796203,1.1263622437647463,0.9489979765339709,0.8201121323450415,0.9271355000188385,0.8360372121442048,0.9418403048216637,0.9357745534293701,0.9808143302745306,1.0294067622569123,0.8460574298034391,0.9195785941208376,0.9445617961733881,0.8594792138787786,1.0812182161248935,1.025561502679721,0.8973734267929029,1.138635792270926,1.0151783652561135,0.9830697423073967,0.8650443652568326,0.7885437965050712,0.7553874172910003,0.8180064263084388,0.8690876206762913,0.861655585194175,0.9463156944934559,0.9609898975353525,0.954539769875626,0.880044311094284,0.9074803625802427,0.866027977436431,0.8817395640912513,1.1301815619262943,0.9653215942054828,0.9664881342972624,0.9290675105256684,1.0032477242057831,0.9727199102702405,1.009594008214329,0.9378769279163128,0.874715506120112,0.8607317390149491,0.8333750036636783,0.9621058172385059,0.9799311223842121,1.058461171474524,0.976231149773769,0.9221244819464904,0.9804865700426159,0.8245103488316616,0.9440741814012695,0.8872663323867467,0.8648344468991314,1.0085432851603942,0.9726302080986249,0.9387620801954106,0.9845339298465384,0.9960292468375461,0.9831938887362547,0.918072905779917,0.9852968728061737,1.1393334184505555,0.9912340256665597,1.0574557739015493,1.1445271264108252,1.1165266047122204,1.0224324794108555,0.9325855019919453,1.041879823154766,0.9301985560824899,0.9921423842558665,0.8565563452414607,0.9850842163315273,0.9209675234194283,1.0616129116266229,0.9531825055182529,1.0780077339391936,1.0118227920043574,1.0194992962690952,0.9204174872880221,1.1175911333132107,1.0714808029717438,1.0080809830725472,0.998621961173416,0.9953974642188693,1.0509596235259857,0.9623850243272258,1.0102364896326177,0.962391357115894,0.879500997171497,0.8634270785349702,0.868121309621982,0.8958387824135007,0.8928943222444045,0.937378741373712,0.8569759336012528,0.9590375444910918,0.8486587220093268,0.994467295760472,1.0737243585580596,1.361773576899741,1.743097394066777,2.4470964812077,1.9107263938331542,1.4509534802366204,1.3217937024704718,1.2591086497367483,1.1165112913901987,1.064530810989367,0.8860226883854059,0.8533508262982478,0.9182800459825584,0.8743988151262904,0.9440041543204921,1.0263758177412103,0.46305923513271285,0.5092539671781355,1.2455616845155475,1.3572891050272784,0.6874077494795582,0.4514751518385991,null,1.581438983162768,1.5814389831627678,1.0],\"yaxis\":\"y\"},{\"hovertemplate\":\"variable=rr_score_max<br>window=%{x}<br>value=%{y}<extra></extra>\",\"legendgroup\":\"rr_score_max\",\"line\":{\"color\":\"#EF553B\",\"dash\":\"solid\"},\"marker\":{\"symbol\":\"circle\"},\"mode\":\"lines\",\"name\":\"rr_score_max\",\"orientation\":\"v\",\"showlegend\":true,\"type\":\"scatter\",\"x\":[-218,-217,-216,-215,-214,-213,-212,-211,-210,-209,-208,-207,-206,-205,-204,-203,-202,-201,-200,-199,-198,-197,-196,-195,-194,-193,-192,-191,-190,-189,-188,-187,-186,-185,-184,-183,-182,-181,-180,-179,-178,-177,-176,-175,-174,-173,-172,-171,-170,-169,-168,-167,-166,-165,-164,-163,-162,-161,-160,-159,-158,-157,-156,-155,-154,-153,-152,-151,-150,-149,-148,-147,-146,-145,-144,-143,-142,-141,-140,-139,-138,-137,-136,-135,-134,-133,-132,-131,-130,-129,-128,-127,-126,-125,-124,-123,-122,-121,-120,-119,-118,-117,-116,-115,-114,-113,-112,-111,-110,-109,-108,-107,-106,-105,-104,-103,-102,-101,-100,-99,-98,-97,-96,-95,-94,-93,-92,-91,-90,-89,-88,-87,-86,-85,-84,-83,-82,-81,-80,-79,-78,-77,-76,-75,-74,-73,-72,-71,-70,-69,-68,-67,-66,-65,-64,-63,-62,-61,-60,-59,-58,-57,-56,-55,-54,-53,-52,-51,-50,-49,-48,-47,-46,-45,-44,-43,-42,-41,-40,-39,-38,-37,-36,-35,-34,-33,-32,-31,-30,-29,-28,-27,-26,-25,-24,-23,-22,-21,-20,-19,-18,-17,-16,-15,-14,-13,-12,-11,-10,-9,-8,-7,-6,-5,-4,-3,-2,-1,0,1,2,3,4,5,6,7,8,9,10,11,12,13,14,15,16,17,18,19,20,21,22],\"xaxis\":\"x\",\"y\":[null,null,null,null,null,null,null,null,null,null,null,null,null,1.0,1.0,1.0,0.846331435809662,0.8130154576646288,0.8270745629954406,0.8391673446448291,0.936133741339809,0.8353288259826149,0.9302356862712667,0.9243358506129974,0.8702476166687119,0.9763562959041024,0.9482073767441175,0.9498119386867274,0.8371614686181719,0.7985768033272309,0.9597424066300939,0.9478503574738835,0.9713411776362127,0.9755060473325741,1.461846522919225,1.05,0.7690040369967005,1.0712310453398257,0.952180383771767,0.9873432772138686,0.8982583035810255,0.9480171162488585,1.0749582731358547,0.921568214592338,0.8348388784791428,0.9728525590885908,1.0770274164871039,0.7939869432738429,1.3510791761195176,1.2124833384041536,1.0329776296389828,1.0133756935270095,1.2037869805186783,1.027904429016329,0.87683664603197,1.116136661318483,1.0046432391954798,0.7362374273600772,0.7668038475845775,0.7716573407845954,0.8144801290182647,0.9260274935502096,0.7818606126031975,0.8470211183409627,0.8040383528719623,0.8678479517827947,0.8552385192318263,0.8468478908875334,1.036440769863722,0.8795346537107918,0.8871215683328945,0.8695230665266951,0.9187013366567384,1.066324121293901,1.2582235760180003,1.1060840460525352,1.1970344528195285,1.089544816062887,0.8923894613660254,0.8996372982139315,0.9064862991615034,0.9938274794272733,0.9041755230655999,0.9082292332357008,1.0595301869660396,0.8980085362473024,0.9003411380777308,0.9035591769807229,0.9316873139985393,1.027963162070404,1.148530821852718,1.0842409881285202,1.1069684929015193,0.988392023022021,1.0977907563218479,1.0337817177768138,1.032523821213571,1.0011818811461866,0.9799428349361529,0.9730309746590686,0.9868483513013124,0.9126562060430086,0.9299736701607664,0.9617290113062019,1.0382065008053853,1.102515379949362,1.0312009965175821,0.9814191712886936,0.9333677564210293,1.1341427362648928,1.0312867076867913,0.9628499032530644,1.0426090763546414,0.9674677375487301,1.066776315313855,1.0399624254196491,1.0785745255162562,0.9685621711312019,0.9225297390925618,0.9849846977116002,0.9339483243233538,1.0178774666944905,0.9296760535638665,0.9465086802862968,0.9646981160972675,0.9060554881336065,0.9413234988051976,0.9589186306113476,0.9200145560373647,0.957051811953533,0.9879780332707608,0.8999008062692023,1.0782998549853737,0.9697798521174953,0.9694032898324697,0.9148377738163699,0.8674611726443447,0.859205702161707,0.8853746451897497,0.9327618642918142,0.9156672032079471,0.9619992511654332,0.9967966773230038,0.9974895781552889,0.9439474040041367,0.9414518144814457,0.9502521521464,0.9497288476154624,1.0469004766707317,0.9897198633626474,0.9927917799983097,0.9931821652766027,1.0290953099083262,0.9999775746182082,1.0095619225893775,0.9704791881183717,0.942320349645445,0.8831078530231635,0.879883433439487,0.9606263787923311,0.9498516248760414,1.0337411968735999,0.95372993534099,0.9623182817062708,0.9794312895444014,0.9430386318751007,0.9903021210817713,0.9887753185934961,0.9608557215357783,0.9768169543593619,0.9768958571384638,0.9896446217484348,1.0112031301517015,0.9741547868489414,1.0082398757950348,0.9826738608043842,1.0038136939296889,1.0514961841153325,0.9956369479016584,1.0492604928547038,1.0589746446901558,1.0362841627507797,1.0438575790232598,1.004029430416266,1.0300960513885546,1.0049325409646916,1.0318841664866227,0.9420789111961153,1.0186111574472765,0.9890010554482194,1.0416231710911266,0.987047709112224,1.0374313240105406,0.9673799701863404,1.014662181155963,0.9755311973022871,1.097616172870713,1.0425941793635025,0.9923617383279397,0.9983196284351299,0.9671828815741456,0.9831209108671469,0.9226472630632471,1.006917054323788,0.9762504052421702,0.9086541094712037,0.9095325149114525,0.9138617434326686,0.9305083912178385,0.9272100452060971,0.9597398261245947,0.9406480452107217,0.9696040222664416,0.9284232240319021,0.9806029773326971,0.981184486587996,1.1069855968190256,1.2435539685648374,1.5108831002572558,1.4016003065448936,1.3189526432970693,1.2113115709896707,1.1546502856801704,1.1129254571698923,1.1041356660078825,0.9776774282754805,0.9772971003988414,0.9822994507131577,0.968687488405268,0.998102986727796,0.9915794230449545,0.7285885617093544,0.7803196216055127,0.9796596558253486,1.1614653065674465,0.8028457678405726,0.6492304079412242,null,1.581438983162768,1.5814389831627678,1.0],\"yaxis\":\"y\"}],                        {\"height\":500,\"legend\":{\"title\":{\"text\":\"variable\"},\"tracegroupgap\":0},\"margin\":{\"t\":60},\"template\":{\"data\":{\"bar\":[{\"error_x\":{\"color\":\"#f2f5fa\"},\"error_y\":{\"color\":\"#f2f5fa\"},\"marker\":{\"line\":{\"color\":\"rgb(17,17,17)\",\"width\":0.5},\"pattern\":{\"fillmode\":\"overlay\",\"size\":10,\"solidity\":0.2}},\"type\":\"bar\"}],\"barpolar\":[{\"marker\":{\"line\":{\"color\":\"rgb(17,17,17)\",\"width\":0.5},\"pattern\":{\"fillmode\":\"overlay\",\"size\":10,\"solidity\":0.2}},\"type\":\"barpolar\"}],\"carpet\":[{\"aaxis\":{\"endlinecolor\":\"#A2B1C6\",\"gridcolor\":\"#506784\",\"linecolor\":\"#506784\",\"minorgridcolor\":\"#506784\",\"startlinecolor\":\"#A2B1C6\"},\"baxis\":{\"endlinecolor\":\"#A2B1C6\",\"gridcolor\":\"#506784\",\"linecolor\":\"#506784\",\"minorgridcolor\":\"#506784\",\"startlinecolor\":\"#A2B1C6\"},\"type\":\"carpet\"}],\"choropleth\":[{\"colorbar\":{\"outlinewidth\":0,\"ticks\":\"\"},\"type\":\"choropleth\"}],\"contour\":[{\"colorbar\":{\"outlinewidth\":0,\"ticks\":\"\"},\"colorscale\":[[0.0,\"#0d0887\"],[0.1111111111111111,\"#46039f\"],[0.2222222222222222,\"#7201a8\"],[0.3333333333333333,\"#9c179e\"],[0.4444444444444444,\"#bd3786\"],[0.5555555555555556,\"#d8576b\"],[0.6666666666666666,\"#ed7953\"],[0.7777777777777778,\"#fb9f3a\"],[0.8888888888888888,\"#fdca26\"],[1.0,\"#f0f921\"]],\"type\":\"contour\"}],\"contourcarpet\":[{\"colorbar\":{\"outlinewidth\":0,\"ticks\":\"\"},\"type\":\"contourcarpet\"}],\"heatmap\":[{\"colorbar\":{\"outlinewidth\":0,\"ticks\":\"\"},\"colorscale\":[[0.0,\"#0d0887\"],[0.1111111111111111,\"#46039f\"],[0.2222222222222222,\"#7201a8\"],[0.3333333333333333,\"#9c179e\"],[0.4444444444444444,\"#bd3786\"],[0.5555555555555556,\"#d8576b\"],[0.6666666666666666,\"#ed7953\"],[0.7777777777777778,\"#fb9f3a\"],[0.8888888888888888,\"#fdca26\"],[1.0,\"#f0f921\"]],\"type\":\"heatmap\"}],\"heatmapgl\":[{\"colorbar\":{\"outlinewidth\":0,\"ticks\":\"\"},\"colorscale\":[[0.0,\"#0d0887\"],[0.1111111111111111,\"#46039f\"],[0.2222222222222222,\"#7201a8\"],[0.3333333333333333,\"#9c179e\"],[0.4444444444444444,\"#bd3786\"],[0.5555555555555556,\"#d8576b\"],[0.6666666666666666,\"#ed7953\"],[0.7777777777777778,\"#fb9f3a\"],[0.8888888888888888,\"#fdca26\"],[1.0,\"#f0f921\"]],\"type\":\"heatmapgl\"}],\"histogram\":[{\"marker\":{\"pattern\":{\"fillmode\":\"overlay\",\"size\":10,\"solidity\":0.2}},\"type\":\"histogram\"}],\"histogram2d\":[{\"colorbar\":{\"outlinewidth\":0,\"ticks\":\"\"},\"colorscale\":[[0.0,\"#0d0887\"],[0.1111111111111111,\"#46039f\"],[0.2222222222222222,\"#7201a8\"],[0.3333333333333333,\"#9c179e\"],[0.4444444444444444,\"#bd3786\"],[0.5555555555555556,\"#d8576b\"],[0.6666666666666666,\"#ed7953\"],[0.7777777777777778,\"#fb9f3a\"],[0.8888888888888888,\"#fdca26\"],[1.0,\"#f0f921\"]],\"type\":\"histogram2d\"}],\"histogram2dcontour\":[{\"colorbar\":{\"outlinewidth\":0,\"ticks\":\"\"},\"colorscale\":[[0.0,\"#0d0887\"],[0.1111111111111111,\"#46039f\"],[0.2222222222222222,\"#7201a8\"],[0.3333333333333333,\"#9c179e\"],[0.4444444444444444,\"#bd3786\"],[0.5555555555555556,\"#d8576b\"],[0.6666666666666666,\"#ed7953\"],[0.7777777777777778,\"#fb9f3a\"],[0.8888888888888888,\"#fdca26\"],[1.0,\"#f0f921\"]],\"type\":\"histogram2dcontour\"}],\"mesh3d\":[{\"colorbar\":{\"outlinewidth\":0,\"ticks\":\"\"},\"type\":\"mesh3d\"}],\"parcoords\":[{\"line\":{\"colorbar\":{\"outlinewidth\":0,\"ticks\":\"\"}},\"type\":\"parcoords\"}],\"pie\":[{\"automargin\":true,\"type\":\"pie\"}],\"scatter\":[{\"marker\":{\"line\":{\"color\":\"#283442\"}},\"type\":\"scatter\"}],\"scatter3d\":[{\"line\":{\"colorbar\":{\"outlinewidth\":0,\"ticks\":\"\"}},\"marker\":{\"colorbar\":{\"outlinewidth\":0,\"ticks\":\"\"}},\"type\":\"scatter3d\"}],\"scattercarpet\":[{\"marker\":{\"colorbar\":{\"outlinewidth\":0,\"ticks\":\"\"}},\"type\":\"scattercarpet\"}],\"scattergeo\":[{\"marker\":{\"colorbar\":{\"outlinewidth\":0,\"ticks\":\"\"}},\"type\":\"scattergeo\"}],\"scattergl\":[{\"marker\":{\"line\":{\"color\":\"#283442\"}},\"type\":\"scattergl\"}],\"scattermapbox\":[{\"marker\":{\"colorbar\":{\"outlinewidth\":0,\"ticks\":\"\"}},\"type\":\"scattermapbox\"}],\"scatterpolar\":[{\"marker\":{\"colorbar\":{\"outlinewidth\":0,\"ticks\":\"\"}},\"type\":\"scatterpolar\"}],\"scatterpolargl\":[{\"marker\":{\"colorbar\":{\"outlinewidth\":0,\"ticks\":\"\"}},\"type\":\"scatterpolargl\"}],\"scatterternary\":[{\"marker\":{\"colorbar\":{\"outlinewidth\":0,\"ticks\":\"\"}},\"type\":\"scatterternary\"}],\"surface\":[{\"colorbar\":{\"outlinewidth\":0,\"ticks\":\"\"},\"colorscale\":[[0.0,\"#0d0887\"],[0.1111111111111111,\"#46039f\"],[0.2222222222222222,\"#7201a8\"],[0.3333333333333333,\"#9c179e\"],[0.4444444444444444,\"#bd3786\"],[0.5555555555555556,\"#d8576b\"],[0.6666666666666666,\"#ed7953\"],[0.7777777777777778,\"#fb9f3a\"],[0.8888888888888888,\"#fdca26\"],[1.0,\"#f0f921\"]],\"type\":\"surface\"}],\"table\":[{\"cells\":{\"fill\":{\"color\":\"#506784\"},\"line\":{\"color\":\"rgb(17,17,17)\"}},\"header\":{\"fill\":{\"color\":\"#2a3f5f\"},\"line\":{\"color\":\"rgb(17,17,17)\"}},\"type\":\"table\"}]},\"layout\":{\"annotationdefaults\":{\"arrowcolor\":\"#f2f5fa\",\"arrowhead\":0,\"arrowwidth\":1},\"autotypenumbers\":\"strict\",\"coloraxis\":{\"colorbar\":{\"outlinewidth\":0,\"ticks\":\"\"}},\"colorscale\":{\"diverging\":[[0,\"#8e0152\"],[0.1,\"#c51b7d\"],[0.2,\"#de77ae\"],[0.3,\"#f1b6da\"],[0.4,\"#fde0ef\"],[0.5,\"#f7f7f7\"],[0.6,\"#e6f5d0\"],[0.7,\"#b8e186\"],[0.8,\"#7fbc41\"],[0.9,\"#4d9221\"],[1,\"#276419\"]],\"sequential\":[[0.0,\"#0d0887\"],[0.1111111111111111,\"#46039f\"],[0.2222222222222222,\"#7201a8\"],[0.3333333333333333,\"#9c179e\"],[0.4444444444444444,\"#bd3786\"],[0.5555555555555556,\"#d8576b\"],[0.6666666666666666,\"#ed7953\"],[0.7777777777777778,\"#fb9f3a\"],[0.8888888888888888,\"#fdca26\"],[1.0,\"#f0f921\"]],\"sequentialminus\":[[0.0,\"#0d0887\"],[0.1111111111111111,\"#46039f\"],[0.2222222222222222,\"#7201a8\"],[0.3333333333333333,\"#9c179e\"],[0.4444444444444444,\"#bd3786\"],[0.5555555555555556,\"#d8576b\"],[0.6666666666666666,\"#ed7953\"],[0.7777777777777778,\"#fb9f3a\"],[0.8888888888888888,\"#fdca26\"],[1.0,\"#f0f921\"]]},\"colorway\":[\"#636efa\",\"#EF553B\",\"#00cc96\",\"#ab63fa\",\"#FFA15A\",\"#19d3f3\",\"#FF6692\",\"#B6E880\",\"#FF97FF\",\"#FECB52\"],\"font\":{\"color\":\"#f2f5fa\"},\"geo\":{\"bgcolor\":\"rgb(17,17,17)\",\"lakecolor\":\"rgb(17,17,17)\",\"landcolor\":\"rgb(17,17,17)\",\"showlakes\":true,\"showland\":true,\"subunitcolor\":\"#506784\"},\"hoverlabel\":{\"align\":\"left\"},\"hovermode\":\"closest\",\"mapbox\":{\"style\":\"dark\"},\"paper_bgcolor\":\"rgb(17,17,17)\",\"plot_bgcolor\":\"rgb(17,17,17)\",\"polar\":{\"angularaxis\":{\"gridcolor\":\"#506784\",\"linecolor\":\"#506784\",\"ticks\":\"\"},\"bgcolor\":\"rgb(17,17,17)\",\"radialaxis\":{\"gridcolor\":\"#506784\",\"linecolor\":\"#506784\",\"ticks\":\"\"}},\"scene\":{\"xaxis\":{\"backgroundcolor\":\"rgb(17,17,17)\",\"gridcolor\":\"#506784\",\"gridwidth\":2,\"linecolor\":\"#506784\",\"showbackground\":true,\"ticks\":\"\",\"zerolinecolor\":\"#C8D4E3\"},\"yaxis\":{\"backgroundcolor\":\"rgb(17,17,17)\",\"gridcolor\":\"#506784\",\"gridwidth\":2,\"linecolor\":\"#506784\",\"showbackground\":true,\"ticks\":\"\",\"zerolinecolor\":\"#C8D4E3\"},\"zaxis\":{\"backgroundcolor\":\"rgb(17,17,17)\",\"gridcolor\":\"#506784\",\"gridwidth\":2,\"linecolor\":\"#506784\",\"showbackground\":true,\"ticks\":\"\",\"zerolinecolor\":\"#C8D4E3\"}},\"shapedefaults\":{\"line\":{\"color\":\"#f2f5fa\"}},\"sliderdefaults\":{\"bgcolor\":\"#C8D4E3\",\"bordercolor\":\"rgb(17,17,17)\",\"borderwidth\":1,\"tickwidth\":0},\"ternary\":{\"aaxis\":{\"gridcolor\":\"#506784\",\"linecolor\":\"#506784\",\"ticks\":\"\"},\"baxis\":{\"gridcolor\":\"#506784\",\"linecolor\":\"#506784\",\"ticks\":\"\"},\"bgcolor\":\"rgb(17,17,17)\",\"caxis\":{\"gridcolor\":\"#506784\",\"linecolor\":\"#506784\",\"ticks\":\"\"}},\"title\":{\"x\":0.05},\"updatemenudefaults\":{\"bgcolor\":\"#506784\",\"borderwidth\":0},\"xaxis\":{\"automargin\":true,\"gridcolor\":\"#283442\",\"linecolor\":\"#506784\",\"ticks\":\"\",\"title\":{\"standoff\":15},\"zerolinecolor\":\"#283442\",\"zerolinewidth\":2},\"yaxis\":{\"automargin\":true,\"gridcolor\":\"#283442\",\"linecolor\":\"#506784\",\"ticks\":\"\",\"title\":{\"standoff\":15},\"zerolinecolor\":\"#283442\",\"zerolinewidth\":2}}},\"width\":1000,\"xaxis\":{\"anchor\":\"y\",\"domain\":[0.0,1.0],\"title\":{\"text\":\"window\"}},\"yaxis\":{\"anchor\":\"x\",\"domain\":[0.0,1.0],\"title\":{\"text\":\"value\"}}},                        {\"responsive\": true}                    ).then(function(){\n",
       "                            \n",
       "var gd = document.getElementById('14e25842-604b-4e6f-9c48-05b8da7f40fb');\n",
       "var x = new MutationObserver(function (mutations, observer) {{\n",
       "        var display = window.getComputedStyle(gd).display;\n",
       "        if (!display || display === 'none') {{\n",
       "            console.log([gd, 'removed!']);\n",
       "            Plotly.purge(gd);\n",
       "            observer.disconnect();\n",
       "        }}\n",
       "}});\n",
       "\n",
       "// Listen for the removal of the full notebook cells\n",
       "var notebookContainer = gd.closest('#notebook-container');\n",
       "if (notebookContainer) {{\n",
       "    x.observe(notebookContainer, {childList: true});\n",
       "}}\n",
       "\n",
       "// Listen for the clearing of the current output cell\n",
       "var outputEl = gd.closest('.output');\n",
       "if (outputEl) {{\n",
       "    x.observe(outputEl, {childList: true});\n",
       "}}\n",
       "\n",
       "                        })                };                });            </script>        </div>"
      ]
     },
     "metadata": {},
     "output_type": "display_data"
    }
   ],
   "source": [
    "fig = px.line(pos_vs_neg)\n",
    "fig.update_layout(\n",
    "    width=1000,\n",
    "    height = 500\n",
    ")\n",
    "fig.show()"
   ]
  },
  {
   "cell_type": "code",
   "execution_count": 54,
   "metadata": {
    "collapsed": false,
    "pycharm": {
     "name": "#%%\n"
    }
   },
   "outputs": [
    {
     "data": {
      "application/vnd.plotly.v1+json": {
       "config": {
        "plotlyServerURL": "https://plot.ly"
       },
       "data": [
        {
         "hovertemplate": "result=0<br>window=%{x}<br>rr_score_sum=%{y}<extra></extra>",
         "legendgroup": "0",
         "line": {
          "color": "#636efa",
          "dash": "solid"
         },
         "marker": {
          "symbol": "circle"
         },
         "mode": "lines",
         "name": "0",
         "orientation": "v",
         "showlegend": true,
         "type": "scatter",
         "x": [
          -218,
          -217,
          -216,
          -215,
          -214,
          -213,
          -212,
          -211,
          -210,
          -209,
          -208,
          -207,
          -206,
          -205,
          -204,
          -203,
          -202,
          -201,
          -200,
          -199,
          -198,
          -197,
          -196,
          -195,
          -194,
          -193,
          -192,
          -191,
          -190,
          -189,
          -188,
          -187,
          -186,
          -185,
          -184,
          -183,
          -182,
          -181,
          -180,
          -179,
          -178,
          -177,
          -176,
          -175,
          -174,
          -173,
          -172,
          -171,
          -170,
          -169,
          -168,
          -167,
          -166,
          -165,
          -164,
          -163,
          -162,
          -161,
          -160,
          -159,
          -158,
          -157,
          -156,
          -155,
          -154,
          -153,
          -152,
          -151,
          -150,
          -149,
          -148,
          -147,
          -146,
          -145,
          -144,
          -143,
          -142,
          -141,
          -140,
          -139,
          -138,
          -137,
          -136,
          -135,
          -134,
          -133,
          -132,
          -131,
          -130,
          -129,
          -128,
          -127,
          -126,
          -125,
          -124,
          -123,
          -122,
          -121,
          -120,
          -119,
          -118,
          -117,
          -116,
          -115,
          -114,
          -113,
          -112,
          -111,
          -110,
          -109,
          -108,
          -107,
          -106,
          -105,
          -104,
          -103,
          -102,
          -101,
          -100,
          -99,
          -98,
          -97,
          -96,
          -95,
          -94,
          -93,
          -92,
          -91,
          -90,
          -89,
          -88,
          -87,
          -86,
          -85,
          -84,
          -83,
          -82,
          -81,
          -80,
          -79,
          -78,
          -77,
          -76,
          -75,
          -74,
          -73,
          -72,
          -71,
          -70,
          -69,
          -68,
          -67,
          -66,
          -65,
          -64,
          -63,
          -62,
          -61,
          -60,
          -59,
          -58,
          -57,
          -56,
          -55,
          -54,
          -53,
          -52,
          -51,
          -50,
          -49,
          -48,
          -47,
          -46,
          -45,
          -44,
          -43,
          -42,
          -41,
          -40,
          -39,
          -38,
          -37,
          -36,
          -35,
          -34,
          -33,
          -32,
          -31,
          -30,
          -29,
          -28,
          -27,
          -26,
          -25,
          -24,
          -23,
          -22,
          -21,
          -20,
          -19,
          -18,
          -17,
          -16,
          -15,
          -14,
          -13,
          -12,
          -11,
          -10,
          -9,
          -8,
          -7,
          -6,
          -5,
          -4,
          -3,
          -2,
          -1,
          0,
          1,
          2,
          3,
          4,
          5,
          6,
          7,
          8,
          9,
          10,
          11,
          12,
          13,
          14,
          15,
          16,
          17,
          18,
          19,
          20,
          21,
          22
         ],
         "xaxis": "x",
         "y": [
          0.8462629264700641,
          1.2295275829697432,
          1.8044245677192619,
          1.8044245677192619,
          1.5648841574069623,
          1.6127922394694223,
          1.804424567719262,
          1.804424567719262,
          1.8044245677192619,
          1.804424567719262,
          1.6127922394694223,
          2.163478019699309,
          2.1934848618604468,
          1.8044245677192619,
          1.8044245677192619,
          1.8044245677192619,
          2.1320542891013123,
          2.219422214803193,
          2.1816951559773807,
          2.3087885710429745,
          1.9275286083981351,
          2.1601368366483453,
          1.9397498874205437,
          1.9521308910853243,
          2.1753749193348706,
          1.8989509665480728,
          2.0930236505243878,
          1.8997703589767232,
          2.2340548161822107,
          1.9771066354245,
          1.880113408820881,
          2.0966170382182603,
          2.0467541702804097,
          2.0120865363079425,
          1.8426730835346472,
          1.7184995883040588,
          3.0506883190615652,
          1.7284980743536262,
          2.5672630733764783,
          3.2643987175877722,
          2.39353199587977,
          2.513182922973454,
          2.05174397297561,
          2.2112381603994393,
          2.1541821863489674,
          2.235918563695169,
          2.2392368085604817,
          2.1666312304219923,
          2.1506874027917546,
          1.9929205458266994,
          1.9934873186260098,
          2.338723637014039,
          2.286619446939499,
          2.4385767617503356,
          2.5148920462556346,
          2.2262060869588542,
          2.6032862661215437,
          3.073431303999755,
          3.1696286836686487,
          3.0265398896355866,
          2.9116955933107747,
          2.882768115539013,
          3.036384429478606,
          2.7552520808026975,
          2.9214848990290996,
          2.743070528263598,
          2.738484110076002,
          2.763680263573231,
          2.418438242283804,
          2.9991145961205814,
          2.41032594654028,
          2.515230536485983,
          2.2216903764213325,
          2.3577979114759247,
          2.5354349350046586,
          2.7914905690845466,
          2.4571017124158137,
          2.301290539291147,
          2.478253976567088,
          2.6578430617184994,
          2.844200413621668,
          2.378682508346511,
          2.2886225187036056,
          2.3171229657185495,
          2.6764528054420498,
          2.4458513963120323,
          2.6640731859059206,
          2.826703804349262,
          2.912066610660065,
          2.6869733302910745,
          2.4491197692301236,
          2.178432365300606,
          2.082721266358161,
          2.2144234320032274,
          2.1971999138703144,
          2.2127472026117294,
          2.1606418637226605,
          2.288878635533782,
          2.209295867693426,
          2.181650679043595,
          2.036917558758851,
          2.379862222764881,
          2.260951706135724,
          2.409716890947624,
          2.0071519250288627,
          1.9723286104891435,
          2.238217948713473,
          2.212806143019035,
          2.1304005118175726,
          2.1286531807664155,
          2.0616570170513753,
          2.0624906840730577,
          2.265230455732811,
          2.382841735025546,
          2.1534058887069416,
          2.1554949433350807,
          2.214900639223055,
          2.166268754779945,
          2.3818874727914405,
          2.0921255589481214,
          2.330680261554165,
          2.23989493302175,
          2.206562970189861,
          2.360469172522916,
          2.4129585887268568,
          2.403743737019942,
          2.292381422579548,
          2.3974201244266813,
          2.559122764320706,
          2.4008201680675483,
          2.4739734312685857,
          2.4720119170755677,
          2.396355670974598,
          2.3784499128898435,
          2.567225054563062,
          2.523552830174032,
          2.498102690265558,
          2.519062588791282,
          2.4836368570124874,
          2.5466659296508887,
          2.2875711072097196,
          2.317031307222957,
          2.4046863774772884,
          2.180735614024578,
          2.256352507162019,
          2.384509855485873,
          2.416991961180695,
          2.424115940668354,
          2.223163144416952,
          2.279883580518942,
          2.1951159106503813,
          2.140547986122133,
          2.1793641261355075,
          2.2564164342300557,
          2.1887360748532294,
          2.237715443528512,
          2.256137803594248,
          2.4083511178424803,
          2.3716907028842242,
          2.174561018665305,
          2.245811347714136,
          2.258584714127859,
          2.250908055304878,
          2.340088051389611,
          2.286567064390543,
          2.4153049978823873,
          2.355812617397802,
          2.4573263821469675,
          2.3969540799986953,
          2.392580218849962,
          2.3163861366874676,
          2.4563008684072143,
          2.4511033741143824,
          2.474124550422956,
          2.3523310311724486,
          2.4740205325489577,
          2.44472681202876,
          2.4257249490733197,
          2.482330174858035,
          2.3541445960938097,
          2.3879876760298804,
          2.4059786133879264,
          2.3938495547785146,
          2.6489125963362956,
          2.6097174333565833,
          2.6564845259630805,
          2.5397107254091456,
          2.7055093429917076,
          2.6753104504300462,
          2.5700887309000633,
          2.454670409064722,
          2.45572715670486,
          2.327722400030436,
          2.5642059666013584,
          2.6200699965932785,
          2.576150345805087,
          2.4405251134142776,
          2.5914206118347094,
          2.5089801023442475,
          2.5551636359885683,
          2.675843568409841,
          2.741746794746255,
          2.730652343540697,
          2.5533655640483306,
          2.744634056498632,
          2.7332549315337604,
          2.712842223173125,
          2.815798300787304,
          2.967442171643641,
          2.8036393178972547,
          2.883910364046157,
          2.8086994956470615,
          2.6781170199909052,
          2.7499512724148936,
          2.7495433359535353,
          2.7280008272461034,
          2.852766429704053,
          3.1371018328431037,
          4.117932485776836,
          4.219854599207394,
          3.797543705601584,
          3.4251991144355545,
          3.1334337282423808,
          3.14166937752099,
          3.20512668215142,
          3.172238922810624,
          3.3672410227517746,
          3.1002761096101383,
          3.340116726004607,
          3.269276383797329,
          3.4893655140895774,
          3.896746746022922,
          3.5432705172978642,
          3.409897644732614,
          2.708723123222366,
          2.624969778250836,
          3.996730629295713,
          2.4235767553783845,
          1.8044245677192619,
          1.804424567719262,
          1.8044245677192619
         ],
         "yaxis": "y"
        },
        {
         "hovertemplate": "result=1<br>window=%{x}<br>rr_score_sum=%{y}<extra></extra>",
         "legendgroup": "1",
         "line": {
          "color": "#EF553B",
          "dash": "solid"
         },
         "marker": {
          "symbol": "circle"
         },
         "mode": "lines",
         "name": "1",
         "orientation": "v",
         "showlegend": true,
         "type": "scatter",
         "x": [
          -205,
          -204,
          -203,
          -202,
          -201,
          -200,
          -199,
          -198,
          -197,
          -196,
          -195,
          -194,
          -193,
          -192,
          -191,
          -190,
          -189,
          -188,
          -187,
          -186,
          -185,
          -184,
          -183,
          -182,
          -181,
          -180,
          -179,
          -178,
          -177,
          -176,
          -175,
          -174,
          -173,
          -172,
          -171,
          -170,
          -169,
          -168,
          -167,
          -166,
          -165,
          -164,
          -163,
          -162,
          -161,
          -160,
          -159,
          -158,
          -157,
          -156,
          -155,
          -154,
          -153,
          -152,
          -151,
          -150,
          -149,
          -148,
          -147,
          -146,
          -145,
          -144,
          -143,
          -142,
          -141,
          -140,
          -139,
          -138,
          -137,
          -136,
          -135,
          -134,
          -133,
          -132,
          -131,
          -130,
          -129,
          -128,
          -127,
          -126,
          -125,
          -124,
          -123,
          -122,
          -121,
          -120,
          -119,
          -118,
          -117,
          -116,
          -115,
          -114,
          -113,
          -112,
          -111,
          -110,
          -109,
          -108,
          -107,
          -106,
          -105,
          -104,
          -103,
          -102,
          -101,
          -100,
          -99,
          -98,
          -97,
          -96,
          -95,
          -94,
          -93,
          -92,
          -91,
          -90,
          -89,
          -88,
          -87,
          -86,
          -85,
          -84,
          -83,
          -82,
          -81,
          -80,
          -79,
          -78,
          -77,
          -76,
          -75,
          -74,
          -73,
          -72,
          -71,
          -70,
          -69,
          -68,
          -67,
          -66,
          -65,
          -64,
          -63,
          -62,
          -61,
          -60,
          -59,
          -58,
          -57,
          -56,
          -55,
          -54,
          -53,
          -52,
          -51,
          -50,
          -49,
          -48,
          -47,
          -46,
          -45,
          -44,
          -43,
          -42,
          -41,
          -40,
          -39,
          -38,
          -37,
          -36,
          -35,
          -34,
          -33,
          -32,
          -31,
          -30,
          -29,
          -28,
          -27,
          -26,
          -25,
          -24,
          -23,
          -22,
          -21,
          -20,
          -19,
          -18,
          -17,
          -16,
          -15,
          -14,
          -13,
          -12,
          -11,
          -10,
          -9,
          -8,
          -7,
          -6,
          -5,
          -4,
          -3,
          -2,
          -1,
          0,
          1,
          2,
          3,
          4,
          5,
          6,
          7,
          8,
          9,
          10,
          11,
          12,
          13,
          14,
          15,
          16,
          17,
          18,
          20,
          21,
          22
         ],
         "xaxis": "x",
         "y": [
          1.8044245677192619,
          1.8044245677192619,
          1.8044245677192619,
          1.8044245677192619,
          1.8044245677192619,
          1.8044245677192619,
          1.8044245677192619,
          1.8044245677192619,
          1.8044245677192619,
          1.8044245677192619,
          1.8044245677192619,
          1.804424567719262,
          1.8044245677192616,
          1.804424567719262,
          1.8044245677192616,
          1.8044245677192619,
          1.578871496754354,
          1.804424567719262,
          1.8797284143224189,
          1.924910722284313,
          1.9048296965234712,
          2.6937052400419708,
          1.8044245677192619,
          1.8044245677192619,
          1.7173189639693347,
          1.8723494857593541,
          2.0374000087978485,
          1.8044245677192616,
          2.21229021897541,
          2.1186080337550006,
          1.8044245677192619,
          1.684654362563112,
          2.014643844699325,
          2.809682100447762,
          1.531113807481692,
          4.172036882167146,
          2.224863121679389,
          1.993621917001319,
          1.993621917001319,
          2.3449884228108533,
          2.1197534831893567,
          1.8044245677192616,
          2.1197534831893567,
          2.074706495265058,
          1.6540558537426566,
          1.8044245677192619,
          1.8044245677192619,
          2.1317665179018874,
          2.0624941542585185,
          1.8474553372067801,
          1.8646676450017874,
          1.8474553372067801,
          2.2247437902026754,
          1.954304965697634,
          1.879364766708448,
          2.0637980971467185,
          2.204946944993927,
          1.8627113891552953,
          1.8044245677192619,
          1.8699972418347997,
          3.200972763897987,
          3.418076488219347,
          3.650875576231337,
          3.4886182233274714,
          2.7421656176618834,
          1.9226729110205474,
          2.0427319889549787,
          2.067568262205895,
          2.44754951999266,
          2.001782338584236,
          1.8655946995219974,
          2.3584677328580543,
          2.056025793608555,
          2.130048828870717,
          2.362819808567826,
          2.8772860021759223,
          2.7607612711993417,
          2.615730707324064,
          2.529440010499073,
          2.4153261947314038,
          2.119938962000556,
          2.4570357089086103,
          2.188435451726319,
          2.078338459354087,
          2.017075759285473,
          1.9790751557060198,
          2.0133835537633966,
          1.882665573499478,
          1.9401145774265551,
          1.8577017792893864,
          2.1129148051214597,
          1.9781181652134847,
          2.5458311149586854,
          2.277535913605199,
          2.510483923965859,
          1.8795121851247427,
          2.4058930349499024,
          2.233544070177541,
          1.852734081157461,
          2.5034312517894226,
          2.223382713983974,
          2.445614864147471,
          2.201591741462213,
          2.494780453711251,
          2.0557846649149325,
          1.9534148143169305,
          1.9396838761975586,
          1.9485354282692702,
          2.109623326485705,
          2.0648454780432015,
          2.3151819905817392,
          2.483915888281322,
          2.033705248049206,
          2.1080248857644266,
          2.2645114589106936,
          2.199512821697647,
          2.595810499354662,
          2.537211909761516,
          2.2183178050989953,
          2.7285763379830876,
          2.414550894411057,
          2.523761272834402,
          2.182985156169979,
          1.969863379441535,
          1.9028681829414276,
          2.0316309096527077,
          2.2132758334576663,
          1.9710984210560776,
          2.1926430906577723,
          2.3108793154965572,
          2.081598871170603,
          1.9856901877512598,
          2.163895868232482,
          2.09318265962143,
          2.137438932831568,
          2.512577994974123,
          2.2008208525494495,
          2.1215534810507233,
          1.9887135886272231,
          2.186442099761173,
          2.194861191436556,
          2.2097348267343695,
          2.09870168572741,
          1.9734787207476603,
          2.072944245819155,
          1.9765077482052522,
          2.092157805997981,
          2.200740434628713,
          2.3906242223902265,
          2.1974065588653193,
          2.1578524820968172,
          2.2419482981366965,
          1.9914439663388628,
          2.224061868304612,
          2.180302966564733,
          2.072968456018288,
          2.413020713928715,
          2.2529871301631013,
          2.30588211281175,
          2.413194437376943,
          2.464300412540059,
          2.3127974941334037,
          2.2713312192763992,
          2.408781682757344,
          2.763709498448505,
          2.460570132258105,
          2.48940379573853,
          2.7331166727509437,
          2.6863391322162373,
          2.447549535628769,
          2.4703374833870715,
          2.7190119379494666,
          2.471058070306335,
          2.519754654427626,
          2.3174211948496026,
          2.6354060985054275,
          2.366968253465213,
          2.6059098000509127,
          2.340756164097154,
          2.509302749696311,
          2.5945220404008187,
          2.6711595177026184,
          2.3711338281620873,
          2.727509227380015,
          2.776657438006182,
          2.5292551280806492,
          2.5516425212899003,
          2.663527902641526,
          2.8814651792101023,
          2.6279389220676097,
          2.5795030641729944,
          2.6414120944202195,
          2.403900437807854,
          2.342341435280685,
          2.444454508510826,
          2.658349781927714,
          2.5033536285716336,
          2.7033162672841904,
          2.4069878724875085,
          2.568414770711878,
          2.3337701324355455,
          2.734330925881939,
          2.929120938380678,
          3.8848219450375923,
          5.4682740297509245,
          10.076978095795374,
          8.062987560843794,
          5.51005925599329,
          4.527406619168353,
          3.9453335106068494,
          3.507709333817002,
          3.4119561062743102,
          2.810675658589493,
          2.8734379091105837,
          2.8469216884914252,
          2.9205941076019326,
          3.086210487926554,
          3.5814003829216685,
          1.8044245677192619,
          1.8044245677192619,
          4.247237854398753,
          3.6765203836851796,
          1.8044245677192619,
          1.8044245677192619,
          2.8535873535678666,
          2.8535873535678666,
          1.8044245677192619
         ],
         "yaxis": "y"
        }
       ],
       "layout": {
        "height": 500,
        "legend": {
         "title": {
          "text": "result"
         },
         "tracegroupgap": 0
        },
        "margin": {
         "t": 60
        },
        "template": {
         "data": {
          "bar": [
           {
            "error_x": {
             "color": "#f2f5fa"
            },
            "error_y": {
             "color": "#f2f5fa"
            },
            "marker": {
             "line": {
              "color": "rgb(17,17,17)",
              "width": 0.5
             },
             "pattern": {
              "fillmode": "overlay",
              "size": 10,
              "solidity": 0.2
             }
            },
            "type": "bar"
           }
          ],
          "barpolar": [
           {
            "marker": {
             "line": {
              "color": "rgb(17,17,17)",
              "width": 0.5
             },
             "pattern": {
              "fillmode": "overlay",
              "size": 10,
              "solidity": 0.2
             }
            },
            "type": "barpolar"
           }
          ],
          "carpet": [
           {
            "aaxis": {
             "endlinecolor": "#A2B1C6",
             "gridcolor": "#506784",
             "linecolor": "#506784",
             "minorgridcolor": "#506784",
             "startlinecolor": "#A2B1C6"
            },
            "baxis": {
             "endlinecolor": "#A2B1C6",
             "gridcolor": "#506784",
             "linecolor": "#506784",
             "minorgridcolor": "#506784",
             "startlinecolor": "#A2B1C6"
            },
            "type": "carpet"
           }
          ],
          "choropleth": [
           {
            "colorbar": {
             "outlinewidth": 0,
             "ticks": ""
            },
            "type": "choropleth"
           }
          ],
          "contour": [
           {
            "colorbar": {
             "outlinewidth": 0,
             "ticks": ""
            },
            "colorscale": [
             [
              0,
              "#0d0887"
             ],
             [
              0.1111111111111111,
              "#46039f"
             ],
             [
              0.2222222222222222,
              "#7201a8"
             ],
             [
              0.3333333333333333,
              "#9c179e"
             ],
             [
              0.4444444444444444,
              "#bd3786"
             ],
             [
              0.5555555555555556,
              "#d8576b"
             ],
             [
              0.6666666666666666,
              "#ed7953"
             ],
             [
              0.7777777777777778,
              "#fb9f3a"
             ],
             [
              0.8888888888888888,
              "#fdca26"
             ],
             [
              1,
              "#f0f921"
             ]
            ],
            "type": "contour"
           }
          ],
          "contourcarpet": [
           {
            "colorbar": {
             "outlinewidth": 0,
             "ticks": ""
            },
            "type": "contourcarpet"
           }
          ],
          "heatmap": [
           {
            "colorbar": {
             "outlinewidth": 0,
             "ticks": ""
            },
            "colorscale": [
             [
              0,
              "#0d0887"
             ],
             [
              0.1111111111111111,
              "#46039f"
             ],
             [
              0.2222222222222222,
              "#7201a8"
             ],
             [
              0.3333333333333333,
              "#9c179e"
             ],
             [
              0.4444444444444444,
              "#bd3786"
             ],
             [
              0.5555555555555556,
              "#d8576b"
             ],
             [
              0.6666666666666666,
              "#ed7953"
             ],
             [
              0.7777777777777778,
              "#fb9f3a"
             ],
             [
              0.8888888888888888,
              "#fdca26"
             ],
             [
              1,
              "#f0f921"
             ]
            ],
            "type": "heatmap"
           }
          ],
          "heatmapgl": [
           {
            "colorbar": {
             "outlinewidth": 0,
             "ticks": ""
            },
            "colorscale": [
             [
              0,
              "#0d0887"
             ],
             [
              0.1111111111111111,
              "#46039f"
             ],
             [
              0.2222222222222222,
              "#7201a8"
             ],
             [
              0.3333333333333333,
              "#9c179e"
             ],
             [
              0.4444444444444444,
              "#bd3786"
             ],
             [
              0.5555555555555556,
              "#d8576b"
             ],
             [
              0.6666666666666666,
              "#ed7953"
             ],
             [
              0.7777777777777778,
              "#fb9f3a"
             ],
             [
              0.8888888888888888,
              "#fdca26"
             ],
             [
              1,
              "#f0f921"
             ]
            ],
            "type": "heatmapgl"
           }
          ],
          "histogram": [
           {
            "marker": {
             "pattern": {
              "fillmode": "overlay",
              "size": 10,
              "solidity": 0.2
             }
            },
            "type": "histogram"
           }
          ],
          "histogram2d": [
           {
            "colorbar": {
             "outlinewidth": 0,
             "ticks": ""
            },
            "colorscale": [
             [
              0,
              "#0d0887"
             ],
             [
              0.1111111111111111,
              "#46039f"
             ],
             [
              0.2222222222222222,
              "#7201a8"
             ],
             [
              0.3333333333333333,
              "#9c179e"
             ],
             [
              0.4444444444444444,
              "#bd3786"
             ],
             [
              0.5555555555555556,
              "#d8576b"
             ],
             [
              0.6666666666666666,
              "#ed7953"
             ],
             [
              0.7777777777777778,
              "#fb9f3a"
             ],
             [
              0.8888888888888888,
              "#fdca26"
             ],
             [
              1,
              "#f0f921"
             ]
            ],
            "type": "histogram2d"
           }
          ],
          "histogram2dcontour": [
           {
            "colorbar": {
             "outlinewidth": 0,
             "ticks": ""
            },
            "colorscale": [
             [
              0,
              "#0d0887"
             ],
             [
              0.1111111111111111,
              "#46039f"
             ],
             [
              0.2222222222222222,
              "#7201a8"
             ],
             [
              0.3333333333333333,
              "#9c179e"
             ],
             [
              0.4444444444444444,
              "#bd3786"
             ],
             [
              0.5555555555555556,
              "#d8576b"
             ],
             [
              0.6666666666666666,
              "#ed7953"
             ],
             [
              0.7777777777777778,
              "#fb9f3a"
             ],
             [
              0.8888888888888888,
              "#fdca26"
             ],
             [
              1,
              "#f0f921"
             ]
            ],
            "type": "histogram2dcontour"
           }
          ],
          "mesh3d": [
           {
            "colorbar": {
             "outlinewidth": 0,
             "ticks": ""
            },
            "type": "mesh3d"
           }
          ],
          "parcoords": [
           {
            "line": {
             "colorbar": {
              "outlinewidth": 0,
              "ticks": ""
             }
            },
            "type": "parcoords"
           }
          ],
          "pie": [
           {
            "automargin": true,
            "type": "pie"
           }
          ],
          "scatter": [
           {
            "marker": {
             "line": {
              "color": "#283442"
             }
            },
            "type": "scatter"
           }
          ],
          "scatter3d": [
           {
            "line": {
             "colorbar": {
              "outlinewidth": 0,
              "ticks": ""
             }
            },
            "marker": {
             "colorbar": {
              "outlinewidth": 0,
              "ticks": ""
             }
            },
            "type": "scatter3d"
           }
          ],
          "scattercarpet": [
           {
            "marker": {
             "colorbar": {
              "outlinewidth": 0,
              "ticks": ""
             }
            },
            "type": "scattercarpet"
           }
          ],
          "scattergeo": [
           {
            "marker": {
             "colorbar": {
              "outlinewidth": 0,
              "ticks": ""
             }
            },
            "type": "scattergeo"
           }
          ],
          "scattergl": [
           {
            "marker": {
             "line": {
              "color": "#283442"
             }
            },
            "type": "scattergl"
           }
          ],
          "scattermapbox": [
           {
            "marker": {
             "colorbar": {
              "outlinewidth": 0,
              "ticks": ""
             }
            },
            "type": "scattermapbox"
           }
          ],
          "scatterpolar": [
           {
            "marker": {
             "colorbar": {
              "outlinewidth": 0,
              "ticks": ""
             }
            },
            "type": "scatterpolar"
           }
          ],
          "scatterpolargl": [
           {
            "marker": {
             "colorbar": {
              "outlinewidth": 0,
              "ticks": ""
             }
            },
            "type": "scatterpolargl"
           }
          ],
          "scatterternary": [
           {
            "marker": {
             "colorbar": {
              "outlinewidth": 0,
              "ticks": ""
             }
            },
            "type": "scatterternary"
           }
          ],
          "surface": [
           {
            "colorbar": {
             "outlinewidth": 0,
             "ticks": ""
            },
            "colorscale": [
             [
              0,
              "#0d0887"
             ],
             [
              0.1111111111111111,
              "#46039f"
             ],
             [
              0.2222222222222222,
              "#7201a8"
             ],
             [
              0.3333333333333333,
              "#9c179e"
             ],
             [
              0.4444444444444444,
              "#bd3786"
             ],
             [
              0.5555555555555556,
              "#d8576b"
             ],
             [
              0.6666666666666666,
              "#ed7953"
             ],
             [
              0.7777777777777778,
              "#fb9f3a"
             ],
             [
              0.8888888888888888,
              "#fdca26"
             ],
             [
              1,
              "#f0f921"
             ]
            ],
            "type": "surface"
           }
          ],
          "table": [
           {
            "cells": {
             "fill": {
              "color": "#506784"
             },
             "line": {
              "color": "rgb(17,17,17)"
             }
            },
            "header": {
             "fill": {
              "color": "#2a3f5f"
             },
             "line": {
              "color": "rgb(17,17,17)"
             }
            },
            "type": "table"
           }
          ]
         },
         "layout": {
          "annotationdefaults": {
           "arrowcolor": "#f2f5fa",
           "arrowhead": 0,
           "arrowwidth": 1
          },
          "autotypenumbers": "strict",
          "coloraxis": {
           "colorbar": {
            "outlinewidth": 0,
            "ticks": ""
           }
          },
          "colorscale": {
           "diverging": [
            [
             0,
             "#8e0152"
            ],
            [
             0.1,
             "#c51b7d"
            ],
            [
             0.2,
             "#de77ae"
            ],
            [
             0.3,
             "#f1b6da"
            ],
            [
             0.4,
             "#fde0ef"
            ],
            [
             0.5,
             "#f7f7f7"
            ],
            [
             0.6,
             "#e6f5d0"
            ],
            [
             0.7,
             "#b8e186"
            ],
            [
             0.8,
             "#7fbc41"
            ],
            [
             0.9,
             "#4d9221"
            ],
            [
             1,
             "#276419"
            ]
           ],
           "sequential": [
            [
             0,
             "#0d0887"
            ],
            [
             0.1111111111111111,
             "#46039f"
            ],
            [
             0.2222222222222222,
             "#7201a8"
            ],
            [
             0.3333333333333333,
             "#9c179e"
            ],
            [
             0.4444444444444444,
             "#bd3786"
            ],
            [
             0.5555555555555556,
             "#d8576b"
            ],
            [
             0.6666666666666666,
             "#ed7953"
            ],
            [
             0.7777777777777778,
             "#fb9f3a"
            ],
            [
             0.8888888888888888,
             "#fdca26"
            ],
            [
             1,
             "#f0f921"
            ]
           ],
           "sequentialminus": [
            [
             0,
             "#0d0887"
            ],
            [
             0.1111111111111111,
             "#46039f"
            ],
            [
             0.2222222222222222,
             "#7201a8"
            ],
            [
             0.3333333333333333,
             "#9c179e"
            ],
            [
             0.4444444444444444,
             "#bd3786"
            ],
            [
             0.5555555555555556,
             "#d8576b"
            ],
            [
             0.6666666666666666,
             "#ed7953"
            ],
            [
             0.7777777777777778,
             "#fb9f3a"
            ],
            [
             0.8888888888888888,
             "#fdca26"
            ],
            [
             1,
             "#f0f921"
            ]
           ]
          },
          "colorway": [
           "#636efa",
           "#EF553B",
           "#00cc96",
           "#ab63fa",
           "#FFA15A",
           "#19d3f3",
           "#FF6692",
           "#B6E880",
           "#FF97FF",
           "#FECB52"
          ],
          "font": {
           "color": "#f2f5fa"
          },
          "geo": {
           "bgcolor": "rgb(17,17,17)",
           "lakecolor": "rgb(17,17,17)",
           "landcolor": "rgb(17,17,17)",
           "showlakes": true,
           "showland": true,
           "subunitcolor": "#506784"
          },
          "hoverlabel": {
           "align": "left"
          },
          "hovermode": "closest",
          "mapbox": {
           "style": "dark"
          },
          "paper_bgcolor": "rgb(17,17,17)",
          "plot_bgcolor": "rgb(17,17,17)",
          "polar": {
           "angularaxis": {
            "gridcolor": "#506784",
            "linecolor": "#506784",
            "ticks": ""
           },
           "bgcolor": "rgb(17,17,17)",
           "radialaxis": {
            "gridcolor": "#506784",
            "linecolor": "#506784",
            "ticks": ""
           }
          },
          "scene": {
           "xaxis": {
            "backgroundcolor": "rgb(17,17,17)",
            "gridcolor": "#506784",
            "gridwidth": 2,
            "linecolor": "#506784",
            "showbackground": true,
            "ticks": "",
            "zerolinecolor": "#C8D4E3"
           },
           "yaxis": {
            "backgroundcolor": "rgb(17,17,17)",
            "gridcolor": "#506784",
            "gridwidth": 2,
            "linecolor": "#506784",
            "showbackground": true,
            "ticks": "",
            "zerolinecolor": "#C8D4E3"
           },
           "zaxis": {
            "backgroundcolor": "rgb(17,17,17)",
            "gridcolor": "#506784",
            "gridwidth": 2,
            "linecolor": "#506784",
            "showbackground": true,
            "ticks": "",
            "zerolinecolor": "#C8D4E3"
           }
          },
          "shapedefaults": {
           "line": {
            "color": "#f2f5fa"
           }
          },
          "sliderdefaults": {
           "bgcolor": "#C8D4E3",
           "bordercolor": "rgb(17,17,17)",
           "borderwidth": 1,
           "tickwidth": 0
          },
          "ternary": {
           "aaxis": {
            "gridcolor": "#506784",
            "linecolor": "#506784",
            "ticks": ""
           },
           "baxis": {
            "gridcolor": "#506784",
            "linecolor": "#506784",
            "ticks": ""
           },
           "bgcolor": "rgb(17,17,17)",
           "caxis": {
            "gridcolor": "#506784",
            "linecolor": "#506784",
            "ticks": ""
           }
          },
          "title": {
           "x": 0.05
          },
          "updatemenudefaults": {
           "bgcolor": "#506784",
           "borderwidth": 0
          },
          "xaxis": {
           "automargin": true,
           "gridcolor": "#283442",
           "linecolor": "#506784",
           "ticks": "",
           "title": {
            "standoff": 15
           },
           "zerolinecolor": "#283442",
           "zerolinewidth": 2
          },
          "yaxis": {
           "automargin": true,
           "gridcolor": "#283442",
           "linecolor": "#506784",
           "ticks": "",
           "title": {
            "standoff": 15
           },
           "zerolinecolor": "#283442",
           "zerolinewidth": 2
          }
         }
        },
        "width": 1000,
        "xaxis": {
         "anchor": "y",
         "domain": [
          0,
          1
         ],
         "title": {
          "text": "window"
         }
        },
        "yaxis": {
         "anchor": "x",
         "domain": [
          0,
          1
         ],
         "range": [
          0,
          10
         ],
         "title": {
          "text": "rr_score_sum"
         }
        }
       }
      },
      "text/html": [
       "<div>                            <div id=\"7c7b5186-b9c8-4999-bd88-dffd19ceebbe\" class=\"plotly-graph-div\" style=\"height:500px; width:1000px;\"></div>            <script type=\"text/javascript\">                require([\"plotly\"], function(Plotly) {                    window.PLOTLYENV=window.PLOTLYENV || {};                                    if (document.getElementById(\"7c7b5186-b9c8-4999-bd88-dffd19ceebbe\")) {                    Plotly.newPlot(                        \"7c7b5186-b9c8-4999-bd88-dffd19ceebbe\",                        [{\"hovertemplate\":\"result=0<br>window=%{x}<br>rr_score_sum=%{y}<extra></extra>\",\"legendgroup\":\"0\",\"line\":{\"color\":\"#636efa\",\"dash\":\"solid\"},\"marker\":{\"symbol\":\"circle\"},\"mode\":\"lines\",\"name\":\"0\",\"orientation\":\"v\",\"showlegend\":true,\"type\":\"scatter\",\"x\":[-218,-217,-216,-215,-214,-213,-212,-211,-210,-209,-208,-207,-206,-205,-204,-203,-202,-201,-200,-199,-198,-197,-196,-195,-194,-193,-192,-191,-190,-189,-188,-187,-186,-185,-184,-183,-182,-181,-180,-179,-178,-177,-176,-175,-174,-173,-172,-171,-170,-169,-168,-167,-166,-165,-164,-163,-162,-161,-160,-159,-158,-157,-156,-155,-154,-153,-152,-151,-150,-149,-148,-147,-146,-145,-144,-143,-142,-141,-140,-139,-138,-137,-136,-135,-134,-133,-132,-131,-130,-129,-128,-127,-126,-125,-124,-123,-122,-121,-120,-119,-118,-117,-116,-115,-114,-113,-112,-111,-110,-109,-108,-107,-106,-105,-104,-103,-102,-101,-100,-99,-98,-97,-96,-95,-94,-93,-92,-91,-90,-89,-88,-87,-86,-85,-84,-83,-82,-81,-80,-79,-78,-77,-76,-75,-74,-73,-72,-71,-70,-69,-68,-67,-66,-65,-64,-63,-62,-61,-60,-59,-58,-57,-56,-55,-54,-53,-52,-51,-50,-49,-48,-47,-46,-45,-44,-43,-42,-41,-40,-39,-38,-37,-36,-35,-34,-33,-32,-31,-30,-29,-28,-27,-26,-25,-24,-23,-22,-21,-20,-19,-18,-17,-16,-15,-14,-13,-12,-11,-10,-9,-8,-7,-6,-5,-4,-3,-2,-1,0,1,2,3,4,5,6,7,8,9,10,11,12,13,14,15,16,17,18,19,20,21,22],\"xaxis\":\"x\",\"y\":[0.8462629264700641,1.2295275829697432,1.8044245677192619,1.8044245677192619,1.5648841574069623,1.6127922394694223,1.804424567719262,1.804424567719262,1.8044245677192619,1.804424567719262,1.6127922394694223,2.163478019699309,2.1934848618604468,1.8044245677192619,1.8044245677192619,1.8044245677192619,2.1320542891013123,2.219422214803193,2.1816951559773807,2.3087885710429745,1.9275286083981351,2.1601368366483453,1.9397498874205437,1.9521308910853243,2.1753749193348706,1.8989509665480728,2.0930236505243878,1.8997703589767232,2.2340548161822107,1.9771066354245,1.880113408820881,2.0966170382182603,2.0467541702804097,2.0120865363079425,1.8426730835346472,1.7184995883040588,3.0506883190615652,1.7284980743536262,2.5672630733764783,3.2643987175877722,2.39353199587977,2.513182922973454,2.05174397297561,2.2112381603994393,2.1541821863489674,2.235918563695169,2.2392368085604817,2.1666312304219923,2.1506874027917546,1.9929205458266994,1.9934873186260098,2.338723637014039,2.286619446939499,2.4385767617503356,2.5148920462556346,2.2262060869588542,2.6032862661215437,3.073431303999755,3.1696286836686487,3.0265398896355866,2.9116955933107747,2.882768115539013,3.036384429478606,2.7552520808026975,2.9214848990290996,2.743070528263598,2.738484110076002,2.763680263573231,2.418438242283804,2.9991145961205814,2.41032594654028,2.515230536485983,2.2216903764213325,2.3577979114759247,2.5354349350046586,2.7914905690845466,2.4571017124158137,2.301290539291147,2.478253976567088,2.6578430617184994,2.844200413621668,2.378682508346511,2.2886225187036056,2.3171229657185495,2.6764528054420498,2.4458513963120323,2.6640731859059206,2.826703804349262,2.912066610660065,2.6869733302910745,2.4491197692301236,2.178432365300606,2.082721266358161,2.2144234320032274,2.1971999138703144,2.2127472026117294,2.1606418637226605,2.288878635533782,2.209295867693426,2.181650679043595,2.036917558758851,2.379862222764881,2.260951706135724,2.409716890947624,2.0071519250288627,1.9723286104891435,2.238217948713473,2.212806143019035,2.1304005118175726,2.1286531807664155,2.0616570170513753,2.0624906840730577,2.265230455732811,2.382841735025546,2.1534058887069416,2.1554949433350807,2.214900639223055,2.166268754779945,2.3818874727914405,2.0921255589481214,2.330680261554165,2.23989493302175,2.206562970189861,2.360469172522916,2.4129585887268568,2.403743737019942,2.292381422579548,2.3974201244266813,2.559122764320706,2.4008201680675483,2.4739734312685857,2.4720119170755677,2.396355670974598,2.3784499128898435,2.567225054563062,2.523552830174032,2.498102690265558,2.519062588791282,2.4836368570124874,2.5466659296508887,2.2875711072097196,2.317031307222957,2.4046863774772884,2.180735614024578,2.256352507162019,2.384509855485873,2.416991961180695,2.424115940668354,2.223163144416952,2.279883580518942,2.1951159106503813,2.140547986122133,2.1793641261355075,2.2564164342300557,2.1887360748532294,2.237715443528512,2.256137803594248,2.4083511178424803,2.3716907028842242,2.174561018665305,2.245811347714136,2.258584714127859,2.250908055304878,2.340088051389611,2.286567064390543,2.4153049978823873,2.355812617397802,2.4573263821469675,2.3969540799986953,2.392580218849962,2.3163861366874676,2.4563008684072143,2.4511033741143824,2.474124550422956,2.3523310311724486,2.4740205325489577,2.44472681202876,2.4257249490733197,2.482330174858035,2.3541445960938097,2.3879876760298804,2.4059786133879264,2.3938495547785146,2.6489125963362956,2.6097174333565833,2.6564845259630805,2.5397107254091456,2.7055093429917076,2.6753104504300462,2.5700887309000633,2.454670409064722,2.45572715670486,2.327722400030436,2.5642059666013584,2.6200699965932785,2.576150345805087,2.4405251134142776,2.5914206118347094,2.5089801023442475,2.5551636359885683,2.675843568409841,2.741746794746255,2.730652343540697,2.5533655640483306,2.744634056498632,2.7332549315337604,2.712842223173125,2.815798300787304,2.967442171643641,2.8036393178972547,2.883910364046157,2.8086994956470615,2.6781170199909052,2.7499512724148936,2.7495433359535353,2.7280008272461034,2.852766429704053,3.1371018328431037,4.117932485776836,4.219854599207394,3.797543705601584,3.4251991144355545,3.1334337282423808,3.14166937752099,3.20512668215142,3.172238922810624,3.3672410227517746,3.1002761096101383,3.340116726004607,3.269276383797329,3.4893655140895774,3.896746746022922,3.5432705172978642,3.409897644732614,2.708723123222366,2.624969778250836,3.996730629295713,2.4235767553783845,1.8044245677192619,1.804424567719262,1.8044245677192619],\"yaxis\":\"y\"},{\"hovertemplate\":\"result=1<br>window=%{x}<br>rr_score_sum=%{y}<extra></extra>\",\"legendgroup\":\"1\",\"line\":{\"color\":\"#EF553B\",\"dash\":\"solid\"},\"marker\":{\"symbol\":\"circle\"},\"mode\":\"lines\",\"name\":\"1\",\"orientation\":\"v\",\"showlegend\":true,\"type\":\"scatter\",\"x\":[-205,-204,-203,-202,-201,-200,-199,-198,-197,-196,-195,-194,-193,-192,-191,-190,-189,-188,-187,-186,-185,-184,-183,-182,-181,-180,-179,-178,-177,-176,-175,-174,-173,-172,-171,-170,-169,-168,-167,-166,-165,-164,-163,-162,-161,-160,-159,-158,-157,-156,-155,-154,-153,-152,-151,-150,-149,-148,-147,-146,-145,-144,-143,-142,-141,-140,-139,-138,-137,-136,-135,-134,-133,-132,-131,-130,-129,-128,-127,-126,-125,-124,-123,-122,-121,-120,-119,-118,-117,-116,-115,-114,-113,-112,-111,-110,-109,-108,-107,-106,-105,-104,-103,-102,-101,-100,-99,-98,-97,-96,-95,-94,-93,-92,-91,-90,-89,-88,-87,-86,-85,-84,-83,-82,-81,-80,-79,-78,-77,-76,-75,-74,-73,-72,-71,-70,-69,-68,-67,-66,-65,-64,-63,-62,-61,-60,-59,-58,-57,-56,-55,-54,-53,-52,-51,-50,-49,-48,-47,-46,-45,-44,-43,-42,-41,-40,-39,-38,-37,-36,-35,-34,-33,-32,-31,-30,-29,-28,-27,-26,-25,-24,-23,-22,-21,-20,-19,-18,-17,-16,-15,-14,-13,-12,-11,-10,-9,-8,-7,-6,-5,-4,-3,-2,-1,0,1,2,3,4,5,6,7,8,9,10,11,12,13,14,15,16,17,18,20,21,22],\"xaxis\":\"x\",\"y\":[1.8044245677192619,1.8044245677192619,1.8044245677192619,1.8044245677192619,1.8044245677192619,1.8044245677192619,1.8044245677192619,1.8044245677192619,1.8044245677192619,1.8044245677192619,1.8044245677192619,1.804424567719262,1.8044245677192616,1.804424567719262,1.8044245677192616,1.8044245677192619,1.578871496754354,1.804424567719262,1.8797284143224189,1.924910722284313,1.9048296965234712,2.6937052400419708,1.8044245677192619,1.8044245677192619,1.7173189639693347,1.8723494857593541,2.0374000087978485,1.8044245677192616,2.21229021897541,2.1186080337550006,1.8044245677192619,1.684654362563112,2.014643844699325,2.809682100447762,1.531113807481692,4.172036882167146,2.224863121679389,1.993621917001319,1.993621917001319,2.3449884228108533,2.1197534831893567,1.8044245677192616,2.1197534831893567,2.074706495265058,1.6540558537426566,1.8044245677192619,1.8044245677192619,2.1317665179018874,2.0624941542585185,1.8474553372067801,1.8646676450017874,1.8474553372067801,2.2247437902026754,1.954304965697634,1.879364766708448,2.0637980971467185,2.204946944993927,1.8627113891552953,1.8044245677192619,1.8699972418347997,3.200972763897987,3.418076488219347,3.650875576231337,3.4886182233274714,2.7421656176618834,1.9226729110205474,2.0427319889549787,2.067568262205895,2.44754951999266,2.001782338584236,1.8655946995219974,2.3584677328580543,2.056025793608555,2.130048828870717,2.362819808567826,2.8772860021759223,2.7607612711993417,2.615730707324064,2.529440010499073,2.4153261947314038,2.119938962000556,2.4570357089086103,2.188435451726319,2.078338459354087,2.017075759285473,1.9790751557060198,2.0133835537633966,1.882665573499478,1.9401145774265551,1.8577017792893864,2.1129148051214597,1.9781181652134847,2.5458311149586854,2.277535913605199,2.510483923965859,1.8795121851247427,2.4058930349499024,2.233544070177541,1.852734081157461,2.5034312517894226,2.223382713983974,2.445614864147471,2.201591741462213,2.494780453711251,2.0557846649149325,1.9534148143169305,1.9396838761975586,1.9485354282692702,2.109623326485705,2.0648454780432015,2.3151819905817392,2.483915888281322,2.033705248049206,2.1080248857644266,2.2645114589106936,2.199512821697647,2.595810499354662,2.537211909761516,2.2183178050989953,2.7285763379830876,2.414550894411057,2.523761272834402,2.182985156169979,1.969863379441535,1.9028681829414276,2.0316309096527077,2.2132758334576663,1.9710984210560776,2.1926430906577723,2.3108793154965572,2.081598871170603,1.9856901877512598,2.163895868232482,2.09318265962143,2.137438932831568,2.512577994974123,2.2008208525494495,2.1215534810507233,1.9887135886272231,2.186442099761173,2.194861191436556,2.2097348267343695,2.09870168572741,1.9734787207476603,2.072944245819155,1.9765077482052522,2.092157805997981,2.200740434628713,2.3906242223902265,2.1974065588653193,2.1578524820968172,2.2419482981366965,1.9914439663388628,2.224061868304612,2.180302966564733,2.072968456018288,2.413020713928715,2.2529871301631013,2.30588211281175,2.413194437376943,2.464300412540059,2.3127974941334037,2.2713312192763992,2.408781682757344,2.763709498448505,2.460570132258105,2.48940379573853,2.7331166727509437,2.6863391322162373,2.447549535628769,2.4703374833870715,2.7190119379494666,2.471058070306335,2.519754654427626,2.3174211948496026,2.6354060985054275,2.366968253465213,2.6059098000509127,2.340756164097154,2.509302749696311,2.5945220404008187,2.6711595177026184,2.3711338281620873,2.727509227380015,2.776657438006182,2.5292551280806492,2.5516425212899003,2.663527902641526,2.8814651792101023,2.6279389220676097,2.5795030641729944,2.6414120944202195,2.403900437807854,2.342341435280685,2.444454508510826,2.658349781927714,2.5033536285716336,2.7033162672841904,2.4069878724875085,2.568414770711878,2.3337701324355455,2.734330925881939,2.929120938380678,3.8848219450375923,5.4682740297509245,10.076978095795374,8.062987560843794,5.51005925599329,4.527406619168353,3.9453335106068494,3.507709333817002,3.4119561062743102,2.810675658589493,2.8734379091105837,2.8469216884914252,2.9205941076019326,3.086210487926554,3.5814003829216685,1.8044245677192619,1.8044245677192619,4.247237854398753,3.6765203836851796,1.8044245677192619,1.8044245677192619,2.8535873535678666,2.8535873535678666,1.8044245677192619],\"yaxis\":\"y\"}],                        {\"height\":500,\"legend\":{\"title\":{\"text\":\"result\"},\"tracegroupgap\":0},\"margin\":{\"t\":60},\"template\":{\"data\":{\"bar\":[{\"error_x\":{\"color\":\"#f2f5fa\"},\"error_y\":{\"color\":\"#f2f5fa\"},\"marker\":{\"line\":{\"color\":\"rgb(17,17,17)\",\"width\":0.5},\"pattern\":{\"fillmode\":\"overlay\",\"size\":10,\"solidity\":0.2}},\"type\":\"bar\"}],\"barpolar\":[{\"marker\":{\"line\":{\"color\":\"rgb(17,17,17)\",\"width\":0.5},\"pattern\":{\"fillmode\":\"overlay\",\"size\":10,\"solidity\":0.2}},\"type\":\"barpolar\"}],\"carpet\":[{\"aaxis\":{\"endlinecolor\":\"#A2B1C6\",\"gridcolor\":\"#506784\",\"linecolor\":\"#506784\",\"minorgridcolor\":\"#506784\",\"startlinecolor\":\"#A2B1C6\"},\"baxis\":{\"endlinecolor\":\"#A2B1C6\",\"gridcolor\":\"#506784\",\"linecolor\":\"#506784\",\"minorgridcolor\":\"#506784\",\"startlinecolor\":\"#A2B1C6\"},\"type\":\"carpet\"}],\"choropleth\":[{\"colorbar\":{\"outlinewidth\":0,\"ticks\":\"\"},\"type\":\"choropleth\"}],\"contour\":[{\"colorbar\":{\"outlinewidth\":0,\"ticks\":\"\"},\"colorscale\":[[0.0,\"#0d0887\"],[0.1111111111111111,\"#46039f\"],[0.2222222222222222,\"#7201a8\"],[0.3333333333333333,\"#9c179e\"],[0.4444444444444444,\"#bd3786\"],[0.5555555555555556,\"#d8576b\"],[0.6666666666666666,\"#ed7953\"],[0.7777777777777778,\"#fb9f3a\"],[0.8888888888888888,\"#fdca26\"],[1.0,\"#f0f921\"]],\"type\":\"contour\"}],\"contourcarpet\":[{\"colorbar\":{\"outlinewidth\":0,\"ticks\":\"\"},\"type\":\"contourcarpet\"}],\"heatmap\":[{\"colorbar\":{\"outlinewidth\":0,\"ticks\":\"\"},\"colorscale\":[[0.0,\"#0d0887\"],[0.1111111111111111,\"#46039f\"],[0.2222222222222222,\"#7201a8\"],[0.3333333333333333,\"#9c179e\"],[0.4444444444444444,\"#bd3786\"],[0.5555555555555556,\"#d8576b\"],[0.6666666666666666,\"#ed7953\"],[0.7777777777777778,\"#fb9f3a\"],[0.8888888888888888,\"#fdca26\"],[1.0,\"#f0f921\"]],\"type\":\"heatmap\"}],\"heatmapgl\":[{\"colorbar\":{\"outlinewidth\":0,\"ticks\":\"\"},\"colorscale\":[[0.0,\"#0d0887\"],[0.1111111111111111,\"#46039f\"],[0.2222222222222222,\"#7201a8\"],[0.3333333333333333,\"#9c179e\"],[0.4444444444444444,\"#bd3786\"],[0.5555555555555556,\"#d8576b\"],[0.6666666666666666,\"#ed7953\"],[0.7777777777777778,\"#fb9f3a\"],[0.8888888888888888,\"#fdca26\"],[1.0,\"#f0f921\"]],\"type\":\"heatmapgl\"}],\"histogram\":[{\"marker\":{\"pattern\":{\"fillmode\":\"overlay\",\"size\":10,\"solidity\":0.2}},\"type\":\"histogram\"}],\"histogram2d\":[{\"colorbar\":{\"outlinewidth\":0,\"ticks\":\"\"},\"colorscale\":[[0.0,\"#0d0887\"],[0.1111111111111111,\"#46039f\"],[0.2222222222222222,\"#7201a8\"],[0.3333333333333333,\"#9c179e\"],[0.4444444444444444,\"#bd3786\"],[0.5555555555555556,\"#d8576b\"],[0.6666666666666666,\"#ed7953\"],[0.7777777777777778,\"#fb9f3a\"],[0.8888888888888888,\"#fdca26\"],[1.0,\"#f0f921\"]],\"type\":\"histogram2d\"}],\"histogram2dcontour\":[{\"colorbar\":{\"outlinewidth\":0,\"ticks\":\"\"},\"colorscale\":[[0.0,\"#0d0887\"],[0.1111111111111111,\"#46039f\"],[0.2222222222222222,\"#7201a8\"],[0.3333333333333333,\"#9c179e\"],[0.4444444444444444,\"#bd3786\"],[0.5555555555555556,\"#d8576b\"],[0.6666666666666666,\"#ed7953\"],[0.7777777777777778,\"#fb9f3a\"],[0.8888888888888888,\"#fdca26\"],[1.0,\"#f0f921\"]],\"type\":\"histogram2dcontour\"}],\"mesh3d\":[{\"colorbar\":{\"outlinewidth\":0,\"ticks\":\"\"},\"type\":\"mesh3d\"}],\"parcoords\":[{\"line\":{\"colorbar\":{\"outlinewidth\":0,\"ticks\":\"\"}},\"type\":\"parcoords\"}],\"pie\":[{\"automargin\":true,\"type\":\"pie\"}],\"scatter\":[{\"marker\":{\"line\":{\"color\":\"#283442\"}},\"type\":\"scatter\"}],\"scatter3d\":[{\"line\":{\"colorbar\":{\"outlinewidth\":0,\"ticks\":\"\"}},\"marker\":{\"colorbar\":{\"outlinewidth\":0,\"ticks\":\"\"}},\"type\":\"scatter3d\"}],\"scattercarpet\":[{\"marker\":{\"colorbar\":{\"outlinewidth\":0,\"ticks\":\"\"}},\"type\":\"scattercarpet\"}],\"scattergeo\":[{\"marker\":{\"colorbar\":{\"outlinewidth\":0,\"ticks\":\"\"}},\"type\":\"scattergeo\"}],\"scattergl\":[{\"marker\":{\"line\":{\"color\":\"#283442\"}},\"type\":\"scattergl\"}],\"scattermapbox\":[{\"marker\":{\"colorbar\":{\"outlinewidth\":0,\"ticks\":\"\"}},\"type\":\"scattermapbox\"}],\"scatterpolar\":[{\"marker\":{\"colorbar\":{\"outlinewidth\":0,\"ticks\":\"\"}},\"type\":\"scatterpolar\"}],\"scatterpolargl\":[{\"marker\":{\"colorbar\":{\"outlinewidth\":0,\"ticks\":\"\"}},\"type\":\"scatterpolargl\"}],\"scatterternary\":[{\"marker\":{\"colorbar\":{\"outlinewidth\":0,\"ticks\":\"\"}},\"type\":\"scatterternary\"}],\"surface\":[{\"colorbar\":{\"outlinewidth\":0,\"ticks\":\"\"},\"colorscale\":[[0.0,\"#0d0887\"],[0.1111111111111111,\"#46039f\"],[0.2222222222222222,\"#7201a8\"],[0.3333333333333333,\"#9c179e\"],[0.4444444444444444,\"#bd3786\"],[0.5555555555555556,\"#d8576b\"],[0.6666666666666666,\"#ed7953\"],[0.7777777777777778,\"#fb9f3a\"],[0.8888888888888888,\"#fdca26\"],[1.0,\"#f0f921\"]],\"type\":\"surface\"}],\"table\":[{\"cells\":{\"fill\":{\"color\":\"#506784\"},\"line\":{\"color\":\"rgb(17,17,17)\"}},\"header\":{\"fill\":{\"color\":\"#2a3f5f\"},\"line\":{\"color\":\"rgb(17,17,17)\"}},\"type\":\"table\"}]},\"layout\":{\"annotationdefaults\":{\"arrowcolor\":\"#f2f5fa\",\"arrowhead\":0,\"arrowwidth\":1},\"autotypenumbers\":\"strict\",\"coloraxis\":{\"colorbar\":{\"outlinewidth\":0,\"ticks\":\"\"}},\"colorscale\":{\"diverging\":[[0,\"#8e0152\"],[0.1,\"#c51b7d\"],[0.2,\"#de77ae\"],[0.3,\"#f1b6da\"],[0.4,\"#fde0ef\"],[0.5,\"#f7f7f7\"],[0.6,\"#e6f5d0\"],[0.7,\"#b8e186\"],[0.8,\"#7fbc41\"],[0.9,\"#4d9221\"],[1,\"#276419\"]],\"sequential\":[[0.0,\"#0d0887\"],[0.1111111111111111,\"#46039f\"],[0.2222222222222222,\"#7201a8\"],[0.3333333333333333,\"#9c179e\"],[0.4444444444444444,\"#bd3786\"],[0.5555555555555556,\"#d8576b\"],[0.6666666666666666,\"#ed7953\"],[0.7777777777777778,\"#fb9f3a\"],[0.8888888888888888,\"#fdca26\"],[1.0,\"#f0f921\"]],\"sequentialminus\":[[0.0,\"#0d0887\"],[0.1111111111111111,\"#46039f\"],[0.2222222222222222,\"#7201a8\"],[0.3333333333333333,\"#9c179e\"],[0.4444444444444444,\"#bd3786\"],[0.5555555555555556,\"#d8576b\"],[0.6666666666666666,\"#ed7953\"],[0.7777777777777778,\"#fb9f3a\"],[0.8888888888888888,\"#fdca26\"],[1.0,\"#f0f921\"]]},\"colorway\":[\"#636efa\",\"#EF553B\",\"#00cc96\",\"#ab63fa\",\"#FFA15A\",\"#19d3f3\",\"#FF6692\",\"#B6E880\",\"#FF97FF\",\"#FECB52\"],\"font\":{\"color\":\"#f2f5fa\"},\"geo\":{\"bgcolor\":\"rgb(17,17,17)\",\"lakecolor\":\"rgb(17,17,17)\",\"landcolor\":\"rgb(17,17,17)\",\"showlakes\":true,\"showland\":true,\"subunitcolor\":\"#506784\"},\"hoverlabel\":{\"align\":\"left\"},\"hovermode\":\"closest\",\"mapbox\":{\"style\":\"dark\"},\"paper_bgcolor\":\"rgb(17,17,17)\",\"plot_bgcolor\":\"rgb(17,17,17)\",\"polar\":{\"angularaxis\":{\"gridcolor\":\"#506784\",\"linecolor\":\"#506784\",\"ticks\":\"\"},\"bgcolor\":\"rgb(17,17,17)\",\"radialaxis\":{\"gridcolor\":\"#506784\",\"linecolor\":\"#506784\",\"ticks\":\"\"}},\"scene\":{\"xaxis\":{\"backgroundcolor\":\"rgb(17,17,17)\",\"gridcolor\":\"#506784\",\"gridwidth\":2,\"linecolor\":\"#506784\",\"showbackground\":true,\"ticks\":\"\",\"zerolinecolor\":\"#C8D4E3\"},\"yaxis\":{\"backgroundcolor\":\"rgb(17,17,17)\",\"gridcolor\":\"#506784\",\"gridwidth\":2,\"linecolor\":\"#506784\",\"showbackground\":true,\"ticks\":\"\",\"zerolinecolor\":\"#C8D4E3\"},\"zaxis\":{\"backgroundcolor\":\"rgb(17,17,17)\",\"gridcolor\":\"#506784\",\"gridwidth\":2,\"linecolor\":\"#506784\",\"showbackground\":true,\"ticks\":\"\",\"zerolinecolor\":\"#C8D4E3\"}},\"shapedefaults\":{\"line\":{\"color\":\"#f2f5fa\"}},\"sliderdefaults\":{\"bgcolor\":\"#C8D4E3\",\"bordercolor\":\"rgb(17,17,17)\",\"borderwidth\":1,\"tickwidth\":0},\"ternary\":{\"aaxis\":{\"gridcolor\":\"#506784\",\"linecolor\":\"#506784\",\"ticks\":\"\"},\"baxis\":{\"gridcolor\":\"#506784\",\"linecolor\":\"#506784\",\"ticks\":\"\"},\"bgcolor\":\"rgb(17,17,17)\",\"caxis\":{\"gridcolor\":\"#506784\",\"linecolor\":\"#506784\",\"ticks\":\"\"}},\"title\":{\"x\":0.05},\"updatemenudefaults\":{\"bgcolor\":\"#506784\",\"borderwidth\":0},\"xaxis\":{\"automargin\":true,\"gridcolor\":\"#283442\",\"linecolor\":\"#506784\",\"ticks\":\"\",\"title\":{\"standoff\":15},\"zerolinecolor\":\"#283442\",\"zerolinewidth\":2},\"yaxis\":{\"automargin\":true,\"gridcolor\":\"#283442\",\"linecolor\":\"#506784\",\"ticks\":\"\",\"title\":{\"standoff\":15},\"zerolinecolor\":\"#283442\",\"zerolinewidth\":2}}},\"width\":1000,\"xaxis\":{\"anchor\":\"y\",\"domain\":[0.0,1.0],\"title\":{\"text\":\"window\"}},\"yaxis\":{\"anchor\":\"x\",\"domain\":[0.0,1.0],\"range\":[0,10],\"title\":{\"text\":\"rr_score_sum\"}}},                        {\"responsive\": true}                    ).then(function(){\n",
       "                            \n",
       "var gd = document.getElementById('7c7b5186-b9c8-4999-bd88-dffd19ceebbe');\n",
       "var x = new MutationObserver(function (mutations, observer) {{\n",
       "        var display = window.getComputedStyle(gd).display;\n",
       "        if (!display || display === 'none') {{\n",
       "            console.log([gd, 'removed!']);\n",
       "            Plotly.purge(gd);\n",
       "            observer.disconnect();\n",
       "        }}\n",
       "}});\n",
       "\n",
       "// Listen for the removal of the full notebook cells\n",
       "var notebookContainer = gd.closest('#notebook-container');\n",
       "if (notebookContainer) {{\n",
       "    x.observe(notebookContainer, {childList: true});\n",
       "}}\n",
       "\n",
       "// Listen for the clearing of the current output cell\n",
       "var outputEl = gd.closest('.output');\n",
       "if (outputEl) {{\n",
       "    x.observe(outputEl, {childList: true});\n",
       "}}\n",
       "\n",
       "                        })                };                });            </script>        </div>"
      ]
     },
     "metadata": {},
     "output_type": "display_data"
    }
   ],
   "source": [
    "fig = px.line(g_df,\n",
    "              x='window',\n",
    "              y='rr_score_sum',\n",
    "              color='result')\n",
    "fig.update_layout(\n",
    "    width=1000,\n",
    "    height = 500,\n",
    "    yaxis_range = [0,10]\n",
    ")\n",
    "fig.show()"
   ]
  },
  {
   "cell_type": "code",
   "execution_count": 55,
   "metadata": {
    "collapsed": false,
    "pycharm": {
     "name": "#%%\n"
    }
   },
   "outputs": [
    {
     "data": {
      "application/vnd.plotly.v1+json": {
       "config": {
        "plotlyServerURL": "https://plot.ly"
       },
       "data": [
        {
         "hovertemplate": "result=0<br>window=%{x}<br>rr_score_max=%{y}<extra></extra>",
         "legendgroup": "0",
         "line": {
          "color": "#636efa",
          "dash": "solid"
         },
         "marker": {
          "symbol": "circle"
         },
         "mode": "lines",
         "name": "0",
         "orientation": "v",
         "showlegend": true,
         "type": "scatter",
         "x": [
          -218,
          -217,
          -216,
          -215,
          -214,
          -213,
          -212,
          -211,
          -210,
          -209,
          -208,
          -207,
          -206,
          -205,
          -204,
          -203,
          -202,
          -201,
          -200,
          -199,
          -198,
          -197,
          -196,
          -195,
          -194,
          -193,
          -192,
          -191,
          -190,
          -189,
          -188,
          -187,
          -186,
          -185,
          -184,
          -183,
          -182,
          -181,
          -180,
          -179,
          -178,
          -177,
          -176,
          -175,
          -174,
          -173,
          -172,
          -171,
          -170,
          -169,
          -168,
          -167,
          -166,
          -165,
          -164,
          -163,
          -162,
          -161,
          -160,
          -159,
          -158,
          -157,
          -156,
          -155,
          -154,
          -153,
          -152,
          -151,
          -150,
          -149,
          -148,
          -147,
          -146,
          -145,
          -144,
          -143,
          -142,
          -141,
          -140,
          -139,
          -138,
          -137,
          -136,
          -135,
          -134,
          -133,
          -132,
          -131,
          -130,
          -129,
          -128,
          -127,
          -126,
          -125,
          -124,
          -123,
          -122,
          -121,
          -120,
          -119,
          -118,
          -117,
          -116,
          -115,
          -114,
          -113,
          -112,
          -111,
          -110,
          -109,
          -108,
          -107,
          -106,
          -105,
          -104,
          -103,
          -102,
          -101,
          -100,
          -99,
          -98,
          -97,
          -96,
          -95,
          -94,
          -93,
          -92,
          -91,
          -90,
          -89,
          -88,
          -87,
          -86,
          -85,
          -84,
          -83,
          -82,
          -81,
          -80,
          -79,
          -78,
          -77,
          -76,
          -75,
          -74,
          -73,
          -72,
          -71,
          -70,
          -69,
          -68,
          -67,
          -66,
          -65,
          -64,
          -63,
          -62,
          -61,
          -60,
          -59,
          -58,
          -57,
          -56,
          -55,
          -54,
          -53,
          -52,
          -51,
          -50,
          -49,
          -48,
          -47,
          -46,
          -45,
          -44,
          -43,
          -42,
          -41,
          -40,
          -39,
          -38,
          -37,
          -36,
          -35,
          -34,
          -33,
          -32,
          -31,
          -30,
          -29,
          -28,
          -27,
          -26,
          -25,
          -24,
          -23,
          -22,
          -21,
          -20,
          -19,
          -18,
          -17,
          -16,
          -15,
          -14,
          -13,
          -12,
          -11,
          -10,
          -9,
          -8,
          -7,
          -6,
          -5,
          -4,
          -3,
          -2,
          -1,
          0,
          1,
          2,
          3,
          4,
          5,
          6,
          7,
          8,
          9,
          10,
          11,
          12,
          13,
          14,
          15,
          16,
          17,
          18,
          19,
          20,
          21,
          22
         ],
         "xaxis": "x",
         "y": [
          0.8462629264700641,
          1.2295275829697432,
          1.8044245677192619,
          1.8044245677192619,
          1.5648841574069623,
          1.6127922394694223,
          1.804424567719262,
          1.804424567719262,
          1.8044245677192619,
          1.804424567719262,
          1.6127922394694223,
          2.163478019699309,
          2.1934848618604468,
          1.8044245677192619,
          1.8044245677192619,
          1.8044245677192619,
          2.1320542891013123,
          2.219422214803193,
          2.1816951559773807,
          2.1502559402892043,
          1.9275286083981351,
          2.1601368366483453,
          1.9397498874205437,
          1.9521308910853243,
          2.0734610852788755,
          1.8481209936259702,
          1.902985161236731,
          1.8997703589767232,
          2.1554080489366827,
          1.9771066354245,
          1.880113408820881,
          1.9831489216632088,
          1.9817040259413687,
          1.9526580093809176,
          1.8426730835346472,
          1.7184995883040588,
          2.3464435567416975,
          1.6031265817399374,
          1.9663810740803365,
          2.0635173761926846,
          2.008803659844484,
          2.0325914486050225,
          1.7673272072731963,
          1.957993493208163,
          2.0179395162239087,
          2.070862460994838,
          1.9964727985315416,
          1.9283866321131895,
          1.9114684036645813,
          1.8349638722522237,
          1.9299758869880594,
          1.967307810652736,
          1.9480094574543936,
          2.0622087261730075,
          2.0578799664509817,
          1.899188116162504,
          2.065117660002855,
          2.2466337519318955,
          2.35317620458371,
          2.3383754321375125,
          2.3325345028200246,
          2.2272493728575125,
          2.362896029582172,
          2.201441740501183,
          2.2977204142163288,
          2.2695034533878764,
          2.2850993281417997,
          2.2192471480784963,
          1.9912359269870097,
          2.2597310482046176,
          2.099725060969669,
          2.0751888445317794,
          2.0354789605944608,
          2.0813767319734806,
          2.1616671359326878,
          2.3544737002167517,
          2.2017626679796214,
          2.0846291838605637,
          2.1545222061199776,
          2.2706172732171694,
          2.280859913843583,
          2.0908153144810835,
          2.0679260546635363,
          2.054101135762324,
          2.098025300028911,
          2.0910048591234873,
          2.213766663216486,
          2.278379633008551,
          2.3607422948266503,
          2.2495561330658282,
          2.1028250901002483,
          1.9552680520429178,
          1.9664958076604346,
          2.027967118229189,
          1.9711960535824096,
          1.9751732550693866,
          1.9175721225596938,
          2.0146946296873223,
          2.0195822502594902,
          1.9775740068779166,
          1.9077557063523405,
          2.093814828136278,
          1.9975853498822627,
          2.026065500804636,
          1.9053224610700916,
          1.9166678125010383,
          2.0271445433639865,
          2.0051479206615372,
          1.9521955224084817,
          1.9249549582614844,
          1.9282249725658958,
          1.9242190032920528,
          1.9647100150597538,
          2.0825918697192742,
          1.97463006387363,
          1.9658531577534661,
          1.9846063576993052,
          1.9734064488027545,
          2.06235610709557,
          1.911518237899566,
          2.044094660939019,
          2.0432493721415432,
          2.0259569891489,
          2.091406165815747,
          2.0906655140112234,
          2.0919622807608245,
          2.098648747800969,
          2.183521544800935,
          2.250001233092378,
          2.2027155810018098,
          2.180934417142421,
          2.173272917553063,
          2.136103242067052,
          2.1240037878957363,
          2.1648174953601536,
          2.1403294899888086,
          2.1581937991245073,
          2.091272125912639,
          2.117165088763571,
          2.086721157629076,
          2.0288455262424483,
          2.0232545701852724,
          2.066178323584265,
          1.947442025806536,
          2.013137499893242,
          2.0341307851183754,
          2.0539483637291664,
          2.026003482607369,
          1.9493862272512223,
          1.9763787525053893,
          1.945554083187327,
          1.9098071567053456,
          1.9105602545149347,
          1.9555649234748314,
          1.9623535805901846,
          1.9844842009015424,
          1.9976028739501372,
          2.087781810920755,
          2.1055636769365353,
          1.9744349864602537,
          2.008752088282018,
          2.0114679318890447,
          2.0087613084366636,
          2.0545318413724116,
          2.0143592295538912,
          2.0484653162405246,
          1.9968782380018613,
          2.0338337687685084,
          2.0108849639987207,
          2.062811729052132,
          2.0436728786655047,
          2.067803091442608,
          2.0875052562204397,
          2.101722193070525,
          2.03858884539443,
          2.0966063740584184,
          2.09435673271686,
          2.07152391485363,
          2.108416948791985,
          2.041915817043059,
          2.0859228631586415,
          2.072883141047244,
          2.0726678342924534,
          2.1482998491944683,
          2.132428052503754,
          2.1746334287301163,
          2.1306106739444557,
          2.1731228859990006,
          2.206534125020048,
          2.1444858059423133,
          2.112012698531792,
          2.143791077573584,
          2.040445092156674,
          2.1561681032437123,
          2.165965717238787,
          2.170611943473818,
          2.0711554066249835,
          2.1276065155843544,
          2.1330527328552944,
          2.1628297275976123,
          2.220190298558608,
          2.2783485592872625,
          2.2951205065659583,
          2.2019179889075406,
          2.262628088472096,
          2.2967345745837133,
          2.283625284302107,
          2.2967974966909823,
          2.334139989546498,
          2.2891296338086176,
          2.297539113788875,
          2.2710858211888567,
          2.239194087129569,
          2.2556672880953816,
          2.2643352881942143,
          2.2737843110028484,
          2.2860395049300153,
          2.3778413917677215,
          2.628101987256467,
          2.6598970966865996,
          2.5126274956604626,
          2.448521042321113,
          2.39395561259179,
          2.373202620661029,
          2.4039273445551403,
          2.3543187563966073,
          2.4184207805648223,
          2.3165391221100275,
          2.3973737877000887,
          2.4174121610583077,
          2.4481774392885036,
          2.4766029314073634,
          2.3124172682043374,
          2.4773103841869584,
          2.0895338195831217,
          2.2475357534394833,
          2.779328487464529,
          2.4235767553783845,
          1.8044245677192619,
          1.804424567719262,
          1.8044245677192619
         ],
         "yaxis": "y"
        },
        {
         "hovertemplate": "result=1<br>window=%{x}<br>rr_score_max=%{y}<extra></extra>",
         "legendgroup": "1",
         "line": {
          "color": "#EF553B",
          "dash": "solid"
         },
         "marker": {
          "symbol": "circle"
         },
         "mode": "lines",
         "name": "1",
         "orientation": "v",
         "showlegend": true,
         "type": "scatter",
         "x": [
          -205,
          -204,
          -203,
          -202,
          -201,
          -200,
          -199,
          -198,
          -197,
          -196,
          -195,
          -194,
          -193,
          -192,
          -191,
          -190,
          -189,
          -188,
          -187,
          -186,
          -185,
          -184,
          -183,
          -182,
          -181,
          -180,
          -179,
          -178,
          -177,
          -176,
          -175,
          -174,
          -173,
          -172,
          -171,
          -170,
          -169,
          -168,
          -167,
          -166,
          -165,
          -164,
          -163,
          -162,
          -161,
          -160,
          -159,
          -158,
          -157,
          -156,
          -155,
          -154,
          -153,
          -152,
          -151,
          -150,
          -149,
          -148,
          -147,
          -146,
          -145,
          -144,
          -143,
          -142,
          -141,
          -140,
          -139,
          -138,
          -137,
          -136,
          -135,
          -134,
          -133,
          -132,
          -131,
          -130,
          -129,
          -128,
          -127,
          -126,
          -125,
          -124,
          -123,
          -122,
          -121,
          -120,
          -119,
          -118,
          -117,
          -116,
          -115,
          -114,
          -113,
          -112,
          -111,
          -110,
          -109,
          -108,
          -107,
          -106,
          -105,
          -104,
          -103,
          -102,
          -101,
          -100,
          -99,
          -98,
          -97,
          -96,
          -95,
          -94,
          -93,
          -92,
          -91,
          -90,
          -89,
          -88,
          -87,
          -86,
          -85,
          -84,
          -83,
          -82,
          -81,
          -80,
          -79,
          -78,
          -77,
          -76,
          -75,
          -74,
          -73,
          -72,
          -71,
          -70,
          -69,
          -68,
          -67,
          -66,
          -65,
          -64,
          -63,
          -62,
          -61,
          -60,
          -59,
          -58,
          -57,
          -56,
          -55,
          -54,
          -53,
          -52,
          -51,
          -50,
          -49,
          -48,
          -47,
          -46,
          -45,
          -44,
          -43,
          -42,
          -41,
          -40,
          -39,
          -38,
          -37,
          -36,
          -35,
          -34,
          -33,
          -32,
          -31,
          -30,
          -29,
          -28,
          -27,
          -26,
          -25,
          -24,
          -23,
          -22,
          -21,
          -20,
          -19,
          -18,
          -17,
          -16,
          -15,
          -14,
          -13,
          -12,
          -11,
          -10,
          -9,
          -8,
          -7,
          -6,
          -5,
          -4,
          -3,
          -2,
          -1,
          0,
          1,
          2,
          3,
          4,
          5,
          6,
          7,
          8,
          9,
          10,
          11,
          12,
          13,
          14,
          15,
          16,
          17,
          18,
          20,
          21,
          22
         ],
         "xaxis": "x",
         "y": [
          1.8044245677192619,
          1.8044245677192619,
          1.8044245677192619,
          1.8044245677192619,
          1.8044245677192619,
          1.8044245677192619,
          1.8044245677192619,
          1.8044245677192619,
          1.8044245677192619,
          1.8044245677192619,
          1.8044245677192619,
          1.804424567719262,
          1.8044245677192616,
          1.804424567719262,
          1.8044245677192616,
          1.8044245677192619,
          1.578871496754354,
          1.804424567719262,
          1.8797284143224189,
          1.924910722284313,
          1.9048296965234712,
          2.6937052400419708,
          1.8044245677192619,
          1.8044245677192619,
          1.7173189639693347,
          1.8723494857593541,
          2.0374000087978485,
          1.8044245677192616,
          1.9269314836186233,
          1.8998030027964077,
          1.8044245677192619,
          1.684654362563112,
          2.014643844699325,
          2.1502559402892043,
          1.531113807481692,
          2.5825451560016317,
          2.224863121679389,
          1.993621917001319,
          1.993621917001319,
          2.3449884228108533,
          2.1197534831893567,
          1.8044245677192616,
          2.1197534831893567,
          2.074706495265058,
          1.6540558537426566,
          1.8044245677192619,
          1.8044245677192619,
          1.8998030027964077,
          2.0624941542585185,
          1.8474553372067801,
          1.8646676450017874,
          1.8474553372067801,
          1.969583923586648,
          1.954304965697634,
          1.879364766708448,
          2.0637980971467185,
          1.9875117649621727,
          1.8627113891552953,
          1.8044245677192619,
          1.8699972418347997,
          2.219422214803193,
          2.719860553933815,
          2.6042457966600283,
          2.635585770503451,
          2.271296920688684,
          1.9226729110205474,
          2.0427319889549787,
          2.067568262205895,
          2.077909713938677,
          1.8697681221363853,
          1.8655946995219974,
          2.2229211383991134,
          1.8777402128274796,
          1.9931451969988714,
          2.058650826050848,
          2.1994736477097896,
          2.312460835801219,
          2.415159428945354,
          2.11998176480314,
          2.1768489005030274,
          2.004426522608686,
          2.1639608065208753,
          2.041898000532451,
          1.9799388954379533,
          2.017075759285473,
          1.9790751557060198,
          1.9242407633728589,
          1.882665573499478,
          1.9109330972034493,
          1.8577017792893864,
          1.9485259709304474,
          1.9781181652134847,
          2.113155741536295,
          2.0903934732021217,
          1.967890610606893,
          1.8221163548455839,
          2.1831736835493527,
          1.9885527836369363,
          1.852734081157461,
          2.0484244941061633,
          2.014840444434686,
          2.106488583647073,
          2.0444134179561706,
          2.1405458605920735,
          1.911366834576711,
          1.9025848413948276,
          1.882816213727715,
          1.9090787833423108,
          2.0797774947405423,
          1.8834836983620824,
          1.9795340899488867,
          2.0168610827561526,
          1.8954339054518416,
          1.975507382043155,
          2.093819489650887,
          2.0700338855470073,
          2.108112938016061,
          2.1547152961408824,
          1.9557300507490232,
          2.303359816154689,
          2.059816079322527,
          2.09858120188902,
          1.9580542658548878,
          1.8721493237822984,
          1.7968329353559747,
          1.8744842892721718,
          1.9464139172472694,
          1.8577473087553784,
          1.9463693814352725,
          2.0595596877056095,
          1.9425531248036427,
          1.9002959169276037,
          1.9150361185422622,
          1.9517688530312172,
          1.92415395280161,
          2.040813370524664,
          1.9560613088824734,
          1.931530101330526,
          1.8967864071573672,
          1.9661485972185773,
          1.955521069184804,
          1.9811174536207758,
          1.9259006161246646,
          1.882381838633439,
          1.8437365126230403,
          1.8526505973883896,
          1.8966943312041988,
          1.9080164350278161,
          2.079337267383846,
          1.9158157928107817,
          1.9771135513003195,
          1.9729264578076346,
          1.9317819292710598,
          1.9775127546352733,
          2.011004632680293,
          1.9321703230084384,
          2.0149894705894726,
          1.99645556851457,
          2.046390208280964,
          2.110891849298238,
          2.047402735006307,
          2.0553865642776232,
          2.060280280183067,
          2.1023439682750253,
          2.178199491772247,
          2.099217815799379,
          2.1425015965584153,
          2.208939422864495,
          2.14809597030035,
          2.1635700276239036,
          2.156956273950072,
          2.196605716754302,
          2.1853598972005157,
          2.1985434193906763,
          2.047253242337298,
          2.2476002790335845,
          2.1208987254706733,
          2.1999213644294127,
          2.116024071934232,
          2.116821653526908,
          2.0858338354326404,
          2.1977234989625476,
          2.117499668095658,
          2.2733336708402,
          2.218230169124111,
          2.1167599179214425,
          2.1591953700237014,
          2.147330050602877,
          2.2398921108793455,
          2.1175866537834147,
          2.21714877525334,
          2.2088915882832008,
          2.086937309560088,
          2.077031447946676,
          2.09895536463781,
          2.171936846550134,
          2.1225039912463046,
          2.2050397895821905,
          2.1362924382070845,
          2.171131593516063,
          2.0942138959568117,
          2.2204139252827373,
          2.23100189180317,
          2.530612805716823,
          2.9569740993504863,
          3.9707548782983055,
          3.7281125860938107,
          3.3140366770222625,
          2.965921870375253,
          2.7641815319847574,
          2.641197611555962,
          2.6542619196149504,
          2.3017643070945626,
          2.3635156163903037,
          2.2755351072042207,
          2.322305993175823,
          2.4128262981043926,
          2.4275623727613684,
          1.8044245677192619,
          1.8044245677192619,
          2.426921038345158,
          2.426921038345158,
          1.8044245677192619,
          1.8044245677192619,
          2.8535873535678666,
          2.8535873535678666,
          1.8044245677192619
         ],
         "yaxis": "y"
        }
       ],
       "layout": {
        "height": 500,
        "legend": {
         "title": {
          "text": "result"
         },
         "tracegroupgap": 0
        },
        "margin": {
         "t": 60
        },
        "template": {
         "data": {
          "bar": [
           {
            "error_x": {
             "color": "#f2f5fa"
            },
            "error_y": {
             "color": "#f2f5fa"
            },
            "marker": {
             "line": {
              "color": "rgb(17,17,17)",
              "width": 0.5
             },
             "pattern": {
              "fillmode": "overlay",
              "size": 10,
              "solidity": 0.2
             }
            },
            "type": "bar"
           }
          ],
          "barpolar": [
           {
            "marker": {
             "line": {
              "color": "rgb(17,17,17)",
              "width": 0.5
             },
             "pattern": {
              "fillmode": "overlay",
              "size": 10,
              "solidity": 0.2
             }
            },
            "type": "barpolar"
           }
          ],
          "carpet": [
           {
            "aaxis": {
             "endlinecolor": "#A2B1C6",
             "gridcolor": "#506784",
             "linecolor": "#506784",
             "minorgridcolor": "#506784",
             "startlinecolor": "#A2B1C6"
            },
            "baxis": {
             "endlinecolor": "#A2B1C6",
             "gridcolor": "#506784",
             "linecolor": "#506784",
             "minorgridcolor": "#506784",
             "startlinecolor": "#A2B1C6"
            },
            "type": "carpet"
           }
          ],
          "choropleth": [
           {
            "colorbar": {
             "outlinewidth": 0,
             "ticks": ""
            },
            "type": "choropleth"
           }
          ],
          "contour": [
           {
            "colorbar": {
             "outlinewidth": 0,
             "ticks": ""
            },
            "colorscale": [
             [
              0,
              "#0d0887"
             ],
             [
              0.1111111111111111,
              "#46039f"
             ],
             [
              0.2222222222222222,
              "#7201a8"
             ],
             [
              0.3333333333333333,
              "#9c179e"
             ],
             [
              0.4444444444444444,
              "#bd3786"
             ],
             [
              0.5555555555555556,
              "#d8576b"
             ],
             [
              0.6666666666666666,
              "#ed7953"
             ],
             [
              0.7777777777777778,
              "#fb9f3a"
             ],
             [
              0.8888888888888888,
              "#fdca26"
             ],
             [
              1,
              "#f0f921"
             ]
            ],
            "type": "contour"
           }
          ],
          "contourcarpet": [
           {
            "colorbar": {
             "outlinewidth": 0,
             "ticks": ""
            },
            "type": "contourcarpet"
           }
          ],
          "heatmap": [
           {
            "colorbar": {
             "outlinewidth": 0,
             "ticks": ""
            },
            "colorscale": [
             [
              0,
              "#0d0887"
             ],
             [
              0.1111111111111111,
              "#46039f"
             ],
             [
              0.2222222222222222,
              "#7201a8"
             ],
             [
              0.3333333333333333,
              "#9c179e"
             ],
             [
              0.4444444444444444,
              "#bd3786"
             ],
             [
              0.5555555555555556,
              "#d8576b"
             ],
             [
              0.6666666666666666,
              "#ed7953"
             ],
             [
              0.7777777777777778,
              "#fb9f3a"
             ],
             [
              0.8888888888888888,
              "#fdca26"
             ],
             [
              1,
              "#f0f921"
             ]
            ],
            "type": "heatmap"
           }
          ],
          "heatmapgl": [
           {
            "colorbar": {
             "outlinewidth": 0,
             "ticks": ""
            },
            "colorscale": [
             [
              0,
              "#0d0887"
             ],
             [
              0.1111111111111111,
              "#46039f"
             ],
             [
              0.2222222222222222,
              "#7201a8"
             ],
             [
              0.3333333333333333,
              "#9c179e"
             ],
             [
              0.4444444444444444,
              "#bd3786"
             ],
             [
              0.5555555555555556,
              "#d8576b"
             ],
             [
              0.6666666666666666,
              "#ed7953"
             ],
             [
              0.7777777777777778,
              "#fb9f3a"
             ],
             [
              0.8888888888888888,
              "#fdca26"
             ],
             [
              1,
              "#f0f921"
             ]
            ],
            "type": "heatmapgl"
           }
          ],
          "histogram": [
           {
            "marker": {
             "pattern": {
              "fillmode": "overlay",
              "size": 10,
              "solidity": 0.2
             }
            },
            "type": "histogram"
           }
          ],
          "histogram2d": [
           {
            "colorbar": {
             "outlinewidth": 0,
             "ticks": ""
            },
            "colorscale": [
             [
              0,
              "#0d0887"
             ],
             [
              0.1111111111111111,
              "#46039f"
             ],
             [
              0.2222222222222222,
              "#7201a8"
             ],
             [
              0.3333333333333333,
              "#9c179e"
             ],
             [
              0.4444444444444444,
              "#bd3786"
             ],
             [
              0.5555555555555556,
              "#d8576b"
             ],
             [
              0.6666666666666666,
              "#ed7953"
             ],
             [
              0.7777777777777778,
              "#fb9f3a"
             ],
             [
              0.8888888888888888,
              "#fdca26"
             ],
             [
              1,
              "#f0f921"
             ]
            ],
            "type": "histogram2d"
           }
          ],
          "histogram2dcontour": [
           {
            "colorbar": {
             "outlinewidth": 0,
             "ticks": ""
            },
            "colorscale": [
             [
              0,
              "#0d0887"
             ],
             [
              0.1111111111111111,
              "#46039f"
             ],
             [
              0.2222222222222222,
              "#7201a8"
             ],
             [
              0.3333333333333333,
              "#9c179e"
             ],
             [
              0.4444444444444444,
              "#bd3786"
             ],
             [
              0.5555555555555556,
              "#d8576b"
             ],
             [
              0.6666666666666666,
              "#ed7953"
             ],
             [
              0.7777777777777778,
              "#fb9f3a"
             ],
             [
              0.8888888888888888,
              "#fdca26"
             ],
             [
              1,
              "#f0f921"
             ]
            ],
            "type": "histogram2dcontour"
           }
          ],
          "mesh3d": [
           {
            "colorbar": {
             "outlinewidth": 0,
             "ticks": ""
            },
            "type": "mesh3d"
           }
          ],
          "parcoords": [
           {
            "line": {
             "colorbar": {
              "outlinewidth": 0,
              "ticks": ""
             }
            },
            "type": "parcoords"
           }
          ],
          "pie": [
           {
            "automargin": true,
            "type": "pie"
           }
          ],
          "scatter": [
           {
            "marker": {
             "line": {
              "color": "#283442"
             }
            },
            "type": "scatter"
           }
          ],
          "scatter3d": [
           {
            "line": {
             "colorbar": {
              "outlinewidth": 0,
              "ticks": ""
             }
            },
            "marker": {
             "colorbar": {
              "outlinewidth": 0,
              "ticks": ""
             }
            },
            "type": "scatter3d"
           }
          ],
          "scattercarpet": [
           {
            "marker": {
             "colorbar": {
              "outlinewidth": 0,
              "ticks": ""
             }
            },
            "type": "scattercarpet"
           }
          ],
          "scattergeo": [
           {
            "marker": {
             "colorbar": {
              "outlinewidth": 0,
              "ticks": ""
             }
            },
            "type": "scattergeo"
           }
          ],
          "scattergl": [
           {
            "marker": {
             "line": {
              "color": "#283442"
             }
            },
            "type": "scattergl"
           }
          ],
          "scattermapbox": [
           {
            "marker": {
             "colorbar": {
              "outlinewidth": 0,
              "ticks": ""
             }
            },
            "type": "scattermapbox"
           }
          ],
          "scatterpolar": [
           {
            "marker": {
             "colorbar": {
              "outlinewidth": 0,
              "ticks": ""
             }
            },
            "type": "scatterpolar"
           }
          ],
          "scatterpolargl": [
           {
            "marker": {
             "colorbar": {
              "outlinewidth": 0,
              "ticks": ""
             }
            },
            "type": "scatterpolargl"
           }
          ],
          "scatterternary": [
           {
            "marker": {
             "colorbar": {
              "outlinewidth": 0,
              "ticks": ""
             }
            },
            "type": "scatterternary"
           }
          ],
          "surface": [
           {
            "colorbar": {
             "outlinewidth": 0,
             "ticks": ""
            },
            "colorscale": [
             [
              0,
              "#0d0887"
             ],
             [
              0.1111111111111111,
              "#46039f"
             ],
             [
              0.2222222222222222,
              "#7201a8"
             ],
             [
              0.3333333333333333,
              "#9c179e"
             ],
             [
              0.4444444444444444,
              "#bd3786"
             ],
             [
              0.5555555555555556,
              "#d8576b"
             ],
             [
              0.6666666666666666,
              "#ed7953"
             ],
             [
              0.7777777777777778,
              "#fb9f3a"
             ],
             [
              0.8888888888888888,
              "#fdca26"
             ],
             [
              1,
              "#f0f921"
             ]
            ],
            "type": "surface"
           }
          ],
          "table": [
           {
            "cells": {
             "fill": {
              "color": "#506784"
             },
             "line": {
              "color": "rgb(17,17,17)"
             }
            },
            "header": {
             "fill": {
              "color": "#2a3f5f"
             },
             "line": {
              "color": "rgb(17,17,17)"
             }
            },
            "type": "table"
           }
          ]
         },
         "layout": {
          "annotationdefaults": {
           "arrowcolor": "#f2f5fa",
           "arrowhead": 0,
           "arrowwidth": 1
          },
          "autotypenumbers": "strict",
          "coloraxis": {
           "colorbar": {
            "outlinewidth": 0,
            "ticks": ""
           }
          },
          "colorscale": {
           "diverging": [
            [
             0,
             "#8e0152"
            ],
            [
             0.1,
             "#c51b7d"
            ],
            [
             0.2,
             "#de77ae"
            ],
            [
             0.3,
             "#f1b6da"
            ],
            [
             0.4,
             "#fde0ef"
            ],
            [
             0.5,
             "#f7f7f7"
            ],
            [
             0.6,
             "#e6f5d0"
            ],
            [
             0.7,
             "#b8e186"
            ],
            [
             0.8,
             "#7fbc41"
            ],
            [
             0.9,
             "#4d9221"
            ],
            [
             1,
             "#276419"
            ]
           ],
           "sequential": [
            [
             0,
             "#0d0887"
            ],
            [
             0.1111111111111111,
             "#46039f"
            ],
            [
             0.2222222222222222,
             "#7201a8"
            ],
            [
             0.3333333333333333,
             "#9c179e"
            ],
            [
             0.4444444444444444,
             "#bd3786"
            ],
            [
             0.5555555555555556,
             "#d8576b"
            ],
            [
             0.6666666666666666,
             "#ed7953"
            ],
            [
             0.7777777777777778,
             "#fb9f3a"
            ],
            [
             0.8888888888888888,
             "#fdca26"
            ],
            [
             1,
             "#f0f921"
            ]
           ],
           "sequentialminus": [
            [
             0,
             "#0d0887"
            ],
            [
             0.1111111111111111,
             "#46039f"
            ],
            [
             0.2222222222222222,
             "#7201a8"
            ],
            [
             0.3333333333333333,
             "#9c179e"
            ],
            [
             0.4444444444444444,
             "#bd3786"
            ],
            [
             0.5555555555555556,
             "#d8576b"
            ],
            [
             0.6666666666666666,
             "#ed7953"
            ],
            [
             0.7777777777777778,
             "#fb9f3a"
            ],
            [
             0.8888888888888888,
             "#fdca26"
            ],
            [
             1,
             "#f0f921"
            ]
           ]
          },
          "colorway": [
           "#636efa",
           "#EF553B",
           "#00cc96",
           "#ab63fa",
           "#FFA15A",
           "#19d3f3",
           "#FF6692",
           "#B6E880",
           "#FF97FF",
           "#FECB52"
          ],
          "font": {
           "color": "#f2f5fa"
          },
          "geo": {
           "bgcolor": "rgb(17,17,17)",
           "lakecolor": "rgb(17,17,17)",
           "landcolor": "rgb(17,17,17)",
           "showlakes": true,
           "showland": true,
           "subunitcolor": "#506784"
          },
          "hoverlabel": {
           "align": "left"
          },
          "hovermode": "closest",
          "mapbox": {
           "style": "dark"
          },
          "paper_bgcolor": "rgb(17,17,17)",
          "plot_bgcolor": "rgb(17,17,17)",
          "polar": {
           "angularaxis": {
            "gridcolor": "#506784",
            "linecolor": "#506784",
            "ticks": ""
           },
           "bgcolor": "rgb(17,17,17)",
           "radialaxis": {
            "gridcolor": "#506784",
            "linecolor": "#506784",
            "ticks": ""
           }
          },
          "scene": {
           "xaxis": {
            "backgroundcolor": "rgb(17,17,17)",
            "gridcolor": "#506784",
            "gridwidth": 2,
            "linecolor": "#506784",
            "showbackground": true,
            "ticks": "",
            "zerolinecolor": "#C8D4E3"
           },
           "yaxis": {
            "backgroundcolor": "rgb(17,17,17)",
            "gridcolor": "#506784",
            "gridwidth": 2,
            "linecolor": "#506784",
            "showbackground": true,
            "ticks": "",
            "zerolinecolor": "#C8D4E3"
           },
           "zaxis": {
            "backgroundcolor": "rgb(17,17,17)",
            "gridcolor": "#506784",
            "gridwidth": 2,
            "linecolor": "#506784",
            "showbackground": true,
            "ticks": "",
            "zerolinecolor": "#C8D4E3"
           }
          },
          "shapedefaults": {
           "line": {
            "color": "#f2f5fa"
           }
          },
          "sliderdefaults": {
           "bgcolor": "#C8D4E3",
           "bordercolor": "rgb(17,17,17)",
           "borderwidth": 1,
           "tickwidth": 0
          },
          "ternary": {
           "aaxis": {
            "gridcolor": "#506784",
            "linecolor": "#506784",
            "ticks": ""
           },
           "baxis": {
            "gridcolor": "#506784",
            "linecolor": "#506784",
            "ticks": ""
           },
           "bgcolor": "rgb(17,17,17)",
           "caxis": {
            "gridcolor": "#506784",
            "linecolor": "#506784",
            "ticks": ""
           }
          },
          "title": {
           "x": 0.05
          },
          "updatemenudefaults": {
           "bgcolor": "#506784",
           "borderwidth": 0
          },
          "xaxis": {
           "automargin": true,
           "gridcolor": "#283442",
           "linecolor": "#506784",
           "ticks": "",
           "title": {
            "standoff": 15
           },
           "zerolinecolor": "#283442",
           "zerolinewidth": 2
          },
          "yaxis": {
           "automargin": true,
           "gridcolor": "#283442",
           "linecolor": "#506784",
           "ticks": "",
           "title": {
            "standoff": 15
           },
           "zerolinecolor": "#283442",
           "zerolinewidth": 2
          }
         }
        },
        "width": 1000,
        "xaxis": {
         "anchor": "y",
         "domain": [
          0,
          1
         ],
         "title": {
          "text": "window"
         }
        },
        "yaxis": {
         "anchor": "x",
         "domain": [
          0,
          1
         ],
         "range": [
          0,
          10
         ],
         "title": {
          "text": "rr_score_max"
         }
        }
       }
      },
      "text/html": [
       "<div>                            <div id=\"bc49883e-9397-4c80-b897-3fcb205b77ec\" class=\"plotly-graph-div\" style=\"height:500px; width:1000px;\"></div>            <script type=\"text/javascript\">                require([\"plotly\"], function(Plotly) {                    window.PLOTLYENV=window.PLOTLYENV || {};                                    if (document.getElementById(\"bc49883e-9397-4c80-b897-3fcb205b77ec\")) {                    Plotly.newPlot(                        \"bc49883e-9397-4c80-b897-3fcb205b77ec\",                        [{\"hovertemplate\":\"result=0<br>window=%{x}<br>rr_score_max=%{y}<extra></extra>\",\"legendgroup\":\"0\",\"line\":{\"color\":\"#636efa\",\"dash\":\"solid\"},\"marker\":{\"symbol\":\"circle\"},\"mode\":\"lines\",\"name\":\"0\",\"orientation\":\"v\",\"showlegend\":true,\"type\":\"scatter\",\"x\":[-218,-217,-216,-215,-214,-213,-212,-211,-210,-209,-208,-207,-206,-205,-204,-203,-202,-201,-200,-199,-198,-197,-196,-195,-194,-193,-192,-191,-190,-189,-188,-187,-186,-185,-184,-183,-182,-181,-180,-179,-178,-177,-176,-175,-174,-173,-172,-171,-170,-169,-168,-167,-166,-165,-164,-163,-162,-161,-160,-159,-158,-157,-156,-155,-154,-153,-152,-151,-150,-149,-148,-147,-146,-145,-144,-143,-142,-141,-140,-139,-138,-137,-136,-135,-134,-133,-132,-131,-130,-129,-128,-127,-126,-125,-124,-123,-122,-121,-120,-119,-118,-117,-116,-115,-114,-113,-112,-111,-110,-109,-108,-107,-106,-105,-104,-103,-102,-101,-100,-99,-98,-97,-96,-95,-94,-93,-92,-91,-90,-89,-88,-87,-86,-85,-84,-83,-82,-81,-80,-79,-78,-77,-76,-75,-74,-73,-72,-71,-70,-69,-68,-67,-66,-65,-64,-63,-62,-61,-60,-59,-58,-57,-56,-55,-54,-53,-52,-51,-50,-49,-48,-47,-46,-45,-44,-43,-42,-41,-40,-39,-38,-37,-36,-35,-34,-33,-32,-31,-30,-29,-28,-27,-26,-25,-24,-23,-22,-21,-20,-19,-18,-17,-16,-15,-14,-13,-12,-11,-10,-9,-8,-7,-6,-5,-4,-3,-2,-1,0,1,2,3,4,5,6,7,8,9,10,11,12,13,14,15,16,17,18,19,20,21,22],\"xaxis\":\"x\",\"y\":[0.8462629264700641,1.2295275829697432,1.8044245677192619,1.8044245677192619,1.5648841574069623,1.6127922394694223,1.804424567719262,1.804424567719262,1.8044245677192619,1.804424567719262,1.6127922394694223,2.163478019699309,2.1934848618604468,1.8044245677192619,1.8044245677192619,1.8044245677192619,2.1320542891013123,2.219422214803193,2.1816951559773807,2.1502559402892043,1.9275286083981351,2.1601368366483453,1.9397498874205437,1.9521308910853243,2.0734610852788755,1.8481209936259702,1.902985161236731,1.8997703589767232,2.1554080489366827,1.9771066354245,1.880113408820881,1.9831489216632088,1.9817040259413687,1.9526580093809176,1.8426730835346472,1.7184995883040588,2.3464435567416975,1.6031265817399374,1.9663810740803365,2.0635173761926846,2.008803659844484,2.0325914486050225,1.7673272072731963,1.957993493208163,2.0179395162239087,2.070862460994838,1.9964727985315416,1.9283866321131895,1.9114684036645813,1.8349638722522237,1.9299758869880594,1.967307810652736,1.9480094574543936,2.0622087261730075,2.0578799664509817,1.899188116162504,2.065117660002855,2.2466337519318955,2.35317620458371,2.3383754321375125,2.3325345028200246,2.2272493728575125,2.362896029582172,2.201441740501183,2.2977204142163288,2.2695034533878764,2.2850993281417997,2.2192471480784963,1.9912359269870097,2.2597310482046176,2.099725060969669,2.0751888445317794,2.0354789605944608,2.0813767319734806,2.1616671359326878,2.3544737002167517,2.2017626679796214,2.0846291838605637,2.1545222061199776,2.2706172732171694,2.280859913843583,2.0908153144810835,2.0679260546635363,2.054101135762324,2.098025300028911,2.0910048591234873,2.213766663216486,2.278379633008551,2.3607422948266503,2.2495561330658282,2.1028250901002483,1.9552680520429178,1.9664958076604346,2.027967118229189,1.9711960535824096,1.9751732550693866,1.9175721225596938,2.0146946296873223,2.0195822502594902,1.9775740068779166,1.9077557063523405,2.093814828136278,1.9975853498822627,2.026065500804636,1.9053224610700916,1.9166678125010383,2.0271445433639865,2.0051479206615372,1.9521955224084817,1.9249549582614844,1.9282249725658958,1.9242190032920528,1.9647100150597538,2.0825918697192742,1.97463006387363,1.9658531577534661,1.9846063576993052,1.9734064488027545,2.06235610709557,1.911518237899566,2.044094660939019,2.0432493721415432,2.0259569891489,2.091406165815747,2.0906655140112234,2.0919622807608245,2.098648747800969,2.183521544800935,2.250001233092378,2.2027155810018098,2.180934417142421,2.173272917553063,2.136103242067052,2.1240037878957363,2.1648174953601536,2.1403294899888086,2.1581937991245073,2.091272125912639,2.117165088763571,2.086721157629076,2.0288455262424483,2.0232545701852724,2.066178323584265,1.947442025806536,2.013137499893242,2.0341307851183754,2.0539483637291664,2.026003482607369,1.9493862272512223,1.9763787525053893,1.945554083187327,1.9098071567053456,1.9105602545149347,1.9555649234748314,1.9623535805901846,1.9844842009015424,1.9976028739501372,2.087781810920755,2.1055636769365353,1.9744349864602537,2.008752088282018,2.0114679318890447,2.0087613084366636,2.0545318413724116,2.0143592295538912,2.0484653162405246,1.9968782380018613,2.0338337687685084,2.0108849639987207,2.062811729052132,2.0436728786655047,2.067803091442608,2.0875052562204397,2.101722193070525,2.03858884539443,2.0966063740584184,2.09435673271686,2.07152391485363,2.108416948791985,2.041915817043059,2.0859228631586415,2.072883141047244,2.0726678342924534,2.1482998491944683,2.132428052503754,2.1746334287301163,2.1306106739444557,2.1731228859990006,2.206534125020048,2.1444858059423133,2.112012698531792,2.143791077573584,2.040445092156674,2.1561681032437123,2.165965717238787,2.170611943473818,2.0711554066249835,2.1276065155843544,2.1330527328552944,2.1628297275976123,2.220190298558608,2.2783485592872625,2.2951205065659583,2.2019179889075406,2.262628088472096,2.2967345745837133,2.283625284302107,2.2967974966909823,2.334139989546498,2.2891296338086176,2.297539113788875,2.2710858211888567,2.239194087129569,2.2556672880953816,2.2643352881942143,2.2737843110028484,2.2860395049300153,2.3778413917677215,2.628101987256467,2.6598970966865996,2.5126274956604626,2.448521042321113,2.39395561259179,2.373202620661029,2.4039273445551403,2.3543187563966073,2.4184207805648223,2.3165391221100275,2.3973737877000887,2.4174121610583077,2.4481774392885036,2.4766029314073634,2.3124172682043374,2.4773103841869584,2.0895338195831217,2.2475357534394833,2.779328487464529,2.4235767553783845,1.8044245677192619,1.804424567719262,1.8044245677192619],\"yaxis\":\"y\"},{\"hovertemplate\":\"result=1<br>window=%{x}<br>rr_score_max=%{y}<extra></extra>\",\"legendgroup\":\"1\",\"line\":{\"color\":\"#EF553B\",\"dash\":\"solid\"},\"marker\":{\"symbol\":\"circle\"},\"mode\":\"lines\",\"name\":\"1\",\"orientation\":\"v\",\"showlegend\":true,\"type\":\"scatter\",\"x\":[-205,-204,-203,-202,-201,-200,-199,-198,-197,-196,-195,-194,-193,-192,-191,-190,-189,-188,-187,-186,-185,-184,-183,-182,-181,-180,-179,-178,-177,-176,-175,-174,-173,-172,-171,-170,-169,-168,-167,-166,-165,-164,-163,-162,-161,-160,-159,-158,-157,-156,-155,-154,-153,-152,-151,-150,-149,-148,-147,-146,-145,-144,-143,-142,-141,-140,-139,-138,-137,-136,-135,-134,-133,-132,-131,-130,-129,-128,-127,-126,-125,-124,-123,-122,-121,-120,-119,-118,-117,-116,-115,-114,-113,-112,-111,-110,-109,-108,-107,-106,-105,-104,-103,-102,-101,-100,-99,-98,-97,-96,-95,-94,-93,-92,-91,-90,-89,-88,-87,-86,-85,-84,-83,-82,-81,-80,-79,-78,-77,-76,-75,-74,-73,-72,-71,-70,-69,-68,-67,-66,-65,-64,-63,-62,-61,-60,-59,-58,-57,-56,-55,-54,-53,-52,-51,-50,-49,-48,-47,-46,-45,-44,-43,-42,-41,-40,-39,-38,-37,-36,-35,-34,-33,-32,-31,-30,-29,-28,-27,-26,-25,-24,-23,-22,-21,-20,-19,-18,-17,-16,-15,-14,-13,-12,-11,-10,-9,-8,-7,-6,-5,-4,-3,-2,-1,0,1,2,3,4,5,6,7,8,9,10,11,12,13,14,15,16,17,18,20,21,22],\"xaxis\":\"x\",\"y\":[1.8044245677192619,1.8044245677192619,1.8044245677192619,1.8044245677192619,1.8044245677192619,1.8044245677192619,1.8044245677192619,1.8044245677192619,1.8044245677192619,1.8044245677192619,1.8044245677192619,1.804424567719262,1.8044245677192616,1.804424567719262,1.8044245677192616,1.8044245677192619,1.578871496754354,1.804424567719262,1.8797284143224189,1.924910722284313,1.9048296965234712,2.6937052400419708,1.8044245677192619,1.8044245677192619,1.7173189639693347,1.8723494857593541,2.0374000087978485,1.8044245677192616,1.9269314836186233,1.8998030027964077,1.8044245677192619,1.684654362563112,2.014643844699325,2.1502559402892043,1.531113807481692,2.5825451560016317,2.224863121679389,1.993621917001319,1.993621917001319,2.3449884228108533,2.1197534831893567,1.8044245677192616,2.1197534831893567,2.074706495265058,1.6540558537426566,1.8044245677192619,1.8044245677192619,1.8998030027964077,2.0624941542585185,1.8474553372067801,1.8646676450017874,1.8474553372067801,1.969583923586648,1.954304965697634,1.879364766708448,2.0637980971467185,1.9875117649621727,1.8627113891552953,1.8044245677192619,1.8699972418347997,2.219422214803193,2.719860553933815,2.6042457966600283,2.635585770503451,2.271296920688684,1.9226729110205474,2.0427319889549787,2.067568262205895,2.077909713938677,1.8697681221363853,1.8655946995219974,2.2229211383991134,1.8777402128274796,1.9931451969988714,2.058650826050848,2.1994736477097896,2.312460835801219,2.415159428945354,2.11998176480314,2.1768489005030274,2.004426522608686,2.1639608065208753,2.041898000532451,1.9799388954379533,2.017075759285473,1.9790751557060198,1.9242407633728589,1.882665573499478,1.9109330972034493,1.8577017792893864,1.9485259709304474,1.9781181652134847,2.113155741536295,2.0903934732021217,1.967890610606893,1.8221163548455839,2.1831736835493527,1.9885527836369363,1.852734081157461,2.0484244941061633,2.014840444434686,2.106488583647073,2.0444134179561706,2.1405458605920735,1.911366834576711,1.9025848413948276,1.882816213727715,1.9090787833423108,2.0797774947405423,1.8834836983620824,1.9795340899488867,2.0168610827561526,1.8954339054518416,1.975507382043155,2.093819489650887,2.0700338855470073,2.108112938016061,2.1547152961408824,1.9557300507490232,2.303359816154689,2.059816079322527,2.09858120188902,1.9580542658548878,1.8721493237822984,1.7968329353559747,1.8744842892721718,1.9464139172472694,1.8577473087553784,1.9463693814352725,2.0595596877056095,1.9425531248036427,1.9002959169276037,1.9150361185422622,1.9517688530312172,1.92415395280161,2.040813370524664,1.9560613088824734,1.931530101330526,1.8967864071573672,1.9661485972185773,1.955521069184804,1.9811174536207758,1.9259006161246646,1.882381838633439,1.8437365126230403,1.8526505973883896,1.8966943312041988,1.9080164350278161,2.079337267383846,1.9158157928107817,1.9771135513003195,1.9729264578076346,1.9317819292710598,1.9775127546352733,2.011004632680293,1.9321703230084384,2.0149894705894726,1.99645556851457,2.046390208280964,2.110891849298238,2.047402735006307,2.0553865642776232,2.060280280183067,2.1023439682750253,2.178199491772247,2.099217815799379,2.1425015965584153,2.208939422864495,2.14809597030035,2.1635700276239036,2.156956273950072,2.196605716754302,2.1853598972005157,2.1985434193906763,2.047253242337298,2.2476002790335845,2.1208987254706733,2.1999213644294127,2.116024071934232,2.116821653526908,2.0858338354326404,2.1977234989625476,2.117499668095658,2.2733336708402,2.218230169124111,2.1167599179214425,2.1591953700237014,2.147330050602877,2.2398921108793455,2.1175866537834147,2.21714877525334,2.2088915882832008,2.086937309560088,2.077031447946676,2.09895536463781,2.171936846550134,2.1225039912463046,2.2050397895821905,2.1362924382070845,2.171131593516063,2.0942138959568117,2.2204139252827373,2.23100189180317,2.530612805716823,2.9569740993504863,3.9707548782983055,3.7281125860938107,3.3140366770222625,2.965921870375253,2.7641815319847574,2.641197611555962,2.6542619196149504,2.3017643070945626,2.3635156163903037,2.2755351072042207,2.322305993175823,2.4128262981043926,2.4275623727613684,1.8044245677192619,1.8044245677192619,2.426921038345158,2.426921038345158,1.8044245677192619,1.8044245677192619,2.8535873535678666,2.8535873535678666,1.8044245677192619],\"yaxis\":\"y\"}],                        {\"height\":500,\"legend\":{\"title\":{\"text\":\"result\"},\"tracegroupgap\":0},\"margin\":{\"t\":60},\"template\":{\"data\":{\"bar\":[{\"error_x\":{\"color\":\"#f2f5fa\"},\"error_y\":{\"color\":\"#f2f5fa\"},\"marker\":{\"line\":{\"color\":\"rgb(17,17,17)\",\"width\":0.5},\"pattern\":{\"fillmode\":\"overlay\",\"size\":10,\"solidity\":0.2}},\"type\":\"bar\"}],\"barpolar\":[{\"marker\":{\"line\":{\"color\":\"rgb(17,17,17)\",\"width\":0.5},\"pattern\":{\"fillmode\":\"overlay\",\"size\":10,\"solidity\":0.2}},\"type\":\"barpolar\"}],\"carpet\":[{\"aaxis\":{\"endlinecolor\":\"#A2B1C6\",\"gridcolor\":\"#506784\",\"linecolor\":\"#506784\",\"minorgridcolor\":\"#506784\",\"startlinecolor\":\"#A2B1C6\"},\"baxis\":{\"endlinecolor\":\"#A2B1C6\",\"gridcolor\":\"#506784\",\"linecolor\":\"#506784\",\"minorgridcolor\":\"#506784\",\"startlinecolor\":\"#A2B1C6\"},\"type\":\"carpet\"}],\"choropleth\":[{\"colorbar\":{\"outlinewidth\":0,\"ticks\":\"\"},\"type\":\"choropleth\"}],\"contour\":[{\"colorbar\":{\"outlinewidth\":0,\"ticks\":\"\"},\"colorscale\":[[0.0,\"#0d0887\"],[0.1111111111111111,\"#46039f\"],[0.2222222222222222,\"#7201a8\"],[0.3333333333333333,\"#9c179e\"],[0.4444444444444444,\"#bd3786\"],[0.5555555555555556,\"#d8576b\"],[0.6666666666666666,\"#ed7953\"],[0.7777777777777778,\"#fb9f3a\"],[0.8888888888888888,\"#fdca26\"],[1.0,\"#f0f921\"]],\"type\":\"contour\"}],\"contourcarpet\":[{\"colorbar\":{\"outlinewidth\":0,\"ticks\":\"\"},\"type\":\"contourcarpet\"}],\"heatmap\":[{\"colorbar\":{\"outlinewidth\":0,\"ticks\":\"\"},\"colorscale\":[[0.0,\"#0d0887\"],[0.1111111111111111,\"#46039f\"],[0.2222222222222222,\"#7201a8\"],[0.3333333333333333,\"#9c179e\"],[0.4444444444444444,\"#bd3786\"],[0.5555555555555556,\"#d8576b\"],[0.6666666666666666,\"#ed7953\"],[0.7777777777777778,\"#fb9f3a\"],[0.8888888888888888,\"#fdca26\"],[1.0,\"#f0f921\"]],\"type\":\"heatmap\"}],\"heatmapgl\":[{\"colorbar\":{\"outlinewidth\":0,\"ticks\":\"\"},\"colorscale\":[[0.0,\"#0d0887\"],[0.1111111111111111,\"#46039f\"],[0.2222222222222222,\"#7201a8\"],[0.3333333333333333,\"#9c179e\"],[0.4444444444444444,\"#bd3786\"],[0.5555555555555556,\"#d8576b\"],[0.6666666666666666,\"#ed7953\"],[0.7777777777777778,\"#fb9f3a\"],[0.8888888888888888,\"#fdca26\"],[1.0,\"#f0f921\"]],\"type\":\"heatmapgl\"}],\"histogram\":[{\"marker\":{\"pattern\":{\"fillmode\":\"overlay\",\"size\":10,\"solidity\":0.2}},\"type\":\"histogram\"}],\"histogram2d\":[{\"colorbar\":{\"outlinewidth\":0,\"ticks\":\"\"},\"colorscale\":[[0.0,\"#0d0887\"],[0.1111111111111111,\"#46039f\"],[0.2222222222222222,\"#7201a8\"],[0.3333333333333333,\"#9c179e\"],[0.4444444444444444,\"#bd3786\"],[0.5555555555555556,\"#d8576b\"],[0.6666666666666666,\"#ed7953\"],[0.7777777777777778,\"#fb9f3a\"],[0.8888888888888888,\"#fdca26\"],[1.0,\"#f0f921\"]],\"type\":\"histogram2d\"}],\"histogram2dcontour\":[{\"colorbar\":{\"outlinewidth\":0,\"ticks\":\"\"},\"colorscale\":[[0.0,\"#0d0887\"],[0.1111111111111111,\"#46039f\"],[0.2222222222222222,\"#7201a8\"],[0.3333333333333333,\"#9c179e\"],[0.4444444444444444,\"#bd3786\"],[0.5555555555555556,\"#d8576b\"],[0.6666666666666666,\"#ed7953\"],[0.7777777777777778,\"#fb9f3a\"],[0.8888888888888888,\"#fdca26\"],[1.0,\"#f0f921\"]],\"type\":\"histogram2dcontour\"}],\"mesh3d\":[{\"colorbar\":{\"outlinewidth\":0,\"ticks\":\"\"},\"type\":\"mesh3d\"}],\"parcoords\":[{\"line\":{\"colorbar\":{\"outlinewidth\":0,\"ticks\":\"\"}},\"type\":\"parcoords\"}],\"pie\":[{\"automargin\":true,\"type\":\"pie\"}],\"scatter\":[{\"marker\":{\"line\":{\"color\":\"#283442\"}},\"type\":\"scatter\"}],\"scatter3d\":[{\"line\":{\"colorbar\":{\"outlinewidth\":0,\"ticks\":\"\"}},\"marker\":{\"colorbar\":{\"outlinewidth\":0,\"ticks\":\"\"}},\"type\":\"scatter3d\"}],\"scattercarpet\":[{\"marker\":{\"colorbar\":{\"outlinewidth\":0,\"ticks\":\"\"}},\"type\":\"scattercarpet\"}],\"scattergeo\":[{\"marker\":{\"colorbar\":{\"outlinewidth\":0,\"ticks\":\"\"}},\"type\":\"scattergeo\"}],\"scattergl\":[{\"marker\":{\"line\":{\"color\":\"#283442\"}},\"type\":\"scattergl\"}],\"scattermapbox\":[{\"marker\":{\"colorbar\":{\"outlinewidth\":0,\"ticks\":\"\"}},\"type\":\"scattermapbox\"}],\"scatterpolar\":[{\"marker\":{\"colorbar\":{\"outlinewidth\":0,\"ticks\":\"\"}},\"type\":\"scatterpolar\"}],\"scatterpolargl\":[{\"marker\":{\"colorbar\":{\"outlinewidth\":0,\"ticks\":\"\"}},\"type\":\"scatterpolargl\"}],\"scatterternary\":[{\"marker\":{\"colorbar\":{\"outlinewidth\":0,\"ticks\":\"\"}},\"type\":\"scatterternary\"}],\"surface\":[{\"colorbar\":{\"outlinewidth\":0,\"ticks\":\"\"},\"colorscale\":[[0.0,\"#0d0887\"],[0.1111111111111111,\"#46039f\"],[0.2222222222222222,\"#7201a8\"],[0.3333333333333333,\"#9c179e\"],[0.4444444444444444,\"#bd3786\"],[0.5555555555555556,\"#d8576b\"],[0.6666666666666666,\"#ed7953\"],[0.7777777777777778,\"#fb9f3a\"],[0.8888888888888888,\"#fdca26\"],[1.0,\"#f0f921\"]],\"type\":\"surface\"}],\"table\":[{\"cells\":{\"fill\":{\"color\":\"#506784\"},\"line\":{\"color\":\"rgb(17,17,17)\"}},\"header\":{\"fill\":{\"color\":\"#2a3f5f\"},\"line\":{\"color\":\"rgb(17,17,17)\"}},\"type\":\"table\"}]},\"layout\":{\"annotationdefaults\":{\"arrowcolor\":\"#f2f5fa\",\"arrowhead\":0,\"arrowwidth\":1},\"autotypenumbers\":\"strict\",\"coloraxis\":{\"colorbar\":{\"outlinewidth\":0,\"ticks\":\"\"}},\"colorscale\":{\"diverging\":[[0,\"#8e0152\"],[0.1,\"#c51b7d\"],[0.2,\"#de77ae\"],[0.3,\"#f1b6da\"],[0.4,\"#fde0ef\"],[0.5,\"#f7f7f7\"],[0.6,\"#e6f5d0\"],[0.7,\"#b8e186\"],[0.8,\"#7fbc41\"],[0.9,\"#4d9221\"],[1,\"#276419\"]],\"sequential\":[[0.0,\"#0d0887\"],[0.1111111111111111,\"#46039f\"],[0.2222222222222222,\"#7201a8\"],[0.3333333333333333,\"#9c179e\"],[0.4444444444444444,\"#bd3786\"],[0.5555555555555556,\"#d8576b\"],[0.6666666666666666,\"#ed7953\"],[0.7777777777777778,\"#fb9f3a\"],[0.8888888888888888,\"#fdca26\"],[1.0,\"#f0f921\"]],\"sequentialminus\":[[0.0,\"#0d0887\"],[0.1111111111111111,\"#46039f\"],[0.2222222222222222,\"#7201a8\"],[0.3333333333333333,\"#9c179e\"],[0.4444444444444444,\"#bd3786\"],[0.5555555555555556,\"#d8576b\"],[0.6666666666666666,\"#ed7953\"],[0.7777777777777778,\"#fb9f3a\"],[0.8888888888888888,\"#fdca26\"],[1.0,\"#f0f921\"]]},\"colorway\":[\"#636efa\",\"#EF553B\",\"#00cc96\",\"#ab63fa\",\"#FFA15A\",\"#19d3f3\",\"#FF6692\",\"#B6E880\",\"#FF97FF\",\"#FECB52\"],\"font\":{\"color\":\"#f2f5fa\"},\"geo\":{\"bgcolor\":\"rgb(17,17,17)\",\"lakecolor\":\"rgb(17,17,17)\",\"landcolor\":\"rgb(17,17,17)\",\"showlakes\":true,\"showland\":true,\"subunitcolor\":\"#506784\"},\"hoverlabel\":{\"align\":\"left\"},\"hovermode\":\"closest\",\"mapbox\":{\"style\":\"dark\"},\"paper_bgcolor\":\"rgb(17,17,17)\",\"plot_bgcolor\":\"rgb(17,17,17)\",\"polar\":{\"angularaxis\":{\"gridcolor\":\"#506784\",\"linecolor\":\"#506784\",\"ticks\":\"\"},\"bgcolor\":\"rgb(17,17,17)\",\"radialaxis\":{\"gridcolor\":\"#506784\",\"linecolor\":\"#506784\",\"ticks\":\"\"}},\"scene\":{\"xaxis\":{\"backgroundcolor\":\"rgb(17,17,17)\",\"gridcolor\":\"#506784\",\"gridwidth\":2,\"linecolor\":\"#506784\",\"showbackground\":true,\"ticks\":\"\",\"zerolinecolor\":\"#C8D4E3\"},\"yaxis\":{\"backgroundcolor\":\"rgb(17,17,17)\",\"gridcolor\":\"#506784\",\"gridwidth\":2,\"linecolor\":\"#506784\",\"showbackground\":true,\"ticks\":\"\",\"zerolinecolor\":\"#C8D4E3\"},\"zaxis\":{\"backgroundcolor\":\"rgb(17,17,17)\",\"gridcolor\":\"#506784\",\"gridwidth\":2,\"linecolor\":\"#506784\",\"showbackground\":true,\"ticks\":\"\",\"zerolinecolor\":\"#C8D4E3\"}},\"shapedefaults\":{\"line\":{\"color\":\"#f2f5fa\"}},\"sliderdefaults\":{\"bgcolor\":\"#C8D4E3\",\"bordercolor\":\"rgb(17,17,17)\",\"borderwidth\":1,\"tickwidth\":0},\"ternary\":{\"aaxis\":{\"gridcolor\":\"#506784\",\"linecolor\":\"#506784\",\"ticks\":\"\"},\"baxis\":{\"gridcolor\":\"#506784\",\"linecolor\":\"#506784\",\"ticks\":\"\"},\"bgcolor\":\"rgb(17,17,17)\",\"caxis\":{\"gridcolor\":\"#506784\",\"linecolor\":\"#506784\",\"ticks\":\"\"}},\"title\":{\"x\":0.05},\"updatemenudefaults\":{\"bgcolor\":\"#506784\",\"borderwidth\":0},\"xaxis\":{\"automargin\":true,\"gridcolor\":\"#283442\",\"linecolor\":\"#506784\",\"ticks\":\"\",\"title\":{\"standoff\":15},\"zerolinecolor\":\"#283442\",\"zerolinewidth\":2},\"yaxis\":{\"automargin\":true,\"gridcolor\":\"#283442\",\"linecolor\":\"#506784\",\"ticks\":\"\",\"title\":{\"standoff\":15},\"zerolinecolor\":\"#283442\",\"zerolinewidth\":2}}},\"width\":1000,\"xaxis\":{\"anchor\":\"y\",\"domain\":[0.0,1.0],\"title\":{\"text\":\"window\"}},\"yaxis\":{\"anchor\":\"x\",\"domain\":[0.0,1.0],\"range\":[0,10],\"title\":{\"text\":\"rr_score_max\"}}},                        {\"responsive\": true}                    ).then(function(){\n",
       "                            \n",
       "var gd = document.getElementById('bc49883e-9397-4c80-b897-3fcb205b77ec');\n",
       "var x = new MutationObserver(function (mutations, observer) {{\n",
       "        var display = window.getComputedStyle(gd).display;\n",
       "        if (!display || display === 'none') {{\n",
       "            console.log([gd, 'removed!']);\n",
       "            Plotly.purge(gd);\n",
       "            observer.disconnect();\n",
       "        }}\n",
       "}});\n",
       "\n",
       "// Listen for the removal of the full notebook cells\n",
       "var notebookContainer = gd.closest('#notebook-container');\n",
       "if (notebookContainer) {{\n",
       "    x.observe(notebookContainer, {childList: true});\n",
       "}}\n",
       "\n",
       "// Listen for the clearing of the current output cell\n",
       "var outputEl = gd.closest('.output');\n",
       "if (outputEl) {{\n",
       "    x.observe(outputEl, {childList: true});\n",
       "}}\n",
       "\n",
       "                        })                };                });            </script>        </div>"
      ]
     },
     "metadata": {},
     "output_type": "display_data"
    }
   ],
   "source": [
    "fig = px.line(g_df,\n",
    "              x='window',\n",
    "              y='rr_score_max',\n",
    "              color='result')\n",
    "fig.update_layout(\n",
    "    width=1000,\n",
    "    height = 500,\n",
    "    yaxis_range = [0,10]\n",
    ")\n",
    "fig.show()"
   ]
  }
 ],
 "metadata": {
  "kernelspec": {
   "display_name": "Python 3.8.8 ('base')",
   "language": "python",
   "name": "python3"
  },
  "language_info": {
   "codemirror_mode": {
    "name": "ipython",
    "version": 3
   },
   "file_extension": ".py",
   "mimetype": "text/x-python",
   "name": "python",
   "nbconvert_exporter": "python",
   "pygments_lexer": "ipython3",
   "version": "3.8.8"
  },
  "orig_nbformat": 4,
  "vscode": {
   "interpreter": {
    "hash": "d0d24260c26781aab6a6247b3ae992ece4f26fd75ea3713b7a84756a27d5e272"
   }
  }
 },
 "nbformat": 4,
 "nbformat_minor": 2
}
